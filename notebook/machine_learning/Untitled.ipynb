{
 "cells": [
  {
   "cell_type": "code",
   "execution_count": 1,
   "id": "3101ffcc-753d-4400-ac0d-945121243a9e",
   "metadata": {},
   "outputs": [],
   "source": [
    "def getNumIntegral(f, end_x, start_x=0, delta_x=1e-8):\n",
    "    import numpy as np\n",
    "    x = np.linspace(start_x, end_x, int((end_x - start_x) / delta_x))\n",
    "    return np.sum(f(x) * delta_x)\n",
    "\n"
   ]
  },
  {
   "cell_type": "code",
   "execution_count": 5,
   "id": "859e003e-9dc2-4e6b-9df5-1082cbe3eb76",
   "metadata": {},
   "outputs": [],
   "source": [
    "def squar(x):\n",
    "    return x**2"
   ]
  },
  {
   "cell_type": "code",
   "execution_count": 6,
   "id": "e50d9f21-2087-4e41-8b7e-60b66fc69af3",
   "metadata": {},
   "outputs": [
    {
     "data": {
      "text/plain": [
       "9.00000001499999"
      ]
     },
     "execution_count": 6,
     "metadata": {},
     "output_type": "execute_result"
    }
   ],
   "source": [
    "getNumIntegral(squar, 3)"
   ]
  },
  {
   "cell_type": "code",
   "execution_count": 7,
   "id": "432a55a0-bb87-45f9-a6c1-1e24ef415e4e",
   "metadata": {},
   "outputs": [],
   "source": [
    "def getNumDeriv(f, x, h=1e-11):\n",
    "    return (f(x + h) - f(x)) / h"
   ]
  },
  {
   "cell_type": "code",
   "execution_count": 8,
   "id": "4f51b192-85ef-43bb-82b0-b3940c69b52c",
   "metadata": {},
   "outputs": [
    {
     "data": {
      "text/plain": [
       "6.000000496442226"
      ]
     },
     "execution_count": 8,
     "metadata": {},
     "output_type": "execute_result"
    }
   ],
   "source": [
    "getNumDeriv(squar, 3)"
   ]
  },
  {
   "cell_type": "code",
   "execution_count": null,
   "id": "8dcfefbb-6c20-42fc-a60a-1e75c74ae7c6",
   "metadata": {},
   "outputs": [],
   "source": []
  }
 ],
 "metadata": {
  "kernelspec": {
   "display_name": "Python 3 (ipykernel)",
   "language": "python",
   "name": "python3"
  },
  "language_info": {
   "codemirror_mode": {
    "name": "ipython",
    "version": 3
   },
   "file_extension": ".py",
   "mimetype": "text/x-python",
   "name": "python",
   "nbconvert_exporter": "python",
   "pygments_lexer": "ipython3",
   "version": "3.11.5"
  }
 },
 "nbformat": 4,
 "nbformat_minor": 5
}
