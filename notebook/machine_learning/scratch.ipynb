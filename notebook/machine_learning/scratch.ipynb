{
 "cells": [
  {
   "cell_type": "code",
   "execution_count": 1,
   "id": "05d6fa12-51d9-41f8-924b-a37beb068ff0",
   "metadata": {},
   "outputs": [
    {
     "name": "stdout",
     "output_type": "stream",
     "text": [
      "IPython console for SymPy 1.13.3 (Python 3.13.2-64-bit) (ground types: python)\n",
      "\n",
      "These commands were executed:\n",
      ">>> from sympy import *\n",
      ">>> x, y, z, t = symbols('x y z t')\n",
      ">>> k, m, n = symbols('k m n', integer=True)\n",
      ">>> f, g, h = symbols('f g h', cls=Function)\n",
      ">>> init_printing()\n",
      "\n",
      "Documentation can be found at https://docs.sympy.org/1.13.3/\n",
      "\n"
     ]
    }
   ],
   "source": [
    "from sympy import *\n",
    "init_session()"
   ]
  },
  {
   "cell_type": "code",
   "execution_count": 2,
   "id": "78c26c6d-74b9-4dc8-93bd-c518a0da41d6",
   "metadata": {},
   "outputs": [],
   "source": [
    "a, b, c, d, o, p, q, r = symbols('a b c d o p q r')"
   ]
  },
  {
   "cell_type": "code",
   "execution_count": 3,
   "id": "a888471d-c678-4d03-94d1-1de8141ea9b0",
   "metadata": {},
   "outputs": [],
   "source": [
    "c_vec = Matrix([a, b, c])\n",
    "r_vec = Matrix([x, y, z]).T"
   ]
  },
  {
   "cell_type": "code",
   "execution_count": 4,
   "id": "82fb7630-c178-4ee8-84ed-4023415665fa",
   "metadata": {},
   "outputs": [
    {
     "name": "stdout",
     "output_type": "stream",
     "text": [
      "Matrix([[a], [b], [c]])\n",
      "Matrix([[x, y, z]])\n"
     ]
    }
   ],
   "source": [
    "print(c_vec)\n",
    "print(r_vec)"
   ]
  },
  {
   "cell_type": "code",
   "execution_count": 5,
   "id": "8fe517de-7d5a-4440-9036-7682aa4a03e7",
   "metadata": {},
   "outputs": [
    {
     "data": {
      "image/png": "[encoded data removed]",
      "text/latex": [
       "$\\displaystyle \\left[\\begin{matrix}a x + b y + c z\\end{matrix}\\right]$"
      ],
      "text/plain": [
       "[a⋅x + b⋅y + c⋅z]"
      ]
     },
     "execution_count": 5,
     "metadata": {},
     "output_type": "execute_result"
    }
   ],
   "source": [
    "r_vec @ c_vec"
   ]
  },
  {
   "cell_type": "code",
   "execution_count": 6,
   "id": "503eba88-0731-4bfd-a7b3-9284fa0dd434",
   "metadata": {},
   "outputs": [
    {
     "data": {
      "image/png": "[encoded data removed]",
      "text/latex": [
       "$\\displaystyle \\left[\\begin{matrix}a x & a y & a z\\\\b x & b y & b z\\\\c x & c y & c z\\end{matrix}\\right]$"
      ],
      "text/plain": [
       "⎡a⋅x  a⋅y  a⋅z⎤\n",
       "⎢             ⎥\n",
       "⎢b⋅x  b⋅y  b⋅z⎥\n",
       "⎢             ⎥\n",
       "⎣c⋅x  c⋅y  c⋅z⎦"
      ]
     },
     "execution_count": 6,
     "metadata": {},
     "output_type": "execute_result"
    }
   ],
   "source": [
    "c_vec @ r_vec"
   ]
  },
  {
   "cell_type": "code",
   "execution_count": 7,
   "id": "10407502-4e9f-4372-9f10-69c81449f80f",
   "metadata": {},
   "outputs": [
    {
     "data": {
      "image/png": "[encoded data removed]",
      "text/latex": [
       "$\\displaystyle \\left[\\begin{matrix}a o + b q & a p + b r\\\\c o + d q & c p + d r\\end{matrix}\\right]$"
      ],
      "text/plain": [
       "⎡a⋅o + b⋅q  a⋅p + b⋅r⎤\n",
       "⎢                    ⎥\n",
       "⎣c⋅o + d⋅q  c⋅p + d⋅r⎦"
      ]
     },
     "execution_count": 7,
     "metadata": {},
     "output_type": "execute_result"
    }
   ],
   "source": [
    "M = Matrix([a, b, c, d]).reshape(2, 2)\n",
    "N = Matrix([o, p, q, r]).reshape(2, 2)\n",
    "M @ N"
   ]
  },
  {
   "cell_type": "code",
   "execution_count": null,
   "id": "b810475c-4438-405b-980e-69fb05efc3fc",
   "metadata": {},
   "outputs": [],
   "source": []
  }
 ],
 "metadata": {
  "kernelspec": {
   "display_name": "Python 3 (ipykernel)",
   "language": "python",
   "name": "python3"
  },
  "language_info": {
   "codemirror_mode": {
    "name": "ipython",
    "version": 3
   },
   "file_extension": ".py",
   "mimetype": "text/x-python",
   "name": "python",
   "nbconvert_exporter": "python",
   "pygments_lexer": "ipython3",
   "version": "3.13.2"
  }
 },
 "nbformat": 4,
 "nbformat_minor": 5
}
