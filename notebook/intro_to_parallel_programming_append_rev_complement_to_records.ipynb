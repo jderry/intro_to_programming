{
 "cells": [
  {
   "cell_type": "markdown",
   "metadata": {},
   "source": [
    "IPython Parallel must be installed before it can be used. On the Bash shell, in your preferred conda environment, run these two commands:\n",
    "\n",
    "pip install ipyparallel\n",
    "\n",
    "for now, put only a fraction of the number of cores you have in your machine into the cluster\n",
    "if you have at least 8 cores in your machine, then 4 should be fine to start with.\n",
    "\n",
    "ipcluster start -n 4 --location=localhost\n",
    "\n",
    "By default, ipcluster will start a local cluster on your own computer, utilizing your CPU's multiple cores if available.\n",
    "\n",
    "Once it has started, launch jupter notebook.\n",
    "\n",
    "Next, we open a notebook and import Client from ipyparallel"
   ]
  },
  {
   "cell_type": "code",
   "execution_count": 1,
   "metadata": {},
   "outputs": [],
   "source": [
    "from ipyparallel import Client\n",
    "import os\n",
    "\n",
    "home_dir = home_dir = os.path.expanduser('~')"
   ]
  },
  {
   "cell_type": "code",
   "execution_count": 2,
   "metadata": {},
   "outputs": [],
   "source": [
    "with open(home_dir + '/datafile/reformatted_Unigene.fa') as inFile:\n",
    "    LoS = inFile.read().splitlines()\n",
    "    LoL = []\n",
    "    for record in LoS:\n",
    "        LoL.append(record.split())"
   ]
  },
  {
   "cell_type": "code",
   "execution_count": 3,
   "metadata": {},
   "outputs": [],
   "source": [
    "rc = Client()\n",
    "dv = rc[:]\n",
    "\n",
    "# the parallelized function,\n",
    "# which renders the reverse complement\n",
    "# from each record's data string,\n",
    "# and appends it to the end of the record\n",
    "@dv.parallel(block = True)\n",
    "def process_LoL(LoL):\n",
    "    def revCompl(nuclStr):\n",
    "        outputStr, complDict =\\\n",
    "        '', {'A':'T', 'C':'G', 'G':'C', 'T':'A', 'N':'N'}\n",
    "        for nucleotide in nuclStr:\n",
    "            outputStr = complDict[nucleotide]\\\n",
    "                    + outputStr\n",
    "        return outputStr\n",
    "        \n",
    "    for record in LoL:\n",
    "        revc = revCompl(record[6])\n",
    "        record.append(revc)\n",
    "    return LoL                \n",
    "\n",
    "\n",
    "results = process_LoL(LoL)"
   ]
  },
  {
   "cell_type": "code",
   "execution_count": 11,
   "metadata": {},
   "outputs": [
    {
     "name": "stdout",
     "output_type": "stream",
     "text": [
      "677 ms ± 41.6 ms per loop (mean ± std. dev. of 7 runs, 1 loop each)\n"
     ]
    }
   ],
   "source": [
    "# to see all the instances of python running in parallel\n",
    "# first open a terminal window and run: top\n",
    "# watch top after you start the profiling statement below:\n",
    "%timeit process_LoL(LoL)"
   ]
  }
 ],
 "metadata": {
  "kernelspec": {
   "display_name": "Python 3 (ipykernel)",
   "language": "python",
   "name": "python3"
  },
  "language_info": {
   "codemirror_mode": {
    "name": "ipython",
    "version": 3
   },
   "file_extension": ".py",
   "mimetype": "text/x-python",
   "name": "python",
   "nbconvert_exporter": "python",
   "pygments_lexer": "ipython3",
   "version": "3.13.2"
  }
 },
 "nbformat": 4,
 "nbformat_minor": 4
}
