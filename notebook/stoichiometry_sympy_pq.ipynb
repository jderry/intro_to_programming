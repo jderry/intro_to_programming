{
 "cells": [
  {
   "cell_type": "code",
   "execution_count": 1,
   "id": "94e14bce-ceaf-47ec-bb0d-ac78f2eb17a8",
   "metadata": {},
   "outputs": [
    {
     "name": "stdout",
     "output_type": "stream",
     "text": [
      "IPython console for SymPy 1.12.1 (Python 3.12.3-64-bit) (ground types: python)\n",
      "\n",
      "These commands were executed:\n",
      ">>> from sympy import *\n",
      ">>> x, y, z, t = symbols('x y z t')\n",
      ">>> k, m, n = symbols('k m n', integer=True)\n",
      ">>> f, g, h = symbols('f g h', cls=Function)\n",
      ">>> init_printing()\n",
      "\n",
      "Documentation can be found at https://docs.sympy.org/1.12.1/\n",
      "\n"
     ]
    }
   ],
   "source": [
    "from sympy import init_session\n",
    "init_session()\n",
    "import numpy as np\n",
    "from sympy.solvers.solveset import linsolve"
   ]
  },
  {
   "cell_type": "code",
   "execution_count": 3,
   "id": "b9a14ae1-64f1-4c24-8050-fe18a611deb6",
   "metadata": {},
   "outputs": [],
   "source": [
    "r = Rational(5, 2) + Rational(1, 4) + Rational(1, 1)"
   ]
  },
  {
   "cell_type": "code",
   "execution_count": 4,
   "id": "5336a427-fd9b-4bf1-9984-5aaf28c14a68",
   "metadata": {},
   "outputs": [
    {
     "name": "stdout",
     "output_type": "stream",
     "text": [
      "4\n"
     ]
    }
   ],
   "source": [
    "print(r.q)"
   ]
  },
  {
   "cell_type": "code",
   "execution_count": 5,
   "id": "90c945b8-e043-4105-82a5-c2f89b2b04a5",
   "metadata": {},
   "outputs": [
    {
     "data": {
      "image/png": "[encoded data removed]",
      "text/latex": [
       "$\\displaystyle 4.0$"
      ],
      "text/plain": [
       "4.0"
      ]
     },
     "execution_count": 5,
     "metadata": {},
     "output_type": "execute_result"
    }
   ],
   "source": [
    "(r.q / Rational(1, 1).q) * Rational(1,1).p"
   ]
  },
  {
   "cell_type": "code",
   "execution_count": 2,
   "id": "5b5c0b0c-2934-4960-aa4f-6f2141a326ad",
   "metadata": {},
   "outputs": [],
   "source": [
    "x1, x2, x3 = symbols('x1 x2 x3')"
   ]
  },
  {
   "cell_type": "code",
   "execution_count": 3,
   "id": "91a3ac83-36c7-4075-9eb4-b8b7a3c070cc",
   "metadata": {},
   "outputs": [],
   "source": [
    "A, b, x = Matrix([4, 0, -1, 0, 2, -5, 0, 0, 1]).reshape(3, 3), [0, 0, 1], (x1, x2, x3)"
   ]
  },
  {
   "cell_type": "code",
   "execution_count": 4,
   "id": "7fa27ede-2e39-47b7-8278-f1e27d24b651",
   "metadata": {},
   "outputs": [],
   "source": [
    "system = A, b"
   ]
  },
  {
   "cell_type": "code",
   "execution_count": 7,
   "id": "00646701-e3ff-4e1d-af15-544c5561c257",
   "metadata": {},
   "outputs": [
    {
     "name": "stdout",
     "output_type": "stream",
     "text": [
      "(1/4, 5/2, 1)\n"
     ]
    }
   ],
   "source": [
    "[ans] = linsolve(system, x); print(ans)"
   ]
  },
  {
   "cell_type": "code",
   "execution_count": 17,
   "id": "d1ba31be-d0ae-44c0-9291-65f5b2b32a88",
   "metadata": {},
   "outputs": [
    {
     "name": "stdout",
     "output_type": "stream",
     "text": [
      "4\n"
     ]
    }
   ],
   "source": [
    "sum = 0\n",
    "for item in ans:\n",
    "    sum = sum + item\n",
    "lcd = sum.q; print(lcd)"
   ]
  },
  {
   "cell_type": "code",
   "execution_count": 18,
   "id": "e201b477-f802-4d7b-a5e4-047a646bce34",
   "metadata": {},
   "outputs": [
    {
     "name": "stdout",
     "output_type": "stream",
     "text": [
      "[1, 10, 4]\n"
     ]
    }
   ],
   "source": [
    "sol = []\n",
    "for item in ans:\n",
    "    sol.append(int(item.p*(lcd / item.q)))\n",
    "print(sol)"
   ]
  },
  {
   "cell_type": "code",
   "execution_count": 71,
   "id": "c5f07b96-f3b7-44ee-90f4-e3167015a8f2",
   "metadata": {},
   "outputs": [
    {
     "data": {
      "image/png": "[encoded data removed]",
      "text/latex": [
       "$\\displaystyle \\left[ 1.0, \\  10.0, \\  4.0\\right]$"
      ],
      "text/plain": [
       "[1.0, 10.0, 4.0]"
      ]
     },
     "execution_count": 71,
     "metadata": {},
     "output_type": "execute_result"
    }
   ],
   "source": [
    "sol"
   ]
  },
  {
   "cell_type": "code",
   "execution_count": 10,
   "id": "f1ae214c-3175-48a1-b3dc-61a4224b8422",
   "metadata": {},
   "outputs": [
    {
     "name": "stdout",
     "output_type": "stream",
     "text": [
      "1/4\n"
     ]
    },
    {
     "data": {
      "text/plain": [
       "sympy.core.numbers.Rational"
      ]
     },
     "execution_count": 10,
     "metadata": {},
     "output_type": "execute_result"
    }
   ],
   "source": [
    "print(ans[0]); type(ans[0])"
   ]
  },
  {
   "cell_type": "code",
   "execution_count": 12,
   "id": "0e2326c5-9b5f-41f0-acd6-77a3a67ec26a",
   "metadata": {},
   "outputs": [
    {
     "name": "stdout",
     "output_type": "stream",
     "text": [
      "1\n",
      "4\n"
     ]
    }
   ],
   "source": [
    "print(ans[0].p); print(ans[0].q)"
   ]
  },
  {
   "cell_type": "code",
   "execution_count": 15,
   "id": "538b6a93-6451-43cf-a404-078874d40b63",
   "metadata": {},
   "outputs": [
    {
     "name": "stdout",
     "output_type": "stream",
     "text": [
      "15/4\n"
     ]
    }
   ],
   "source": [
    "print(ans[0] + ans[1] + ans[2])"
   ]
  },
  {
   "cell_type": "code",
   "execution_count": 16,
   "id": "ff1ca37c-95ae-40a2-8145-42895f4b54db",
   "metadata": {},
   "outputs": [
    {
     "name": "stdout",
     "output_type": "stream",
     "text": [
      "4\n"
     ]
    }
   ],
   "source": [
    "print((ans[0] + ans[1] + ans[2]).q)"
   ]
  },
  {
   "cell_type": "code",
   "execution_count": null,
   "id": "66e4dbdc-7b56-4123-948c-14f78c6c9a94",
   "metadata": {},
   "outputs": [],
   "source": []
  }
 ],
 "metadata": {
  "kernelspec": {
   "display_name": "Python 3 (ipykernel)",
   "language": "python",
   "name": "python3"
  },
  "language_info": {
   "codemirror_mode": {
    "name": "ipython",
    "version": 3
   },
   "file_extension": ".py",
   "mimetype": "text/x-python",
   "name": "python",
   "nbconvert_exporter": "python",
   "pygments_lexer": "ipython3",
   "version": "3.12.3"
  }
 },
 "nbformat": 4,
 "nbformat_minor": 5
}
