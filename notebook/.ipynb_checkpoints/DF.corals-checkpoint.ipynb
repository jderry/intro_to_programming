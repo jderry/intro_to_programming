{
 "cells": [
  {
   "cell_type": "markdown",
   "metadata": {},
   "source": [
    "<b>\"The data are microsatellite data for coral symbionts (Symbiodinium). Each DNA extraction yields a population of symbionts so these data are not diploid and therefore have more than one or two alleles per locus sometimes. We want to take these allelic data (Fragment sizes in bp lengths) and make a presence/absence dataframe so that we can use multidimensional scaling to differentiate between coral populations, since we cannot use traditional population genetic models.\"\n",
    "<p> -- dr. sarah davies </p></b>"
   ]
  },
  {
   "cell_type": "code",
   "execution_count": 2,
   "metadata": {},
   "outputs": [],
   "source": [
    "dataInput = [['sample','spp','island','site','Fam78_CA','Fam78_CA','Fam78_CA','Fam78_CA'],\n",
    "['19','A. hyacinthus','Pohnpei','south reef (Roj island)','170','172','174','0'],\n",
    "['23','A. hyacinthus','Pohnpei','south reef (Roj island)','172','174','0','0'],\n",
    "['24','A. hyacinthus','Pohnpei','south reef (Roj island)','170','176','0','0'],\n",
    "['26','A. hyacinthus','Pohnpei','south reef (Roj island)','172','174','0','0'],\n",
    "['27','A. hyacinthus','Pohnpei','south reef (Roj island)','156','176','0','0'],\n",
    "['30','A. hyacinthus','Pohnpei','south reef (Roj island)','170','176','0','0'],\n",
    "['31','A. hyacinthus','Pohnpei','south reef (Roj island)','172','174','0','0'],\n",
    "['34','A. hyacinthus','Pohnpei','south reef (Roj island)','170','176','0','0']]"
   ]
  },
  {
   "cell_type": "code",
   "execution_count": 3,
   "metadata": {},
   "outputs": [
    {
     "name": "stdout",
     "output_type": "stream",
     "text": [
      "['sample', 'spp', 'island', 'site', 'Fam78_CA', 'Fam78_CA', 'Fam78_CA', 'Fam78_CA']\n",
      "['19', 'A. hyacinthus', 'Pohnpei', 'south reef (Roj island)', '170', '172', '174', '0']\n",
      "['23', 'A. hyacinthus', 'Pohnpei', 'south reef (Roj island)', '172', '174', '0', '0']\n",
      "['24', 'A. hyacinthus', 'Pohnpei', 'south reef (Roj island)', '170', '176', '0', '0']\n",
      "['26', 'A. hyacinthus', 'Pohnpei', 'south reef (Roj island)', '172', '174', '0', '0']\n",
      "['27', 'A. hyacinthus', 'Pohnpei', 'south reef (Roj island)', '156', '176', '0', '0']\n",
      "['30', 'A. hyacinthus', 'Pohnpei', 'south reef (Roj island)', '170', '176', '0', '0']\n",
      "['31', 'A. hyacinthus', 'Pohnpei', 'south reef (Roj island)', '172', '174', '0', '0']\n",
      "['34', 'A. hyacinthus', 'Pohnpei', 'south reef (Roj island)', '170', '176', '0', '0']\n"
     ]
    }
   ],
   "source": [
    "for pprintRow in dataInput:\n",
    "    print(pprintRow)"
   ]
  },
  {
   "cell_type": "markdown",
   "metadata": {},
   "source": [
    "<b>desired output:</b>"
   ]
  },
  {
   "cell_type": "code",
   "execution_count": 4,
   "metadata": {},
   "outputs": [],
   "source": [
    "dataOutput = [['','','','','156','170','172','174','176','178'],\n",
    "['sample','spp','island','site','Fam78_CA','Fam78_CA','Fam78_CA','Fam78_CA','Fam78_CA','Fam78_CA'],\n",
    "['19','A. hyacinthus','Pohnpei','south reef','0','170','172','174','0','0'],\n",
    "['23','A. hyacinthus','Pohnpei','south reef','0','0','172','174','0','0'],\n",
    "['24','A. hyacinthus','Pohnpei','south reef','0','170','0','0','176','0'],\n",
    "['26','A. hyacinthus','Pohnpei','south reef','0','0','172','174','0','0'],\n",
    "['27','A. hyacinthus','Pohnpei','south reef','156','0','0','0','176','0'],\n",
    "['30','A. hyacinthus','Pohnpei','south reef','0','170','0','0','176','0'],\n",
    "['31','A. hyacinthus','Pohnpei','south reef','0','0','172','174','0','0'],\n",
    "['34','A. hyacinthus','Pohnpei','south reef','0','170','0','0','176','0']]"
   ]
  },
  {
   "cell_type": "code",
   "execution_count": 5,
   "metadata": {},
   "outputs": [
    {
     "name": "stdout",
     "output_type": "stream",
     "text": [
      "['', '', '', '', '156', '170', '172', '174', '176', '178']\n",
      "['sample', 'spp', 'island', 'site', 'Fam78_CA', 'Fam78_CA', 'Fam78_CA', 'Fam78_CA', 'Fam78_CA', 'Fam78_CA']\n",
      "['19', 'A. hyacinthus', 'Pohnpei', 'south reef', '0', '170', '172', '174', '0', '0']\n",
      "['23', 'A. hyacinthus', 'Pohnpei', 'south reef', '0', '0', '172', '174', '0', '0']\n",
      "['24', 'A. hyacinthus', 'Pohnpei', 'south reef', '0', '170', '0', '0', '176', '0']\n",
      "['26', 'A. hyacinthus', 'Pohnpei', 'south reef', '0', '0', '172', '174', '0', '0']\n",
      "['27', 'A. hyacinthus', 'Pohnpei', 'south reef', '156', '0', '0', '0', '176', '0']\n",
      "['30', 'A. hyacinthus', 'Pohnpei', 'south reef', '0', '170', '0', '0', '176', '0']\n",
      "['31', 'A. hyacinthus', 'Pohnpei', 'south reef', '0', '0', '172', '174', '0', '0']\n",
      "['34', 'A. hyacinthus', 'Pohnpei', 'south reef', '0', '170', '0', '0', '176', '0']\n"
     ]
    }
   ],
   "source": [
    "for pprintRow in dataOutput:\n",
    "    print(pprintRow)"
   ]
  },
  {
   "cell_type": "code",
   "execution_count": 6,
   "metadata": {},
   "outputs": [],
   "source": [
    "# this script loops over the input data list of lists many times\n",
    "# each time the script does at most one or two things\n",
    "# this keeps the processing compartmentalized, \n",
    "# making it easier to understand what's going on in each loop and\n",
    "# making it easier to maintain the code later"
   ]
  },
  {
   "cell_type": "code",
   "execution_count": 7,
   "metadata": {},
   "outputs": [],
   "source": [
    "# 1) input LoL: count how many columns hold descriptive data of the speciments\n",
    "# 2) input LoL: create the set of integers in the integer matrix & get greatest integer in the matrix\n",
    "# 3) output LoL: create empty record lists whose number matches the number of record lists in the input LoL\n",
    "# 4) input -> output LoL: write the descriptive data in the input LoL into the output LoL\n",
    "# 5) outputLoL: count from 1 to greatest integer + 1 in integer matrix of input LoL. check for match in integer set from (2).\n",
    "# .. if match, write integer to first row of outputLoL\n",
    "# 6) outputLoL: get min and max columns (by number) of yet-to-write integer matrix and\n",
    "# .. build dictionary of integer(key)/column#(value)\n",
    "# 7) output LoL: create a list that will be part of the second row of the output LoL\n",
    "# 8) outputLoL: initialize the integer matrix by filling it with zeros\n",
    "# 9) input -> output LoL: go record-by-record through the integer matrix of the input LoL, get each integer, find its column#\n",
    "# .. by the integer/column# dictionary, then write the integer into the appropriate column in the output LoL"
   ]
  },
  {
   "cell_type": "code",
   "execution_count": 8,
   "metadata": {},
   "outputs": [],
   "source": [
    "def is_number(s):\n",
    "    '''(str) -> bool\n",
    "    returns True if string is a number, else False\n",
    "\n",
    "    >>>is_number('5')\n",
    "    True\n",
    "    >>>is_number('happy')\n",
    "    False\n",
    "    '''\n",
    "    try:\n",
    "        float(s)\n",
    "        return True\n",
    "    except ValueError:\n",
    "        return False"
   ]
  },
  {
   "cell_type": "markdown",
   "metadata": {},
   "source": [
    "<b>initialization</b>"
   ]
  },
  {
   "cell_type": "code",
   "execution_count": 9,
   "metadata": {},
   "outputs": [],
   "source": [
    "recordList = ['19','A. hyacinthus','Pohnpei','south reef (Roj island)','170','172','174','0']\n",
    "fileList = dataInput"
   ]
  },
  {
   "cell_type": "markdown",
   "metadata": {},
   "source": [
    "<b>this for loop iterates over the range of the data_input list\n",
    "to get the count of columns holding record description (text)\n",
    "we'll also pick up the satellite string as bioInfo</b>"
   ]
  },
  {
   "cell_type": "code",
   "execution_count": 10,
   "metadata": {},
   "outputs": [],
   "source": [
    "recordDescriptionSet = set()\n",
    "for col in range(len(recordList)):\n",
    "    if not(col == 0 or is_number(recordList[col])):\n",
    "        recordDescriptionSet.add(recordList[col])\n",
    "descriptionColCnt = len(recordDescriptionSet) # how many columns of record descriptive text there is\n",
    "bioInfo = fileList[0][descriptionColCnt + 1]"
   ]
  },
  {
   "cell_type": "code",
   "execution_count": 11,
   "metadata": {},
   "outputs": [
    {
     "name": "stdout",
     "output_type": "stream",
     "text": [
      "Variable               Type        Data/Info\n",
      "--------------------------------------------\n",
      "HTML                   type        <class 'IPython.core.display.HTML'>\n",
      "bioInfo                str         Fam78_CA\n",
      "col                    int         7\n",
      "dataInput              list        n=9\n",
      "dataOutput             list        n=10\n",
      "descriptionColCnt      int         3\n",
      "fileList               list        n=9\n",
      "is_number              function    <function is_number at 0x7f7dcc7c1f28>\n",
      "pprintRow              list        n=10\n",
      "recordDescriptionSet   set         {'Pohnpei', 'A. hyacinthu<...>south reef (Roj island)'}\n",
      "recordList             list        n=8\n"
     ]
    }
   ],
   "source": [
    "%whos"
   ]
  },
  {
   "cell_type": "markdown",
   "metadata": {},
   "source": [
    "<b>this for loop iterates over the range of the integer matrix\n",
    "in the data_input list\n",
    "<p>PURPOSE: it gets the greatest integer and builds a set of the integers\n",
    "note the 'is_number()' function. this allows us to skip lines that\n",
    "don't start with an integer -- each record starts with an integer</p></b>"
   ]
  },
  {
   "cell_type": "code",
   "execution_count": 12,
   "metadata": {},
   "outputs": [],
   "source": [
    "superlativeInt = float('-Inf')\n",
    "intSet = set()\n",
    "for record in range(len(fileList)):\n",
    "    if is_number(fileList[record][0]):\n",
    "        for ints in range(-1, (descriptionColCnt - col - 1), -1):\n",
    "            intSet.add(fileList[record][ints])\n",
    "            #print('[' + str(record) + ']' + '[' + str(ints) + ']: ' + fileList[record][ints])\n",
    "            if int(fileList[record][ints]) > superlativeInt:\n",
    "               superlativeInt = int(fileList[record][ints])\n",
    "\n",
    "intSet.discard('0')"
   ]
  },
  {
   "cell_type": "code",
   "execution_count": 13,
   "metadata": {},
   "outputs": [
    {
     "name": "stdout",
     "output_type": "stream",
     "text": [
      "{'156', '170', '174', '172', '176'}\n"
     ]
    }
   ],
   "source": [
    "print(intSet)"
   ]
  },
  {
   "cell_type": "markdown",
   "metadata": {},
   "source": [
    "<b>this for loop populates the outputList with empty record lists,\n",
    "sizing the outputList to be equal in row count with the fileList\n",
    "once it's built, we can write to it by the 2-index method</b>"
   ]
  },
  {
   "cell_type": "code",
   "execution_count": 14,
   "metadata": {},
   "outputs": [],
   "source": [
    "outputList = []\n",
    "for record in range(len(fileList)):\n",
    "    outputList.append([])"
   ]
  },
  {
   "cell_type": "code",
   "execution_count": 15,
   "metadata": {},
   "outputs": [
    {
     "data": {
      "text/plain": [
       "[[], [], [], [], [], [], [], [], []]"
      ]
     },
     "execution_count": 15,
     "metadata": {},
     "output_type": "execute_result"
    }
   ],
   "source": [
    "outputList"
   ]
  },
  {
   "cell_type": "markdown",
   "metadata": {},
   "source": [
    "<b>this for loop builds the data records of the outputList up to, \n",
    "but not including, the integer matrix\n",
    "it also puts the file metadata into a list</b>"
   ]
  },
  {
   "cell_type": "code",
   "execution_count": 16,
   "metadata": {},
   "outputs": [],
   "source": [
    "metadataInfo = []\n",
    "for record in range(len(fileList)):\n",
    "  if is_number(fileList[record][0]):\n",
    "            for column in range(descriptionColCnt + 1):\n",
    "                    outputList[record].append(fileList[record][column])\n",
    "  else:\n",
    "            for column in range(descriptionColCnt+1):\n",
    "                    metadataInfo.append(fileList[0][column])\n",
    "                    outputList[record].append(' ')"
   ]
  },
  {
   "cell_type": "code",
   "execution_count": 17,
   "metadata": {},
   "outputs": [
    {
     "name": "stdout",
     "output_type": "stream",
     "text": [
      "Variable               Type        Data/Info\n",
      "--------------------------------------------\n",
      "HTML                   type        <class 'IPython.core.display.HTML'>\n",
      "bioInfo                str         Fam78_CA\n",
      "col                    int         7\n",
      "column                 int         3\n",
      "dataInput              list        n=9\n",
      "dataOutput             list        n=10\n",
      "descriptionColCnt      int         3\n",
      "fileList               list        n=9\n",
      "intSet                 set         {'156', '170', '174', '172', '176'}\n",
      "ints                   int         -4\n",
      "is_number              function    <function is_number at 0x7f7dcc7c1f28>\n",
      "metadataInfo           list        n=4\n",
      "outputList             list        n=9\n",
      "pprintRow              list        n=10\n",
      "record                 int         8\n",
      "recordDescriptionSet   set         {'Pohnpei', 'A. hyacinthu<...>south reef (Roj island)'}\n",
      "recordList             list        n=8\n",
      "superlativeInt         int         176\n"
     ]
    }
   ],
   "source": [
    "%whos"
   ]
  },
  {
   "cell_type": "code",
   "execution_count": 18,
   "metadata": {},
   "outputs": [
    {
     "name": "stdout",
     "output_type": "stream",
     "text": [
      "['sample', 'spp', 'island', 'site']\n",
      "[' ', ' ', ' ', ' ']\n",
      "['19', 'A. hyacinthus', 'Pohnpei', 'south reef (Roj island)']\n",
      "['23', 'A. hyacinthus', 'Pohnpei', 'south reef (Roj island)']\n",
      "['24', 'A. hyacinthus', 'Pohnpei', 'south reef (Roj island)']\n",
      "['26', 'A. hyacinthus', 'Pohnpei', 'south reef (Roj island)']\n",
      "['27', 'A. hyacinthus', 'Pohnpei', 'south reef (Roj island)']\n",
      "['30', 'A. hyacinthus', 'Pohnpei', 'south reef (Roj island)']\n",
      "['31', 'A. hyacinthus', 'Pohnpei', 'south reef (Roj island)']\n",
      "['34', 'A. hyacinthus', 'Pohnpei', 'south reef (Roj island)']\n"
     ]
    }
   ],
   "source": [
    "print(metadataInfo)\n",
    "for pprintRow in outputList:\n",
    "    print(pprintRow)"
   ]
  },
  {
   "cell_type": "markdown",
   "metadata": {},
   "source": [
    "<b>this loop iterates through integers from 1 to superlativeInt\n",
    "and checks for a match in the intSet.\n",
    "if a match exists, it writes an int to outputList[0]</b>"
   ]
  },
  {
   "cell_type": "code",
   "execution_count": 19,
   "metadata": {},
   "outputs": [],
   "source": [
    "for ints in range(1, superlativeInt + 1):\n",
    "    if str(ints) in intSet:\n",
    "        outputList[0].append(str(ints))"
   ]
  },
  {
   "cell_type": "code",
   "execution_count": 20,
   "metadata": {},
   "outputs": [
    {
     "name": "stdout",
     "output_type": "stream",
     "text": [
      "[' ', ' ', ' ', ' ', '156', '170', '172', '174', '176']\n",
      "['19', 'A. hyacinthus', 'Pohnpei', 'south reef (Roj island)']\n",
      "['23', 'A. hyacinthus', 'Pohnpei', 'south reef (Roj island)']\n",
      "['24', 'A. hyacinthus', 'Pohnpei', 'south reef (Roj island)']\n",
      "['26', 'A. hyacinthus', 'Pohnpei', 'south reef (Roj island)']\n",
      "['27', 'A. hyacinthus', 'Pohnpei', 'south reef (Roj island)']\n",
      "['30', 'A. hyacinthus', 'Pohnpei', 'south reef (Roj island)']\n",
      "['31', 'A. hyacinthus', 'Pohnpei', 'south reef (Roj island)']\n",
      "['34', 'A. hyacinthus', 'Pohnpei', 'south reef (Roj island)']\n"
     ]
    }
   ],
   "source": [
    "for pprintRow in outputList:\n",
    "    print(pprintRow)"
   ]
  },
  {
   "cell_type": "markdown",
   "metadata": {},
   "source": [
    "<b>this loop iterates through the outputList\n",
    " to get the min and max columns of the integer matrix,\n",
    " and to build a dictionary of integer->column# pairs</b>"
   ]
  },
  {
   "cell_type": "code",
   "execution_count": 21,
   "metadata": {},
   "outputs": [],
   "source": [
    "colDict = {}\n",
    "minColumn = float('Inf')\n",
    "maxColumn = float('-Inf')\n",
    "for column in range(len(outputList[0])):\n",
    "    if is_number(outputList[0][column]):\n",
    "                        colDict[outputList[0][column]] = column\n",
    "                        if column <= minColumn:\n",
    "                                    minColumn = column\n",
    "                        if column >= maxColumn:\n",
    "                                    maxColumn = column"
   ]
  },
  {
   "cell_type": "code",
   "execution_count": 22,
   "metadata": {},
   "outputs": [
    {
     "name": "stdout",
     "output_type": "stream",
     "text": [
      "4\n",
      "8\n",
      "{'170': 5, '156': 4, '176': 8, '174': 7, '172': 6}\n"
     ]
    }
   ],
   "source": [
    "print(minColumn)\n",
    "print(maxColumn)\n",
    "print(colDict)"
   ]
  },
  {
   "cell_type": "markdown",
   "metadata": {},
   "source": [
    "<b>this loop iterates through a sized row of the outputList\n",
    "and builds the bioInfoList to be inserted into the outputList\n",
    "just before printing out to file</b>"
   ]
  },
  {
   "cell_type": "code",
   "execution_count": 23,
   "metadata": {},
   "outputs": [],
   "source": [
    "bioInfoList = []\n",
    "for col in range(len(outputList[0])):\n",
    "   if col < minColumn:\n",
    "      bioInfoList.append(metadataInfo[col])\n",
    "   elif col <= maxColumn:\n",
    "      bioInfoList.append(bioInfo)"
   ]
  },
  {
   "cell_type": "code",
   "execution_count": 24,
   "metadata": {},
   "outputs": [
    {
     "name": "stdout",
     "output_type": "stream",
     "text": [
      "['sample', 'spp', 'island', 'site', 'Fam78_CA', 'Fam78_CA', 'Fam78_CA', 'Fam78_CA', 'Fam78_CA']\n"
     ]
    }
   ],
   "source": [
    "print(bioInfoList)"
   ]
  },
  {
   "cell_type": "markdown",
   "metadata": {},
   "source": [
    "<b>this loop initializes the outputList's integer matrix,\n",
    "filling it with 0s</b>"
   ]
  },
  {
   "cell_type": "code",
   "execution_count": 25,
   "metadata": {},
   "outputs": [],
   "source": [
    "for row in range(len(outputList)):\n",
    "  if is_number(outputList[row][0]):\n",
    "    for column in range(minColumn, maxColumn+1):\n",
    "        outputList[row].append('0')"
   ]
  },
  {
   "cell_type": "code",
   "execution_count": 26,
   "metadata": {},
   "outputs": [
    {
     "name": "stdout",
     "output_type": "stream",
     "text": [
      "[' ', ' ', ' ', ' ', '156', '170', '172', '174', '176']\n",
      "['19', 'A. hyacinthus', 'Pohnpei', 'south reef (Roj island)', '0', '0', '0', '0', '0']\n",
      "['23', 'A. hyacinthus', 'Pohnpei', 'south reef (Roj island)', '0', '0', '0', '0', '0']\n",
      "['24', 'A. hyacinthus', 'Pohnpei', 'south reef (Roj island)', '0', '0', '0', '0', '0']\n",
      "['26', 'A. hyacinthus', 'Pohnpei', 'south reef (Roj island)', '0', '0', '0', '0', '0']\n",
      "['27', 'A. hyacinthus', 'Pohnpei', 'south reef (Roj island)', '0', '0', '0', '0', '0']\n",
      "['30', 'A. hyacinthus', 'Pohnpei', 'south reef (Roj island)', '0', '0', '0', '0', '0']\n",
      "['31', 'A. hyacinthus', 'Pohnpei', 'south reef (Roj island)', '0', '0', '0', '0', '0']\n",
      "['34', 'A. hyacinthus', 'Pohnpei', 'south reef (Roj island)', '0', '0', '0', '0', '0']\n"
     ]
    }
   ],
   "source": [
    "for pprintRow in outputList:\n",
    "    print(pprintRow)"
   ]
  },
  {
   "cell_type": "markdown",
   "metadata": {},
   "source": [
    "<b><p>RUMPELSTILTSKIN -- here we finally get to build the output file</p>\n",
    "<p>go through each data record of the input file, through the data columns</p>\n",
    "<p>if the value in that column is greater than 0,\n",
    "pull the corresponding column\n",
    "in the output file for the integer\n",
    "from the dictionary, then write the integer in the input file[r][c]\n",
    "into the output file[r][c]</p></b>"
   ]
  },
  {
   "cell_type": "code",
   "execution_count": 27,
   "metadata": {},
   "outputs": [],
   "source": [
    "for record in range(len(fileList)):\n",
    "    if is_number(fileList[record][0]):\n",
    "                for ints in range(-1, (descriptionColCnt - len(recordList)), -1):\n",
    "                        if int(fileList[record][ints]) > 0:\n",
    "                                outputCol = colDict[fileList[record][ints]]\n",
    "                                outputList[record][outputCol] = fileList[record][ints]\n",
    "\n",
    "outputList.insert(1,bioInfoList)"
   ]
  },
  {
   "cell_type": "code",
   "execution_count": 28,
   "metadata": {},
   "outputs": [
    {
     "name": "stdout",
     "output_type": "stream",
     "text": [
      "[' ', ' ', ' ', ' ', '156', '170', '172', '174', '176']\n",
      "['sample', 'spp', 'island', 'site', 'Fam78_CA', 'Fam78_CA', 'Fam78_CA', 'Fam78_CA', 'Fam78_CA']\n",
      "['19', 'A. hyacinthus', 'Pohnpei', 'south reef (Roj island)', '0', '170', '172', '174', '0']\n",
      "['23', 'A. hyacinthus', 'Pohnpei', 'south reef (Roj island)', '0', '0', '172', '174', '0']\n",
      "['24', 'A. hyacinthus', 'Pohnpei', 'south reef (Roj island)', '0', '170', '0', '0', '176']\n",
      "['26', 'A. hyacinthus', 'Pohnpei', 'south reef (Roj island)', '0', '0', '172', '174', '0']\n",
      "['27', 'A. hyacinthus', 'Pohnpei', 'south reef (Roj island)', '156', '0', '0', '0', '176']\n",
      "['30', 'A. hyacinthus', 'Pohnpei', 'south reef (Roj island)', '0', '170', '0', '0', '176']\n",
      "['31', 'A. hyacinthus', 'Pohnpei', 'south reef (Roj island)', '0', '0', '172', '174', '0']\n",
      "['34', 'A. hyacinthus', 'Pohnpei', 'south reef (Roj island)', '0', '170', '0', '0', '176']\n"
     ]
    }
   ],
   "source": [
    "for pprintRow in outputList:\n",
    "    print(pprintRow)"
   ]
  },
  {
   "cell_type": "code",
   "execution_count": 29,
   "metadata": {},
   "outputs": [
    {
     "name": "stdout",
     "output_type": "stream",
     "text": [
      "['', '', '', '', '156', '170', '172', '174', '176', '178']\n",
      "['sample', 'spp', 'island', 'site', 'Fam78_CA', 'Fam78_CA', 'Fam78_CA', 'Fam78_CA', 'Fam78_CA', 'Fam78_CA']\n",
      "['19', 'A. hyacinthus', 'Pohnpei', 'south reef', '0', '170', '172', '174', '0', '0']\n",
      "['23', 'A. hyacinthus', 'Pohnpei', 'south reef', '0', '0', '172', '174', '0', '0']\n",
      "['24', 'A. hyacinthus', 'Pohnpei', 'south reef', '0', '170', '0', '0', '176', '0']\n",
      "['26', 'A. hyacinthus', 'Pohnpei', 'south reef', '0', '0', '172', '174', '0', '0']\n",
      "['27', 'A. hyacinthus', 'Pohnpei', 'south reef', '156', '0', '0', '0', '176', '0']\n",
      "['30', 'A. hyacinthus', 'Pohnpei', 'south reef', '0', '170', '0', '0', '176', '0']\n",
      "['31', 'A. hyacinthus', 'Pohnpei', 'south reef', '0', '0', '172', '174', '0', '0']\n",
      "['34', 'A. hyacinthus', 'Pohnpei', 'south reef', '0', '170', '0', '0', '176', '0']\n"
     ]
    }
   ],
   "source": [
    "for pprintRow in dataOutput:\n",
    "    print(pprintRow)"
   ]
  },
  {
   "cell_type": "code",
   "execution_count": null,
   "metadata": {},
   "outputs": [],
   "source": []
  }
 ],
 "metadata": {
  "kernelspec": {
   "display_name": "Python 3 (ipykernel)",
   "language": "python",
   "name": "python3"
  },
  "language_info": {
   "codemirror_mode": {
    "name": "ipython",
    "version": 3
   },
   "file_extension": ".py",
   "mimetype": "text/x-python",
   "name": "python",
   "nbconvert_exporter": "python",
   "pygments_lexer": "ipython3",
   "version": "3.12.5"
  }
 },
 "nbformat": 4,
 "nbformat_minor": 4
}
