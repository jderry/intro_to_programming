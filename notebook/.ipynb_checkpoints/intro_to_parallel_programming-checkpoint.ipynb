{
 "cells": [
  {
   "cell_type": "markdown",
   "metadata": {},
   "source": [
    "<p>IPython Parallel must be installed before it can be used. On the Bash shell, in your preferred conda environment, run these two commands:</p>\n",
    "<p>pip install ipyparallel</p>\n",
    "<p>ipcluster start -n 24</p>\n",
    "\n",
    "<p>By default, ipcluster will start a local cluster on your own computer, utilizing your CPU's multiple cores if available.</p>\n",
    "<p>Once it has started, launch jupter notebook.</p>\n",
    "<p>Next, we open a notebook and import Client from ipyparallel</p>"
   ]
  },
  {
   "cell_type": "code",
   "execution_count": null,
   "metadata": {},
   "outputs": [],
   "source": [
    "from ipyparallel import Client"
   ]
  },
  {
   "cell_type": "markdown",
   "metadata": {},
   "source": [
    "we will create an instance of a Client object to work with"
   ]
  },
  {
   "cell_type": "code",
   "execution_count": null,
   "metadata": {},
   "outputs": [],
   "source": [
    "c = Client()\n",
    "c.block = True  # use synchronous computations"
   ]
  },
  {
   "cell_type": "code",
   "execution_count": null,
   "metadata": {},
   "outputs": [],
   "source": [
    "c.ids"
   ]
  },
  {
   "cell_type": "code",
   "execution_count": null,
   "metadata": {},
   "outputs": [],
   "source": [
    "c[:].apply(lambda : \"Hello, World\")"
   ]
  },
  {
   "cell_type": "markdown",
   "metadata": {},
   "source": [
    "we can create a function..."
   ]
  },
  {
   "cell_type": "code",
   "execution_count": null,
   "metadata": {},
   "outputs": [],
   "source": [
    "def mul(a, b):\n",
    "    return a * b"
   ]
  },
  {
   "cell_type": "markdown",
   "metadata": {},
   "source": [
    "...then specify that we want it to run on a single core..."
   ]
  },
  {
   "cell_type": "code",
   "execution_count": null,
   "metadata": {},
   "outputs": [],
   "source": [
    "c[0].apply(mul, 5, 6)"
   ]
  },
  {
   "cell_type": "markdown",
   "metadata": {},
   "source": [
    "...all cores with the same input..."
   ]
  },
  {
   "cell_type": "code",
   "execution_count": null,
   "metadata": {},
   "outputs": [],
   "source": [
    "c[:].apply(mul, 5, 6)"
   ]
  },
  {
   "cell_type": "markdown",
   "metadata": {},
   "source": [
    "...or we can specify which multiple cores by using index slicing..."
   ]
  },
  {
   "cell_type": "code",
   "execution_count": null,
   "metadata": {},
   "outputs": [],
   "source": [
    "c[1:3].apply(mul, 5, 6)"
   ]
  },
  {
   "cell_type": "markdown",
   "metadata": {},
   "source": [
    "we can pass different arguments to the cores by using the map function..."
   ]
  },
  {
   "cell_type": "code",
   "execution_count": null,
   "metadata": {},
   "outputs": [],
   "source": [
    "view = c.load_balanced_view()\n",
    "view.map(mul, [5, 6, 7, 8], [8, 9, 10, 11])"
   ]
  },
  {
   "cell_type": "markdown",
   "metadata": {},
   "source": [
    "using a load-balanced view lets the IPython scheduler take care of farming the tasks for us\n",
    "\n",
    "Load Balanced View: A load balanced view allows execution of a command on any one engine. Which engine is used is up to the scheduler:"
   ]
  },
  {
   "cell_type": "markdown",
   "metadata": {},
   "source": [
    "<p>IPython client and views</p>\n",
    "<p>There is one primary object, the Client, for connecting to a cluster. For each execution model, there is a corresponding View. These views allow users to interact with a set of engines through the interface. Here are the two default views:</p>\n",
    "\n",
    "<p>*The DirectView class for explicit addressing.</p>\n",
    "<p>*The LoadBalancedView class for destination-agnostic scheduling.</p>"
   ]
  },
  {
   "cell_type": "code",
   "execution_count": null,
   "metadata": {},
   "outputs": [],
   "source": [
    "import os\n",
    "import socket\n",
    "print(os.getpid())\n",
    "print(socket.gethostname())"
   ]
  },
  {
   "cell_type": "markdown",
   "metadata": {},
   "source": [
    "The direct view is an interface in which each engine is directly exposed to the user."
   ]
  },
  {
   "cell_type": "code",
   "execution_count": null,
   "metadata": {},
   "outputs": [],
   "source": [
    "c.direct_view().apply(os.getpid)"
   ]
  },
  {
   "cell_type": "code",
   "execution_count": null,
   "metadata": {},
   "outputs": [],
   "source": [
    "def get_pid_slowly():\n",
    "    # imports in the function, otherwise these imports\n",
    "    # don't happen on the engines\n",
    "    import os\n",
    "    import time\n",
    "    import random\n",
    "    \n",
    "    # sleep up to 10 seconds\n",
    "    time.sleep(10 * random.random())\n",
    "    return os.getpid()"
   ]
  },
  {
   "cell_type": "code",
   "execution_count": null,
   "metadata": {},
   "outputs": [],
   "source": [
    "c.block = True\n",
    "c[:].apply(get_pid_slowly)"
   ]
  },
  {
   "cell_type": "code",
   "execution_count": null,
   "metadata": {},
   "outputs": [],
   "source": [
    "c.block = False\n",
    "c[:].apply(get_pid_slowly)"
   ]
  },
  {
   "cell_type": "code",
   "execution_count": null,
   "metadata": {},
   "outputs": [],
   "source": [
    "resultSet = c[:].apply(get_pid_slowly)"
   ]
  },
  {
   "cell_type": "code",
   "execution_count": null,
   "metadata": {},
   "outputs": [],
   "source": [
    "# just keep re-executing this code block...\n",
    "resultSet.ready()"
   ]
  },
  {
   "cell_type": "code",
   "execution_count": null,
   "metadata": {},
   "outputs": [],
   "source": [
    "resultSet.get()"
   ]
  },
  {
   "cell_type": "markdown",
   "metadata": {},
   "source": [
    "to import modules like numpy on all the engines in our cluster we can use..."
   ]
  },
  {
   "cell_type": "code",
   "execution_count": null,
   "metadata": {},
   "outputs": [],
   "source": [
    "c[:].execute('import numpy')"
   ]
  },
  {
   "cell_type": "markdown",
   "metadata": {},
   "source": [
    "...or..."
   ]
  },
  {
   "cell_type": "code",
   "execution_count": null,
   "metadata": {},
   "outputs": [],
   "source": [
    "with c[:].sync_imports():\n",
    "    import numpy"
   ]
  },
  {
   "cell_type": "markdown",
   "metadata": {},
   "source": [
    "...or..."
   ]
  },
  {
   "cell_type": "code",
   "execution_count": null,
   "metadata": {},
   "outputs": [],
   "source": [
    "%px import numpy"
   ]
  },
  {
   "cell_type": "markdown",
   "metadata": {},
   "source": [
    "DirectView: Scatter and Gather\n",
    "\n",
    "One very useful way to push and pull data is using the scatter() and gather() commands. This will take an array and partition it among the parallel instances:"
   ]
  },
  {
   "cell_type": "code",
   "execution_count": null,
   "metadata": {},
   "outputs": [],
   "source": [
    "c[:].scatter('a', numpy.arange(2400))\n",
    "c[:]['a']"
   ]
  },
  {
   "cell_type": "markdown",
   "metadata": {},
   "source": [
    "Notice that the contents of a are partitioned and scattered among the instances. To bring them back, we can use gather():"
   ]
  },
  {
   "cell_type": "code",
   "execution_count": null,
   "metadata": {},
   "outputs": [],
   "source": [
    "a = c[:].gather('a')\n",
    "a.get()"
   ]
  },
  {
   "cell_type": "code",
   "execution_count": null,
   "metadata": {},
   "outputs": [],
   "source": [
    "dview = c.direct_view()\n",
    "A = numpy.random.random((8, 3))\n",
    "dview.scatter('A', A)\n",
    "print(A)\n",
    "\n",
    "for chunk in dview['A']:\n",
    "    print(chunk)"
   ]
  },
  {
   "cell_type": "code",
   "execution_count": null,
   "metadata": {},
   "outputs": [],
   "source": [
    "c.block = True\n",
    "def parallel_dot(dview, A, B):\n",
    "    dview.scatter('A', A)\n",
    "    dview['B'] = B\n",
    "    dview.execute('C = numpy.dot(A, B)')\n",
    "    return dview.gather('C')\n",
    "dview = c.direct_view()\n",
    "A = numpy.random.random((1, 3))\n",
    "B = numpy.random.random((3, 1))\n",
    "\n",
    "print(A)\n",
    "print(B)\n",
    "print('')\n",
    "print(parallel_dot(dview, A, B))\n",
    "\n",
    "numpy.allclose(parallel_dot(dview, A, B),\n",
    "            numpy.dot(A, B))"
   ]
  },
  {
   "cell_type": "code",
   "execution_count": null,
   "metadata": {},
   "outputs": [],
   "source": [
    "numpy.allclose?"
   ]
  },
  {
   "cell_type": "markdown",
   "metadata": {},
   "source": [
    "monte carlo pi estimation example"
   ]
  },
  {
   "cell_type": "code",
   "execution_count": null,
   "metadata": {},
   "outputs": [],
   "source": [
    "def sample(n):\n",
    "    return (rand(n) ** 2 + rand(n) ** 2 <= 1).sum()"
   ]
  },
  {
   "cell_type": "code",
   "execution_count": null,
   "metadata": {},
   "outputs": [],
   "source": [
    "with c[:].sync_imports():\n",
    "    from numpy.random import rand"
   ]
  },
  {
   "cell_type": "code",
   "execution_count": null,
   "metadata": {},
   "outputs": [],
   "source": [
    "n = 1000000\n",
    "4 * sum(c[:].map_sync(sample, [n] * len(c[:]))) / (n * len(c[:]))"
   ]
  },
  {
   "cell_type": "code",
   "execution_count": null,
   "metadata": {},
   "outputs": [],
   "source": [
    "def mandel1(x, y, max_iters=1000):\n",
    "    c = complex(x, y)\n",
    "    z = 0.0j\n",
    "    for i in range(max_iters):\n",
    "        z = z*z + c\n",
    "        if z.real*z.real + z.imag*z.imag >= 4:\n",
    "            return i\n",
    "    return max_iters"
   ]
  },
  {
   "cell_type": "code",
   "execution_count": null,
   "metadata": {},
   "outputs": [],
   "source": [
    "rc = Client()\n",
    "dv = rc[:]\n",
    "@dv.parallel(block = True)\n",
    "def mandel2(x, y, max_iters=1000):\n",
    "    c = complex(x, y)\n",
    "    z = 0.0j\n",
    "    for i in range(max_iters):\n",
    "        z = z*z + c\n",
    "        if z.real*z.real + z.imag*z.imag >= 4:\n",
    "            return i\n",
    "    return max_iters"
   ]
  },
  {
   "cell_type": "code",
   "execution_count": null,
   "metadata": {},
   "outputs": [],
   "source": [
    "import numpy as np\n",
    "x = np.arange(-2, 1, 0.001)\n",
    "y = np.arange(-1, 1, 0.001)\n",
    "X, Y = np.meshgrid(x, y)"
   ]
  },
  {
   "cell_type": "code",
   "execution_count": null,
   "metadata": {},
   "outputs": [],
   "source": [
    "%%time\n",
    "im1 = np.reshape(list(map(mandel1, X.ravel(), Y.ravel())), (len(y), len(x)))"
   ]
  },
  {
   "cell_type": "code",
   "execution_count": null,
   "metadata": {},
   "outputs": [],
   "source": [
    "%%time\n",
    "im2 = np.reshape(mandel2.map(X.ravel(), Y.ravel()),  (len(y), len(x)))"
   ]
  },
  {
   "cell_type": "code",
   "execution_count": null,
   "metadata": {},
   "outputs": [],
   "source": [
    "import matplotlib.pyplot as plt\n",
    "fig, axes = plt.subplots(1, 2, figsize=(12, 4))\n",
    "axes[0].grid(False)\n",
    "axes[0].imshow(im1, cmap='jet')\n",
    "axes[1].grid(False)\n",
    "axes[1].imshow(im2, cmap='jet')\n",
    "plt.show()"
   ]
  },
  {
   "cell_type": "code",
   "execution_count": null,
   "metadata": {},
   "outputs": [],
   "source": []
  }
 ],
 "metadata": {
  "kernelspec": {
   "display_name": "Python 3 (ipykernel)",
   "language": "python",
   "name": "python3"
  },
  "language_info": {
   "codemirror_mode": {
    "name": "ipython",
    "version": 3
   },
   "file_extension": ".py",
   "mimetype": "text/x-python",
   "name": "python",
   "nbconvert_exporter": "python",
   "pygments_lexer": "ipython3",
   "version": "3.12.0"
  }
 },
 "nbformat": 4,
 "nbformat_minor": 4
}
