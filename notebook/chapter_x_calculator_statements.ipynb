{
 "cells": [
  {
   "cell_type": "code",
   "execution_count": 1,
   "id": "45f49a48-ba67-41cb-91fa-6c927f095a0b",
   "metadata": {},
   "outputs": [
    {
     "data": {
      "text/plain": [
       "1156"
      ]
     },
     "execution_count": 1,
     "metadata": {},
     "output_type": "execute_result"
    }
   ],
   "source": [
    "from datetime import date\n",
    "date1, date2= date(2020, 3, 11), date(2023, 5, 11)\n",
    "(date2 - date1).days"
   ]
  },
  {
   "cell_type": "code",
   "execution_count": 5,
   "id": "d3801a30-4c59-4ad6-bd8a-90fd2e493e57",
   "metadata": {
    "scrolled": true
   },
   "outputs": [
    {
     "name": "stdout",
     "output_type": "stream",
     "text": [
      "6463\n",
      "Thursday\n"
     ]
    }
   ],
   "source": [
    "from datetime import date\n",
    "date1, today = date(2007, 3, 29), date.today()\n",
    "print((today - date1).days)\n",
    "print(date1.strftime('%A'))"
   ]
  },
  {
   "cell_type": "code",
   "execution_count": 6,
   "id": "42bdb4c1-6435-4c86-ab1e-22fa8e20aa54",
   "metadata": {},
   "outputs": [
    {
     "data": {
      "text/plain": [
       "datetime.date(2013, 8, 22)"
      ]
     },
     "execution_count": 6,
     "metadata": {},
     "output_type": "execute_result"
    }
   ],
   "source": [
    "bro_birthdate = date(2010, 6, 10)\n",
    "difference = bro_birthdate - date1\n",
    "date1 + (2 * difference)"
   ]
  },
  {
   "cell_type": "code",
   "execution_count": 7,
   "id": "5913162a-74ef-4ce8-adf2-fdf33a0360e0",
   "metadata": {},
   "outputs": [
    {
     "name": "stdout",
     "output_type": "stream",
     "text": [
      "[211.5 310.2 916.5 535.8 380.7 634.5]\n"
     ]
    }
   ],
   "source": [
    "from numpy import array\n",
    "h, A, T = .47, 30, array([15, 22, 65, 38, 27, 45])\n",
    "q = h * A * T; print(q)"
   ]
  },
  {
   "cell_type": "code",
   "execution_count": 8,
   "id": "167a2cdf-adaf-4eee-af92-65514717b2fc",
   "metadata": {},
   "outputs": [
    {
     "name": "stdout",
     "output_type": "stream",
     "text": [
      "28.57%\n"
     ]
    }
   ],
   "source": [
    "nuclStr = 'gattacagattaca'\n",
    "nuclStr = nuclStr.lower()\n",
    "gc_content_per = 100 * ((nuclStr.count('g') \\\n",
    "                       + nuclStr.count('c'))\\\n",
    "                       / len(nuclStr))\n",
    "print(f\"{gc_content_per:4.2f}%\")"
   ]
  },
  {
   "cell_type": "code",
   "execution_count": 11,
   "id": "06ddaf47-875b-4d00-8a6a-119ab1d7ac7d",
   "metadata": {},
   "outputs": [
    {
     "name": "stdout",
     "output_type": "stream",
     "text": [
      "{(1/4, 5/2, 1)}\n"
     ]
    }
   ],
   "source": [
    "from sympy import *\n",
    "x1, x2, x3 = symbols('x1 x2 x3')\n",
    "A, b, x = Matrix([4, 0, -1, 0, 2, -5, 0, 0, 1]).reshape(3, 3),\\\n",
    "                (0, 0, 1), (x1, x2, x3)\n",
    "from sympy.solvers.solveset import linsolve\n",
    "system = A, b\n",
    "(ans) = linsolve(system, x); print(ans)"
   ]
  },
  {
   "cell_type": "code",
   "execution_count": 12,
   "id": "da69919c-c608-4772-9f51-dd02b4a251e1",
   "metadata": {},
   "outputs": [
    {
     "data": {
      "text/html": [
       "20.2 gram"
      ],
      "text/latex": [
       "$20.2\\ \\mathrm{gram}$"
      ],
      "text/plain": [
       "<Quantity(20.2, 'gram')>"
      ]
     },
     "execution_count": 12,
     "metadata": {},
     "output_type": "execute_result"
    }
   ],
   "source": [
    "import pint\n",
    "ur = pint.UnitRegistry()\n",
    "Q_ = ur.Quantity\n",
    "P = (1.008 * ur.bar).to('atm')\n",
    "V = (4.4 * ur.cu_ft).to('liter')\n",
    "T = Q_(78, ur.degF).to('degK')\n",
    "R = 0.0821 * ur.liter * ur.atm / (ur.mol * ur.degK)\n",
    "n = P * V / (R * T)\n",
    "g_He = n * (4 * ur.g / ur.mol)\n",
    "sigFigs, numDigInt = 3, 2\n",
    "round(g_He, (sigFigs - numDigInt))"
   ]
  },
  {
   "cell_type": "code",
   "execution_count": 15,
   "id": "4a1d4169-ed63-4252-b46c-1573fa3803ba",
   "metadata": {},
   "outputs": [
    {
     "name": "stdout",
     "output_type": "stream",
     "text": [
      "9.170e+09 erg\n"
     ]
    }
   ],
   "source": [
    "from math import log\n",
    "import pint\n",
    "ureg = pint.UnitRegistry()\n",
    "Q_ = ureg.Quantity\n",
    "m = 10 * ureg.gram\n",
    "M = 32 * ureg.gram / ureg.mole\n",
    "p_1 = 1 * ureg.atm\n",
    "p_2 = .3 * ureg.atm\n",
    "T = Q_(20, ureg.degC).to('degK')\n",
    "R = 8.314 * 10**7 * ureg.erg\\\n",
    "    / (ureg.mole * ureg.degree_Kelvin)\n",
    "L = (m / M) * R * T * log(p_1 / p_2)\n",
    "print(f\"{L:.3e}\")"
   ]
  },
  {
   "cell_type": "code",
   "execution_count": 16,
   "id": "081a604b-31dd-4c32-b28f-6784b61d04f9",
   "metadata": {},
   "outputs": [
    {
     "data": {
      "text/plain": [
       "'5.932e-03 meter / second ** 2'"
      ]
     },
     "execution_count": 16,
     "metadata": {},
     "output_type": "execute_result"
    }
   ],
   "source": [
    "import pint\n",
    "ur = pint.UnitRegistry()\n",
    "G = 6.67430e-11 * (ur.meter**3 / (ur.kilogram * ur.second**2))\n",
    "m_sun = (1.989 * 10**30 * ur.kilogram)\n",
    "r_earth = (1.496 * 10**11 * (ur.m))\n",
    "acc_sun = G * m_sun / r_earth**2\n",
    "f\"{acc_sun:.3e}\""
   ]
  },
  {
   "cell_type": "code",
   "execution_count": 17,
   "id": "0f4979d5-688f-413e-863f-f3a8de6d44a6",
   "metadata": {},
   "outputs": [
    {
     "name": "stdout",
     "output_type": "stream",
     "text": [
      "70.0 delta_decibel\n"
     ]
    }
   ],
   "source": [
    "from math import log10\n",
    "import pint\n",
    "ur = pint.UnitRegistry()\n",
    "Q_ = ur.Quantity\n",
    "Lo = Q_(110, ur.dB)\n",
    "ro = 1 * ur.cm\n",
    "r = 1 * ur.m\n",
    "L = Lo - Q_(20 * log10(r / ro), ur.dB)\n",
    "print(L)"
   ]
  },
  {
   "cell_type": "code",
   "execution_count": 29,
   "id": "e0efdb1c-a02f-4bf6-b38d-d2744490e7fc",
   "metadata": {
    "scrolled": true
   },
   "outputs": [
    {
     "name": "stdout",
     "output_type": "stream",
     "text": [
      "IPython console for SymPy 1.13.3 (Python 3.12.5-64-bit) (ground types: python)\n",
      "\n",
      "These commands were executed:\n",
      ">>> from sympy import *\n",
      ">>> x, y, z, t = symbols('x y z t')\n",
      ">>> k, m, n = symbols('k m n', integer=True)\n",
      ">>> f, g, h = symbols('f g h', cls=Function)\n",
      ">>> init_printing()\n",
      "\n",
      "Documentation can be found at https://docs.sympy.org/1.13.3/\n",
      "\n",
      "             2\n",
      "264.6 - 4.9⋅t \n",
      "[-7.34846922834953, 7.34846922834953]\n",
      "3⋅√6\n",
      "72.0149984378254\n"
     ]
    }
   ],
   "source": [
    "from sympy import init_session\n",
    "init_session()\n",
    "g, v, t = symbols('g v t')\n",
    "expr = (-(1/2) * g * t**2 + v * t + y).subs({g:9.8, v:0, y:264.6})\n",
    "pprint(expr)\n",
    "ans = solve(expr, t); print(ans)\n",
    "pprint(nsimplify(ans[1]))\n",
    "v = (g * t).subs({g:9.8, t:3*6**(1/2)}); print(v)"
   ]
  },
  {
   "cell_type": "code",
   "execution_count": 30,
   "id": "a0f6f568-9a3a-45fc-824d-fb985ada01cf",
   "metadata": {},
   "outputs": [
    {
     "data": {
      "text/html": [
       "108.1 nautical_mile"
      ],
      "text/latex": [
       "$108.1\\ \\mathrm{nautical\\_mile}$"
      ],
      "text/plain": [
       "<Quantity(108.1, 'nautical_mile')>"
      ]
     },
     "execution_count": 30,
     "metadata": {},
     "output_type": "execute_result"
    }
   ],
   "source": [
    "from numpy import rad2deg, deg2rad, sin, cos, arccos\n",
    "from pint import UnitRegistry\n",
    "ur = UnitRegistry()\n",
    "LAT_calypso = (39 * ur.arcdeg) + (51 * ur.arcmin)\n",
    "LON_calypso = (19 * ur.arcdeg) + (24 * ur.arcmin)\n",
    "LAT_ithaca = (38 * ur.arcdeg) + (22 * ur.arcmin)\n",
    "LON_ithaca = (20 * ur.arcdeg) + (43 * ur.arcmin)\n",
    "LAT_calypso, LON_calypso = deg2rad(LAT_calypso),\\\n",
    "                           deg2rad(LON_calypso)\n",
    "LAT_ithaca, LON_ithaca = deg2rad(LAT_ithaca),\\\n",
    "                         deg2rad(LON_ithaca)\n",
    "distance = rad2deg(arccos((sin(LAT_calypso) * sin(LAT_ithaca))\\\n",
    "                       +  (cos(LAT_calypso) * cos(LAT_ithaca)\\\n",
    "                       *   cos(LON_ithaca - LON_calypso)))) \\\n",
    "                       *  (60 * ur.nautical_mile / ur.arcdeg)\n",
    "sigFigs, numDigInt = 4, 3\n",
    "round(distance, (sigFigs - numDigInt))"
   ]
  },
  {
   "cell_type": "code",
   "execution_count": 31,
   "id": "6f485bfb-b6de-4527-878f-d16f7a2181d3",
   "metadata": {},
   "outputs": [
    {
     "data": {
      "image/png": "[encoded data removed]",
      "text/plain": [
       "<Figure size 640x480 with 1 Axes>"
      ]
     },
     "metadata": {},
     "output_type": "display_data"
    },
    {
     "data": {
      "text/plain": [
       "<sympy.plotting.backends.matplotlibbackend.matplotlib.MatplotlibBackend at 0x751ffb94b0e0>"
      ]
     },
     "execution_count": 31,
     "metadata": {},
     "output_type": "execute_result"
    }
   ],
   "source": [
    "from sympy import symbols, sin, cos, pi\n",
    "from sympy.plotting import plot\n",
    "t = symbols('t')\n",
    "signal = sin(2 * pi * (4 * t / 5)) \\\n",
    "       + sin(2 * pi * 3 * t) * (1 / 2) \\\n",
    "       + cos(2 * pi * t)\n",
    "plot(signal, (t, 0, pi))"
   ]
  },
  {
   "cell_type": "code",
   "execution_count": 32,
   "id": "eac27777-6124-4b4c-9ed6-4105549caec0",
   "metadata": {},
   "outputs": [
    {
     "name": "stdout",
     "output_type": "stream",
     "text": [
      "IPython console for SymPy 1.13.3 (Python 3.12.5-64-bit) (ground types: python)\n",
      "\n",
      "These commands were executed:\n",
      ">>> from sympy import *\n",
      ">>> x, y, z, t = symbols('x y z t')\n",
      ">>> k, m, n = symbols('k m n', integer=True)\n",
      ">>> f, g, h = symbols('f g h', cls=Function)\n",
      ">>> init_printing()\n",
      "\n",
      "Documentation can be found at https://docs.sympy.org/1.13.3/\n",
      "\n",
      "             2\n",
      "264.6 - 4.9⋅t \n",
      "[-7.34846922834953, 7.34846922834953]\n",
      "3⋅√6\n",
      "72.0149984378254\n"
     ]
    }
   ],
   "source": [
    "from sympy import init_session\n",
    "init_session()\n",
    "g, v, t = symbols('g v t')\n",
    "expr = (-(1/2) * g * t**2 + v * t + y).subs({g:9.8, v:0, y:264.6})\n",
    "pprint(expr)\n",
    "ans = solve(expr, t); print(ans)\n",
    "pprint(nsimplify(ans[1]))\n",
    "v = (g * t).subs({g:9.8, t:3*6**(1/2)}); print(v)"
   ]
  },
  {
   "cell_type": "code",
   "execution_count": null,
   "id": "d61a60e6-3ce1-4aa8-8e26-3e9cea984bec",
   "metadata": {},
   "outputs": [],
   "source": []
  }
 ],
 "metadata": {
  "kernelspec": {
   "display_name": "Python 3 (ipykernel)",
   "language": "python",
   "name": "python3"
  },
  "language_info": {
   "codemirror_mode": {
    "name": "ipython",
    "version": 3
   },
   "file_extension": ".py",
   "mimetype": "text/x-python",
   "name": "python",
   "nbconvert_exporter": "python",
   "pygments_lexer": "ipython3",
   "version": "3.12.5"
  }
 },
 "nbformat": 4,
 "nbformat_minor": 5
}
