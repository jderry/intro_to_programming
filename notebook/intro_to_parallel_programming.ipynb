{
 "cells": [
  {
   "cell_type": "markdown",
   "metadata": {},
   "source": [
    "<p>IPython Parallel must be installed before it can be used. On the Bash shell, in your preferred conda environment, run these two commands:</p>\n",
    "<p>pip install ipyparallel</p>\n",
    "<p>ipcluster start -n 24 --location=localhost</p>\n",
    "\n",
    "<p>By default, ipcluster will start a local cluster on your own computer, utilizing your CPU's multiple cores if available.</p>\n",
    "<p>Once it has started, launch jupter notebook.</p>\n",
    "<p>Next, we open a notebook and import Client from ipyparallel</p>"
   ]
  },
  {
   "cell_type": "code",
   "execution_count": null,
   "metadata": {},
   "outputs": [
    {
     "name": "stdout",
     "output_type": "stream",
     "text": [
      "/home/james/.localPython/bin/ipcluster:5: DeprecationWarning: Parsing dates involving a day of month without a year specified is ambiguious\n",
      "and fails to parse leap day. The default behavior will change in Python 3.15\n",
      "to either always raise an exception or to use a different default year (TBD).\n",
      "To avoid trouble, add a specific year to the input & format.\n",
      "See https://github.com/python/cpython/issues/70647.\n",
      "  from ipyparallel.cluster.app import main\n",
      "2025-04-17 16:25:42.661 [IPClusterStart] Starting ipcluster with [daemonize=False]\n",
      "2025-04-17 16:25:43.012 [IPController] Hub listening on tcp://127.0.0.1:55545 for registration.\n",
      "2025-04-17 16:25:43.013 [IPController] Hub using DB backend: DictDB\n",
      "2025-04-17 16:25:43.265 [IPController] hub::created hub\n",
      "2025-04-17 16:25:43.265 [IPController] writing connection info to /home/james/.ipython/profile_default/security/ipcontroller-client.json\n",
      "2025-04-17 16:25:43.265 [IPController] writing connection info to /home/james/.ipython/profile_default/security/ipcontroller-engine.json\n",
      "2025-04-17 16:25:43.266 [IPController] task::using Python leastload Task scheduler\n",
      "2025-04-17 16:25:43.278 [IPController] Heartmonitor beating every 3000ms\n",
      "2025-04-17 16:25:43.279 [task] Task scheduler started [leastload]\n",
      "2025-04-17 16:25:43.280 [broadcast-0] BroadcastScheduler 0 started\n",
      "2025-04-17 16:25:43.280 [IPController] client::client b'\\x00k\\x8bEg' requested 'connection_request'\n",
      "2025-04-17 16:25:43.280 [IPController] client::client [b'\\x00k\\x8bEg'] connected\n",
      "2025-04-17 16:25:43.280 [broadcast-01] BroadcastScheduler 01 started\n",
      "2025-04-17 16:25:43.281 [broadcast-00] BroadcastScheduler 00 started\n",
      "2025-04-17 16:25:43.282 [IPController] heartbeat::waiting for subscription\n",
      "2025-04-17 16:25:43.282 [IPController] heartbeat::subscription started\n",
      "2025-04-17 16:25:43.683 [IPClusterStart] Starting 24 engines with <class 'ipyparallel.cluster.launcher.LocalEngineSetLauncher'>\n",
      "2025-04-17 16:25:44.007 [IPController] client::client b'e9a07efd-6c867286092676b4a33a9a2b' requested 'registration_request'\n",
      "2025-04-17 16:25:44.008 [IPController] registration::accepting registration 0:e9a07efd-6c867286092676b4a33a9a2b\n",
      "2025-04-17 16:25:44.004 [IPEngine] Loading connection info from $IPP_CONNECTION_INFO\n",
      "2025-04-17 16:25:44.005 [IPEngine] WARNING | Not using CurveZMQ security\n",
      "2025-04-17 16:25:44.006 [IPEngine] Registering with controller at tcp://127.0.0.1:55545\n",
      "2025-04-17 16:25:44.008 [IPEngine.0] Shell_addrs: ['tcp://127.0.0.1:35041', 'tcp://127.0.0.1:44551', 'tcp://127.0.0.1:37205']\n",
      "2025-04-17 16:25:44.008 [IPEngine.0] Connecting shell to tcp://127.0.0.1:35041\n",
      "2025-04-17 16:25:44.008 [IPEngine.0] Connecting shell to tcp://127.0.0.1:44551\n",
      "2025-04-17 16:25:44.008 [IPEngine.0] Connecting shell to tcp://127.0.0.1:37205\n",
      "2025-04-17 16:25:44.008 [IPEngine.0] Starting nanny\n",
      "2025-04-17 16:25:44.119 [IPController] client::client b'8118c1bf-32daf6fdd7148ffae61093b0' requested 'registration_request'\n",
      "2025-04-17 16:25:44.120 [IPController] registration::accepting registration 1:8118c1bf-32daf6fdd7148ffae61093b0\n",
      "2025-04-17 16:25:44.117 [IPEngine] Loading connection info from $IPP_CONNECTION_INFO\n",
      "2025-04-17 16:25:44.117 [IPEngine] WARNING | Not using CurveZMQ security\n",
      "2025-04-17 16:25:44.118 [IPEngine] Registering with controller at tcp://127.0.0.1:55545\n",
      "2025-04-17 16:25:44.120 [IPEngine.1] Shell_addrs: ['tcp://127.0.0.1:35041', 'tcp://127.0.0.1:44551', 'tcp://127.0.0.1:58171']\n",
      "2025-04-17 16:25:44.121 [IPEngine.1] Connecting shell to tcp://127.0.0.1:35041\n",
      "2025-04-17 16:25:44.121 [IPEngine.1] Connecting shell to tcp://127.0.0.1:44551\n",
      "2025-04-17 16:25:44.121 [IPEngine.1] Connecting shell to tcp://127.0.0.1:58171\n",
      "2025-04-17 16:25:44.121 [IPEngine.1] Starting nanny\n",
      "2025-04-17 16:25:44.212 [IPController] client::client b'52c63877-810c2da97997e7624433150f' requested 'registration_request'\n",
      "2025-04-17 16:25:44.213 [IPController] registration::accepting registration 2:52c63877-810c2da97997e7624433150f\n",
      "2025-04-17 16:25:44.210 [IPEngine] Loading connection info from $IPP_CONNECTION_INFO\n",
      "2025-04-17 16:25:44.210 [IPEngine] WARNING | Not using CurveZMQ security\n",
      "2025-04-17 16:25:44.211 [IPEngine] Registering with controller at tcp://127.0.0.1:55545\n",
      "2025-04-17 16:25:44.213 [IPEngine.2] Shell_addrs: ['tcp://127.0.0.1:35041', 'tcp://127.0.0.1:44551', 'tcp://127.0.0.1:37205']\n",
      "2025-04-17 16:25:44.213 [IPEngine.2] Connecting shell to tcp://127.0.0.1:35041\n",
      "2025-04-17 16:25:44.213 [IPEngine.2] Connecting shell to tcp://127.0.0.1:44551\n",
      "2025-04-17 16:25:44.213 [IPEngine.2] Connecting shell to tcp://127.0.0.1:37205\n",
      "2025-04-17 16:25:44.213 [IPEngine.2] Starting nanny\n",
      "2025-04-17 16:25:44.329 [IPController] client::client b'be5ef65f-4d968c7d884967db4f122e6e' requested 'registration_request'\n",
      "2025-04-17 16:25:44.329 [IPController] registration::accepting registration 3:be5ef65f-4d968c7d884967db4f122e6e\n",
      "2025-04-17 16:25:44.316 [KernelNanny.0] Starting kernel nanny for engine 0, pid=61593, nanny pid=61607\n",
      "2025-04-17 16:25:44.316 [KernelNanny.0] Nanny watching parent pid 61593.\n",
      "2025-04-17 16:25:44.372 [IPEngine.0] Loading IPython extension: storemagic\n",
      "2025-04-17 16:25:44.375 [IPEngine.0] WARNING | debugpy_stream undefined, debugging will not be enabled\n",
      "2025-04-17 16:25:44.376 [IPEngine.0] Starting to monitor the heartbeat signal from the hub every 3500 ms.\n",
      "2025-04-17 16:25:44.377 [IPEngine.0] Completed registration with id 0\n",
      "2025-04-17 16:25:44.326 [IPEngine] Loading connection info from $IPP_CONNECTION_INFO\n",
      "2025-04-17 16:25:44.326 [IPEngine] WARNING | Not using CurveZMQ security\n",
      "2025-04-17 16:25:44.327 [IPEngine] Registering with controller at tcp://127.0.0.1:55545\n",
      "2025-04-17 16:25:44.329 [IPEngine.3] Shell_addrs: ['tcp://127.0.0.1:35041', 'tcp://127.0.0.1:44551', 'tcp://127.0.0.1:58171']\n",
      "2025-04-17 16:25:44.329 [IPEngine.3] Connecting shell to tcp://127.0.0.1:35041\n",
      "2025-04-17 16:25:44.329 [IPEngine.3] Connecting shell to tcp://127.0.0.1:44551\n",
      "2025-04-17 16:25:44.329 [IPEngine.3] Connecting shell to tcp://127.0.0.1:58171\n",
      "2025-04-17 16:25:44.329 [IPEngine.3] Starting nanny\n",
      "2025-04-17 16:25:44.421 [IPController] client::client b'34e2d3b4-6a5070b6c5bf67706e799492' requested 'registration_request'\n",
      "2025-04-17 16:25:44.421 [IPController] registration::accepting registration 4:34e2d3b4-6a5070b6c5bf67706e799492\n",
      "2025-04-17 16:25:44.418 [IPEngine] Loading connection info from $IPP_CONNECTION_INFO\n",
      "2025-04-17 16:25:44.419 [IPEngine] WARNING | Not using CurveZMQ security\n",
      "2025-04-17 16:25:44.420 [IPEngine] Registering with controller at tcp://127.0.0.1:55545\n",
      "2025-04-17 16:25:44.422 [IPEngine.4] Shell_addrs: ['tcp://127.0.0.1:35041', 'tcp://127.0.0.1:44551', 'tcp://127.0.0.1:37205']\n",
      "2025-04-17 16:25:44.422 [IPEngine.4] Connecting shell to tcp://127.0.0.1:35041\n",
      "2025-04-17 16:25:44.422 [IPEngine.4] Connecting shell to tcp://127.0.0.1:44551\n",
      "2025-04-17 16:25:44.422 [IPEngine.4] Connecting shell to tcp://127.0.0.1:37205\n",
      "2025-04-17 16:25:44.422 [IPEngine.4] Starting nanny\n",
      "2025-04-17 16:25:44.551 [IPController] client::client b'8487fb21-c80725a9725ecc8cdc6e1d24' requested 'registration_request'\n",
      "2025-04-17 16:25:44.552 [IPController] registration::accepting registration 5:8487fb21-c80725a9725ecc8cdc6e1d24\n",
      "2025-04-17 16:25:44.579 [KernelNanny.1] Starting kernel nanny for engine 1, pid=61596, nanny pid=61613\n",
      "2025-04-17 16:25:44.579 [KernelNanny.1] Nanny watching parent pid 61596.\n",
      "2025-04-17 16:25:44.551 [KernelNanny.2] Starting kernel nanny for engine 2, pid=61599, nanny pid=61619\n",
      "2025-04-17 16:25:44.551 [KernelNanny.2] Nanny watching parent pid 61599.\n",
      "2025-04-17 16:25:44.549 [IPEngine] Loading connection info from $IPP_CONNECTION_INFO\n",
      "2025-04-17 16:25:44.549 [IPEngine] WARNING | Not using CurveZMQ security\n",
      "2025-04-17 16:25:44.550 [IPEngine] Registering with controller at tcp://127.0.0.1:55545\n",
      "2025-04-17 16:25:44.552 [IPEngine.5] Shell_addrs: ['tcp://127.0.0.1:35041', 'tcp://127.0.0.1:44551', 'tcp://127.0.0.1:58171']\n",
      "2025-04-17 16:25:44.552 [IPEngine.5] Connecting shell to tcp://127.0.0.1:35041\n",
      "2025-04-17 16:25:44.552 [IPEngine.5] Connecting shell to tcp://127.0.0.1:44551\n",
      "2025-04-17 16:25:44.552 [IPEngine.5] Connecting shell to tcp://127.0.0.1:58171\n",
      "2025-04-17 16:25:44.552 [IPEngine.5] Starting nanny\n",
      "2025-04-17 16:25:44.639 [IPEngine.1] Loading IPython extension: storemagic\n",
      "2025-04-17 16:25:44.640 [IPEngine.1] WARNING | debugpy_stream undefined, debugging will not be enabled\n",
      "2025-04-17 16:25:44.642 [IPEngine.1] Starting to monitor the heartbeat signal from the hub every 3500 ms.\n",
      "2025-04-17 16:25:44.642 [IPEngine.1] Completed registration with id 1\n",
      "2025-04-17 16:25:44.604 [IPEngine.2] Loading IPython extension: storemagic\n",
      "2025-04-17 16:25:44.605 [IPEngine.2] WARNING | debugpy_stream undefined, debugging will not be enabled\n",
      "2025-04-17 16:25:44.608 [IPEngine.2] Starting to monitor the heartbeat signal from the hub every 3500 ms.\n",
      "2025-04-17 16:25:44.608 [IPEngine.2] Completed registration with id 2\n",
      "2025-04-17 16:25:44.661 [KernelNanny.3] Starting kernel nanny for engine 3, pid=61602, nanny pid=61630\n",
      "2025-04-17 16:25:44.661 [KernelNanny.3] Nanny watching parent pid 61602.\n",
      "2025-04-17 16:25:44.729 [IPController] client::client b'defd861e-e8a5505816f2f4270792959a' requested 'registration_request'\n",
      "2025-04-17 16:25:44.729 [IPController] registration::accepting registration 6:defd861e-e8a5505816f2f4270792959a\n",
      "2025-04-17 16:25:44.744 [IPController] client::client b'57c72992-b1001250a5d8c2ec9c17f5a5' requested 'registration_request'\n",
      "2025-04-17 16:25:44.745 [IPController] registration::accepting registration 7:57c72992-b1001250a5d8c2ec9c17f5a5\n",
      "2025-04-17 16:25:44.713 [IPEngine.3] Loading IPython extension: storemagic\n",
      "2025-04-17 16:25:44.715 [IPEngine.3] WARNING | debugpy_stream undefined, debugging will not be enabled\n",
      "2025-04-17 16:25:44.717 [IPEngine.3] Starting to monitor the heartbeat signal from the hub every 3500 ms.\n",
      "2025-04-17 16:25:44.717 [IPEngine.3] Completed registration with id 3\n",
      "2025-04-17 16:25:44.746 [KernelNanny.4] Starting kernel nanny for engine 4, pid=61608, nanny pid=61644\n",
      "2025-04-17 16:25:44.746 [KernelNanny.4] Nanny watching parent pid 61608.\n",
      "2025-04-17 16:25:44.790 [IPEngine.4] Loading IPython extension: storemagic\n",
      "2025-04-17 16:25:44.792 [IPEngine.4] WARNING | debugpy_stream undefined, debugging will not be enabled\n",
      "2025-04-17 16:25:44.794 [IPEngine.4] Starting to monitor the heartbeat signal from the hub every 3500 ms.\n",
      "2025-04-17 16:25:44.794 [IPEngine.4] Completed registration with id 4\n",
      "2025-04-17 16:25:44.742 [IPEngine] Loading connection info from $IPP_CONNECTION_INFO\n",
      "2025-04-17 16:25:44.742 [IPEngine] WARNING | Not using CurveZMQ security\n",
      "2025-04-17 16:25:44.743 [IPEngine] Registering with controller at tcp://127.0.0.1:55545\n",
      "2025-04-17 16:25:44.745 [IPEngine.7] Shell_addrs: ['tcp://127.0.0.1:35041', 'tcp://127.0.0.1:44551', 'tcp://127.0.0.1:58171']\n",
      "2025-04-17 16:25:44.745 [IPEngine.7] Connecting shell to tcp://127.0.0.1:35041\n",
      "2025-04-17 16:25:44.745 [IPEngine.7] Connecting shell to tcp://127.0.0.1:44551\n",
      "2025-04-17 16:25:44.745 [IPEngine.7] Connecting shell to tcp://127.0.0.1:58171\n",
      "2025-04-17 16:25:44.745 [IPEngine.7] Starting nanny\n",
      "2025-04-17 16:25:44.727 [IPEngine] Loading connection info from $IPP_CONNECTION_INFO\n",
      "2025-04-17 16:25:44.727 [IPEngine] WARNING | Not using CurveZMQ security\n",
      "2025-04-17 16:25:44.728 [IPEngine] Registering with controller at tcp://127.0.0.1:55545\n",
      "2025-04-17 16:25:44.730 [IPEngine.6] Shell_addrs: ['tcp://127.0.0.1:35041', 'tcp://127.0.0.1:44551', 'tcp://127.0.0.1:37205']\n",
      "2025-04-17 16:25:44.730 [IPEngine.6] Connecting shell to tcp://127.0.0.1:35041\n",
      "2025-04-17 16:25:44.730 [IPEngine.6] Connecting shell to tcp://127.0.0.1:44551\n",
      "2025-04-17 16:25:44.730 [IPEngine.6] Connecting shell to tcp://127.0.0.1:37205\n",
      "2025-04-17 16:25:44.730 [IPEngine.6] Starting nanny\n",
      "2025-04-17 16:25:44.837 [IPController] client::client b'21c209e7-5e3503458172478f302de115' requested 'registration_request'\n",
      "2025-04-17 16:25:44.837 [IPController] registration::accepting registration 8:21c209e7-5e3503458172478f302de115\n",
      "2025-04-17 16:25:44.834 [IPEngine] Loading connection info from $IPP_CONNECTION_INFO\n",
      "2025-04-17 16:25:44.834 [IPEngine] WARNING | Not using CurveZMQ security\n",
      "2025-04-17 16:25:44.835 [IPEngine] Registering with controller at tcp://127.0.0.1:55545\n",
      "2025-04-17 16:25:44.837 [IPEngine.8] Shell_addrs: ['tcp://127.0.0.1:35041', 'tcp://127.0.0.1:44551', 'tcp://127.0.0.1:37205']\n",
      "2025-04-17 16:25:44.838 [IPEngine.8] Connecting shell to tcp://127.0.0.1:35041\n",
      "2025-04-17 16:25:44.838 [IPEngine.8] Connecting shell to tcp://127.0.0.1:44551\n",
      "2025-04-17 16:25:44.838 [IPEngine.8] Connecting shell to tcp://127.0.0.1:37205\n",
      "2025-04-17 16:25:44.838 [IPEngine.8] Starting nanny\n",
      "2025-04-17 16:25:44.909 [KernelNanny.5] Starting kernel nanny for engine 5, pid=61614, nanny pid=61660\n",
      "2025-04-17 16:25:44.909 [KernelNanny.5] Nanny watching parent pid 61614.\n",
      "2025-04-17 16:25:44.953 [IPEngine.5] Loading IPython extension: storemagic\n",
      "2025-04-17 16:25:44.954 [IPEngine.5] WARNING | debugpy_stream undefined, debugging will not be enabled\n",
      "2025-04-17 16:25:44.956 [IPEngine.5] Starting to monitor the heartbeat signal from the hub every 3500 ms.\n",
      "2025-04-17 16:25:44.956 [IPEngine.5] Completed registration with id 5\n",
      "2025-04-17 16:25:44.973 [IPEngine] Loading connection info from $IPP_CONNECTION_INFO\n",
      "2025-04-17 16:25:44.973 [IPEngine] WARNING | Not using CurveZMQ security\n",
      "2025-04-17 16:25:44.975 [IPEngine] Registering with controller at tcp://127.0.0.1:55545\n",
      "2025-04-17 16:25:44.976 [IPEngine.9] Shell_addrs: ['tcp://127.0.0.1:35041', 'tcp://127.0.0.1:44551', 'tcp://127.0.0.1:58171']\n",
      "2025-04-17 16:25:44.976 [IPEngine.9] Connecting shell to tcp://127.0.0.1:35041\n",
      "2025-04-17 16:25:44.977 [IPEngine.9] Connecting shell to tcp://127.0.0.1:44551\n",
      "2025-04-17 16:25:44.977 [IPEngine.9] Connecting shell to tcp://127.0.0.1:58171\n",
      "2025-04-17 16:25:44.977 [IPEngine.9] Starting nanny\n",
      "2025-04-17 16:25:44.976 [IPController] client::client b'afdfb8ae-ac3149ca9279cb5f25f237b5' requested 'registration_request'\n",
      "2025-04-17 16:25:44.977 [IPController] registration::accepting registration 9:afdfb8ae-ac3149ca9279cb5f25f237b5\n",
      "2025-04-17 16:25:45.057 [IPController] client::client b'1d5ba270-6f840a079949996db4b8a902' requested 'registration_request'\n",
      "2025-04-17 16:25:45.057 [IPController] registration::accepting registration 10:1d5ba270-6f840a079949996db4b8a902\n",
      "2025-04-17 16:25:45.070 [KernelNanny.6] Starting kernel nanny for engine 6, pid=61639, nanny pid=61699\n",
      "2025-04-17 16:25:45.071 [KernelNanny.6] Nanny watching parent pid 61639.\n",
      "2025-04-17 16:25:45.055 [IPEngine] Loading connection info from $IPP_CONNECTION_INFO\n",
      "2025-04-17 16:25:45.055 [IPEngine] WARNING | Not using CurveZMQ security\n",
      "2025-04-17 16:25:45.056 [IPEngine] Registering with controller at tcp://127.0.0.1:55545\n",
      "2025-04-17 16:25:45.058 [IPEngine.10] Shell_addrs: ['tcp://127.0.0.1:35041', 'tcp://127.0.0.1:44551', 'tcp://127.0.0.1:37205']\n",
      "2025-04-17 16:25:45.058 [IPEngine.10] Connecting shell to tcp://127.0.0.1:35041\n",
      "2025-04-17 16:25:45.058 [IPEngine.10] Connecting shell to tcp://127.0.0.1:44551\n",
      "2025-04-17 16:25:45.058 [IPEngine.10] Connecting shell to tcp://127.0.0.1:37205\n",
      "2025-04-17 16:25:45.058 [IPEngine.10] Starting nanny\n",
      "2025-04-17 16:25:45.104 [KernelNanny.7] Starting kernel nanny for engine 7, pid=61620, nanny pid=61702\n",
      "2025-04-17 16:25:45.104 [KernelNanny.7] Nanny watching parent pid 61620.\n",
      "2025-04-17 16:25:45.180 [IPEngine.7] Loading IPython extension: storemagic\n",
      "2025-04-17 16:25:45.182 [IPEngine.7] WARNING | debugpy_stream undefined, debugging will not be enabled\n",
      "2025-04-17 16:25:45.184 [IPEngine.7] Starting to monitor the heartbeat signal from the hub every 3500 ms.\n",
      "2025-04-17 16:25:45.185 [IPEngine.7] Completed registration with id 7\n",
      "2025-04-17 16:25:45.135 [IPEngine.6] Loading IPython extension: storemagic\n",
      "2025-04-17 16:25:45.137 [IPEngine.6] WARNING | debugpy_stream undefined, debugging will not be enabled\n",
      "2025-04-17 16:25:45.139 [IPEngine.6] Starting to monitor the heartbeat signal from the hub every 3500 ms.\n",
      "2025-04-17 16:25:45.139 [IPEngine.6] Completed registration with id 6\n",
      "2025-04-17 16:25:45.233 [IPController] client::client b'eee82eee-c8aa25d786d2aec0ca0fd648' requested 'registration_request'\n",
      "2025-04-17 16:25:45.233 [IPController] registration::accepting registration 11:eee82eee-c8aa25d786d2aec0ca0fd648\n",
      "2025-04-17 16:25:45.206 [KernelNanny.8] Starting kernel nanny for engine 8, pid=61652, nanny pid=61719\n",
      "2025-04-17 16:25:45.206 [KernelNanny.8] Nanny watching parent pid 61652.\n",
      "2025-04-17 16:25:45.279 [IPEngine.8] Loading IPython extension: storemagic\n",
      "2025-04-17 16:25:45.281 [IPEngine.8] WARNING | debugpy_stream undefined, debugging will not be enabled\n",
      "2025-04-17 16:25:45.283 [IPEngine.8] Starting to monitor the heartbeat signal from the hub every 3500 ms.\n",
      "2025-04-17 16:25:45.283 [IPEngine.8] Completed registration with id 8\n",
      "2025-04-17 16:25:45.296 [KernelNanny.9] Starting kernel nanny for engine 9, pid=61669, nanny pid=61736\n",
      "2025-04-17 16:25:45.296 [KernelNanny.9] Nanny watching parent pid 61669.\n",
      "2025-04-17 16:25:45.304 [IPEngine] Loading connection info from $IPP_CONNECTION_INFO\n",
      "2025-04-17 16:25:45.304 [IPEngine] WARNING | Not using CurveZMQ security\n",
      "2025-04-17 16:25:45.230 [IPEngine] Loading connection info from $IPP_CONNECTION_INFO\n",
      "2025-04-17 16:25:45.230 [IPEngine] WARNING | Not using CurveZMQ security\n",
      "2025-04-17 16:25:45.231 [IPEngine] Registering with controller at tcp://127.0.0.1:55545\n",
      "2025-04-17 16:25:45.233 [IPEngine.11] Shell_addrs: ['tcp://127.0.0.1:35041', 'tcp://127.0.0.1:44551', 'tcp://127.0.0.1:58171']\n",
      "2025-04-17 16:25:45.233 [IPEngine.11] Connecting shell to tcp://127.0.0.1:35041\n",
      "2025-04-17 16:25:45.234 [IPEngine.11] Connecting shell to tcp://127.0.0.1:44551\n",
      "2025-04-17 16:25:45.234 [IPEngine.11] Connecting shell to tcp://127.0.0.1:58171\n",
      "2025-04-17 16:25:45.234 [IPEngine.11] Starting nanny\n",
      "2025-04-17 16:25:45.307 [IPController] client::client b'35afe1f8-0150f738b0f1d81ea4b095bd' requested 'registration_request'\n",
      "2025-04-17 16:25:45.308 [IPController] registration::accepting registration 12:35afe1f8-0150f738b0f1d81ea4b095bd\n",
      "2025-04-17 16:25:45.363 [IPEngine.9] Loading IPython extension: storemagic\n",
      "2025-04-17 16:25:45.364 [IPEngine.9] WARNING | debugpy_stream undefined, debugging will not be enabled\n",
      "2025-04-17 16:25:45.366 [IPEngine.9] Starting to monitor the heartbeat signal from the hub every 3500 ms.\n",
      "2025-04-17 16:25:45.366 [IPEngine.9] Completed registration with id 9\n",
      "2025-04-17 16:25:45.400 [KernelNanny.10] Starting kernel nanny for engine 10, pid=61689, nanny pid=61742\n",
      "2025-04-17 16:25:45.400 [KernelNanny.10] Nanny watching parent pid 61689.\n",
      "2025-04-17 16:25:45.306 [IPEngine] Registering with controller at tcp://127.0.0.1:55545\n",
      "2025-04-17 16:25:45.308 [IPEngine.12] Shell_addrs: ['tcp://127.0.0.1:35041', 'tcp://127.0.0.1:44551', 'tcp://127.0.0.1:37205']\n",
      "2025-04-17 16:25:45.309 [IPEngine.12] Connecting shell to tcp://127.0.0.1:35041\n",
      "2025-04-17 16:25:45.309 [IPEngine.12] Connecting shell to tcp://127.0.0.1:44551\n",
      "2025-04-17 16:25:45.309 [IPEngine.12] Connecting shell to tcp://127.0.0.1:37205\n",
      "2025-04-17 16:25:45.309 [IPEngine.12] Starting nanny\n",
      "2025-04-17 16:25:45.352 [IPEngine] Loading connection info from $IPP_CONNECTION_INFO\n",
      "2025-04-17 16:25:45.352 [IPEngine] WARNING | Not using CurveZMQ security\n",
      "2025-04-17 16:25:45.353 [IPEngine] Registering with controller at tcp://127.0.0.1:55545\n",
      "2025-04-17 16:25:45.372 [IPEngine.13] Shell_addrs: ['tcp://127.0.0.1:35041', 'tcp://127.0.0.1:44551', 'tcp://127.0.0.1:58171']\n",
      "2025-04-17 16:25:45.372 [IPEngine.13] Connecting shell to tcp://127.0.0.1:35041\n",
      "2025-04-17 16:25:45.372 [IPEngine.13] Connecting shell to tcp://127.0.0.1:44551\n",
      "2025-04-17 16:25:45.372 [IPEngine.13] Connecting shell to tcp://127.0.0.1:58171\n",
      "2025-04-17 16:25:45.373 [IPEngine.13] Starting nanny\n",
      "2025-04-17 16:25:45.371 [IPController] client::client b'eb51920d-7421733deba504c3d37bfbeb' requested 'registration_request'\n",
      "2025-04-17 16:25:45.371 [IPController] registration::accepting registration 13:eb51920d-7421733deba504c3d37bfbeb\n",
      "2025-04-17 16:25:45.460 [IPController] client::client b'15da7cfc-8e24bfdf0223649c92277cb2' requested 'registration_request'\n",
      "2025-04-17 16:25:45.460 [IPController] registration::accepting registration 14:15da7cfc-8e24bfdf0223649c92277cb2\n",
      "2025-04-17 16:25:45.454 [IPEngine.10] Loading IPython extension: storemagic\n",
      "2025-04-17 16:25:45.456 [IPEngine.10] WARNING | debugpy_stream undefined, debugging will not be enabled\n",
      "2025-04-17 16:25:45.458 [IPEngine.10] Starting to monitor the heartbeat signal from the hub every 3500 ms.\n",
      "2025-04-17 16:25:45.458 [IPEngine.10] Completed registration with id 10\n",
      "2025-04-17 16:25:45.457 [IPEngine] Loading connection info from $IPP_CONNECTION_INFO\n",
      "2025-04-17 16:25:45.457 [IPEngine] WARNING | Not using CurveZMQ security\n",
      "2025-04-17 16:25:45.459 [IPEngine] Registering with controller at tcp://127.0.0.1:55545\n",
      "2025-04-17 16:25:45.461 [IPEngine.14] Shell_addrs: ['tcp://127.0.0.1:35041', 'tcp://127.0.0.1:44551', 'tcp://127.0.0.1:37205']\n",
      "2025-04-17 16:25:45.461 [IPEngine.14] Connecting shell to tcp://127.0.0.1:35041\n",
      "2025-04-17 16:25:45.461 [IPEngine.14] Connecting shell to tcp://127.0.0.1:44551\n",
      "2025-04-17 16:25:45.461 [IPEngine.14] Connecting shell to tcp://127.0.0.1:37205\n",
      "2025-04-17 16:25:45.461 [IPEngine.14] Starting nanny\n",
      "2025-04-17 16:25:45.561 [IPController] client::client b'70ddbcf6-910e7d886589f30ff396fca8' requested 'registration_request'\n",
      "2025-04-17 16:25:45.562 [IPController] registration::accepting registration 15:70ddbcf6-910e7d886589f30ff396fca8\n",
      "2025-04-17 16:25:45.583 [KernelNanny.11] Starting kernel nanny for engine 11, pid=61720, nanny pid=61778\n",
      "2025-04-17 16:25:45.583 [KernelNanny.11] Nanny watching parent pid 61720.\n",
      "2025-04-17 16:25:45.559 [IPEngine] Loading connection info from $IPP_CONNECTION_INFO\n",
      "2025-04-17 16:25:45.559 [IPEngine] WARNING | Not using CurveZMQ security\n",
      "2025-04-17 16:25:45.560 [IPEngine] Registering with controller at tcp://127.0.0.1:55545\n",
      "2025-04-17 16:25:45.562 [IPEngine.15] Shell_addrs: ['tcp://127.0.0.1:35041', 'tcp://127.0.0.1:44551', 'tcp://127.0.0.1:58171']\n",
      "2025-04-17 16:25:45.562 [IPEngine.15] Connecting shell to tcp://127.0.0.1:35041\n",
      "2025-04-17 16:25:45.562 [IPEngine.15] Connecting shell to tcp://127.0.0.1:44551\n",
      "2025-04-17 16:25:45.562 [IPEngine.15] Connecting shell to tcp://127.0.0.1:58171\n",
      "2025-04-17 16:25:45.563 [IPEngine.15] Starting nanny\n",
      "2025-04-17 16:25:45.646 [IPController] client::client b'116bec3e-baee4df0ab1818e9d9ba3cb1' requested 'registration_request'\n",
      "2025-04-17 16:25:45.647 [IPController] registration::accepting registration 16:116bec3e-baee4df0ab1818e9d9ba3cb1\n",
      "2025-04-17 16:25:45.642 [KernelNanny.12] Starting kernel nanny for engine 12, pid=61714, nanny pid=61792\n",
      "2025-04-17 16:25:45.642 [KernelNanny.12] Nanny watching parent pid 61714.\n",
      "2025-04-17 16:25:45.697 [IPEngine.12] Loading IPython extension: storemagic\n",
      "2025-04-17 16:25:45.698 [IPEngine.12] WARNING | debugpy_stream undefined, debugging will not be enabled\n",
      "2025-04-17 16:25:45.701 [IPEngine.12] Starting to monitor the heartbeat signal from the hub every 3500 ms.\n",
      "2025-04-17 16:25:45.701 [IPEngine.12] Completed registration with id 12\n",
      "2025-04-17 16:25:45.659 [IPEngine.11] Loading IPython extension: storemagic\n",
      "2025-04-17 16:25:45.660 [IPEngine.11] WARNING | debugpy_stream undefined, debugging will not be enabled\n",
      "2025-04-17 16:25:45.663 [IPEngine.11] Starting to monitor the heartbeat signal from the hub every 3500 ms.\n",
      "2025-04-17 16:25:45.663 [IPEngine.11] Completed registration with id 11\n",
      "2025-04-17 16:25:45.644 [IPEngine] Loading connection info from $IPP_CONNECTION_INFO\n",
      "2025-04-17 16:25:45.644 [IPEngine] WARNING | Not using CurveZMQ security\n",
      "2025-04-17 16:25:45.645 [IPEngine] Registering with controller at tcp://127.0.0.1:55545\n",
      "2025-04-17 16:25:45.647 [IPEngine.16] Shell_addrs: ['tcp://127.0.0.1:35041', 'tcp://127.0.0.1:44551', 'tcp://127.0.0.1:37205']\n",
      "2025-04-17 16:25:45.647 [IPEngine.16] Connecting shell to tcp://127.0.0.1:35041\n",
      "2025-04-17 16:25:45.647 [IPEngine.16] Connecting shell to tcp://127.0.0.1:44551\n",
      "2025-04-17 16:25:45.647 [IPEngine.16] Connecting shell to tcp://127.0.0.1:37205\n",
      "2025-04-17 16:25:45.647 [IPEngine.16] Starting nanny\n",
      "2025-04-17 16:25:45.767 [IPEngine] Loading connection info from $IPP_CONNECTION_INFO\n",
      "2025-04-17 16:25:45.767 [IPEngine] WARNING | Not using CurveZMQ security\n",
      "2025-04-17 16:25:45.769 [IPEngine] Registering with controller at tcp://127.0.0.1:55545\n",
      "2025-04-17 16:25:45.771 [IPEngine.17] Shell_addrs: ['tcp://127.0.0.1:35041', 'tcp://127.0.0.1:44551', 'tcp://127.0.0.1:58171']\n",
      "2025-04-17 16:25:45.771 [IPEngine.17] Connecting shell to tcp://127.0.0.1:35041\n",
      "2025-04-17 16:25:45.771 [IPEngine.17] Connecting shell to tcp://127.0.0.1:44551\n",
      "2025-04-17 16:25:45.772 [IPEngine.17] Connecting shell to tcp://127.0.0.1:58171\n",
      "2025-04-17 16:25:45.772 [IPEngine.17] Starting nanny\n",
      "2025-04-17 16:25:45.770 [IPController] client::client b'0010ff40-57aa1d2cdcf154c1caf9e946' requested 'registration_request'\n",
      "2025-04-17 16:25:45.771 [IPController] registration::accepting registration 17:0010ff40-57aa1d2cdcf154c1caf9e946\n",
      "2025-04-17 16:25:45.843 [IPController] client::client b'e431a426-6a2a4f5e0f3bff7771c3d002' requested 'registration_request'\n",
      "2025-04-17 16:25:45.843 [IPController] registration::accepting registration 18:e431a426-6a2a4f5e0f3bff7771c3d002\n",
      "2025-04-17 16:25:45.860 [KernelNanny.13] Starting kernel nanny for engine 13, pid=61737, nanny pid=61804\n",
      "2025-04-17 16:25:45.861 [KernelNanny.13] Nanny watching parent pid 61737.\n",
      "2025-04-17 16:25:45.820 [KernelNanny.14] Starting kernel nanny for engine 14, pid=61753, nanny pid=61821\n",
      "2025-04-17 16:25:45.820 [KernelNanny.14] Nanny watching parent pid 61753.\n",
      "2025-04-17 16:25:45.869 [IPEngine.14] Loading IPython extension: storemagic\n",
      "2025-04-17 16:25:45.871 [IPEngine.14] WARNING | debugpy_stream undefined, debugging will not be enabled\n",
      "2025-04-17 16:25:45.872 [IPEngine.14] Starting to monitor the heartbeat signal from the hub every 3500 ms.\n",
      "2025-04-17 16:25:45.873 [IPEngine.14] Completed registration with id 14\n",
      "2025-04-17 16:25:45.891 [KernelNanny.15] Starting kernel nanny for engine 15, pid=61773, nanny pid=61827\n",
      "2025-04-17 16:25:45.891 [KernelNanny.15] Nanny watching parent pid 61773.\n",
      "2025-04-17 16:25:45.841 [IPEngine] Loading connection info from $IPP_CONNECTION_INFO\n",
      "2025-04-17 16:25:45.841 [IPEngine] WARNING | Not using CurveZMQ security\n",
      "2025-04-17 16:25:45.842 [IPEngine] Registering with controller at tcp://127.0.0.1:55545\n",
      "2025-04-17 16:25:45.844 [IPEngine.18] Shell_addrs: ['tcp://127.0.0.1:35041', 'tcp://127.0.0.1:44551', 'tcp://127.0.0.1:37205']\n",
      "2025-04-17 16:25:45.844 [IPEngine.18] Connecting shell to tcp://127.0.0.1:35041\n",
      "2025-04-17 16:25:45.844 [IPEngine.18] Connecting shell to tcp://127.0.0.1:44551\n",
      "2025-04-17 16:25:45.844 [IPEngine.18] Connecting shell to tcp://127.0.0.1:37205\n",
      "2025-04-17 16:25:45.844 [IPEngine.18] Starting nanny\n",
      "2025-04-17 16:25:45.937 [IPEngine.13] Loading IPython extension: storemagic\n",
      "2025-04-17 16:25:45.938 [IPEngine.13] WARNING | debugpy_stream undefined, debugging will not be enabled\n",
      "2025-04-17 16:25:45.940 [IPEngine.13] Starting to monitor the heartbeat signal from the hub every 3500 ms.\n",
      "2025-04-17 16:25:45.940 [IPEngine.13] Completed registration with id 13\n",
      "2025-04-17 16:25:45.946 [IPEngine.15] Loading IPython extension: storemagic\n",
      "2025-04-17 16:25:45.947 [IPEngine.15] WARNING | debugpy_stream undefined, debugging will not be enabled\n",
      "2025-04-17 16:25:45.949 [IPEngine.15] Starting to monitor the heartbeat signal from the hub every 3500 ms.\n",
      "2025-04-17 16:25:45.949 [IPEngine.15] Completed registration with id 15\n",
      "2025-04-17 16:25:45.964 [KernelNanny.16] Starting kernel nanny for engine 16, pid=61793, nanny pid=61844\n",
      "2025-04-17 16:25:45.965 [KernelNanny.16] Nanny watching parent pid 61793.\n",
      "2025-04-17 16:25:46.053 [IPController] client::client b'03a54986-0ac0ccca355cb6e60ee71898' requested 'registration_request'\n",
      "2025-04-17 16:25:46.053 [IPController] registration::accepting registration 19:03a54986-0ac0ccca355cb6e60ee71898\n",
      "2025-04-17 16:25:46.021 [IPEngine.16] Loading IPython extension: storemagic\n",
      "2025-04-17 16:25:46.023 [IPEngine.16] WARNING | debugpy_stream undefined, debugging will not be enabled\n",
      "2025-04-17 16:25:46.025 [IPEngine.16] Starting to monitor the heartbeat signal from the hub every 3500 ms.\n",
      "2025-04-17 16:25:46.025 [IPEngine.16] Completed registration with id 16\n",
      "2025-04-17 16:25:46.086 [IPEngine] Loading connection info from $IPP_CONNECTION_INFO\n",
      "2025-04-17 16:25:46.086 [IPEngine] WARNING | Not using CurveZMQ security\n",
      "2025-04-17 16:25:46.087 [IPEngine] Registering with controller at tcp://127.0.0.1:55545\n",
      "2025-04-17 16:25:46.089 [IPEngine.20] Shell_addrs: ['tcp://127.0.0.1:35041', 'tcp://127.0.0.1:44551', 'tcp://127.0.0.1:37205']\n",
      "2025-04-17 16:25:46.089 [IPEngine.20] Connecting shell to tcp://127.0.0.1:35041\n",
      "2025-04-17 16:25:46.089 [IPEngine.20] Connecting shell to tcp://127.0.0.1:44551\n",
      "2025-04-17 16:25:46.089 [IPEngine.20] Connecting shell to tcp://127.0.0.1:37205\n",
      "2025-04-17 16:25:46.089 [IPEngine.20] Starting nanny\n",
      "2025-04-17 16:25:46.050 [IPEngine] Loading connection info from $IPP_CONNECTION_INFO\n",
      "2025-04-17 16:25:46.050 [IPEngine] WARNING | Not using CurveZMQ security\n",
      "2025-04-17 16:25:46.052 [IPEngine] Registering with controller at tcp://127.0.0.1:55545\n",
      "2025-04-17 16:25:46.053 [IPEngine.19] Shell_addrs: ['tcp://127.0.0.1:35041', 'tcp://127.0.0.1:44551', 'tcp://127.0.0.1:58171']\n",
      "2025-04-17 16:25:46.054 [IPEngine.19] Connecting shell to tcp://127.0.0.1:35041\n",
      "2025-04-17 16:25:46.054 [IPEngine.19] Connecting shell to tcp://127.0.0.1:44551\n",
      "2025-04-17 16:25:46.054 [IPEngine.19] Connecting shell to tcp://127.0.0.1:58171\n",
      "2025-04-17 16:25:46.054 [IPEngine.19] Starting nanny\n",
      "2025-04-17 16:25:46.088 [IPController] client::client b'0134d1c5-23605031a93dc989880e0b9f' requested 'registration_request'\n",
      "2025-04-17 16:25:46.089 [IPController] registration::accepting registration 20:0134d1c5-23605031a93dc989880e0b9f\n",
      "2025-04-17 16:25:46.183 [KernelNanny.18] Starting kernel nanny for engine 18, pid=61822, nanny pid=61872\n",
      "2025-04-17 16:25:46.183 [KernelNanny.18] Nanny watching parent pid 61822.\n",
      "2025-04-17 16:25:46.171 [IPEngine] Loading connection info from $IPP_CONNECTION_INFO\n",
      "2025-04-17 16:25:46.171 [IPEngine] WARNING | Not using CurveZMQ security\n",
      "2025-04-17 16:25:46.172 [IPEngine] Registering with controller at tcp://127.0.0.1:55545\n",
      "2025-04-17 16:25:46.174 [IPEngine.21] Shell_addrs: ['tcp://127.0.0.1:35041', 'tcp://127.0.0.1:44551', 'tcp://127.0.0.1:58171']\n",
      "2025-04-17 16:25:46.174 [IPEngine.21] Connecting shell to tcp://127.0.0.1:35041\n",
      "2025-04-17 16:25:46.174 [IPEngine.21] Connecting shell to tcp://127.0.0.1:44551\n",
      "2025-04-17 16:25:46.174 [IPEngine.21] Connecting shell to tcp://127.0.0.1:58171\n",
      "2025-04-17 16:25:46.175 [IPEngine.21] Starting nanny\n",
      "2025-04-17 16:25:46.173 [IPController] client::client b'938dfbbf-7d0925d05af4e5fd0b188f3b' requested 'registration_request'\n",
      "2025-04-17 16:25:46.174 [IPController] registration::accepting registration 21:938dfbbf-7d0925d05af4e5fd0b188f3b\n",
      "2025-04-17 16:25:46.246 [IPController] client::client b'73e39ea8-e35ea7c94623a9f25bc9e134' requested 'registration_request'\n",
      "2025-04-17 16:25:46.246 [IPController] registration::accepting registration 22:73e39ea8-e35ea7c94623a9f25bc9e134\n",
      "2025-04-17 16:25:46.243 [KernelNanny.17] Starting kernel nanny for engine 17, pid=61810, nanny pid=61861\n",
      "2025-04-17 16:25:46.243 [KernelNanny.17] Nanny watching parent pid 61810.\n",
      "2025-04-17 16:25:46.291 [IPEngine.17] Loading IPython extension: storemagic\n",
      "2025-04-17 16:25:46.292 [IPEngine.17] WARNING | debugpy_stream undefined, debugging will not be enabled\n",
      "2025-04-17 16:25:46.294 [IPEngine.17] Starting to monitor the heartbeat signal from the hub every 3500 ms.\n",
      "2025-04-17 16:25:46.295 [IPEngine.17] Completed registration with id 17\n",
      "2025-04-17 16:25:46.242 [IPEngine.18] Loading IPython extension: storemagic\n",
      "2025-04-17 16:25:46.244 [IPEngine.18] WARNING | debugpy_stream undefined, debugging will not be enabled\n",
      "2025-04-17 16:25:46.246 [IPEngine.18] Starting to monitor the heartbeat signal from the hub every 3500 ms.\n",
      "2025-04-17 16:25:46.246 [IPEngine.18] Completed registration with id 18\n",
      "2025-04-17 16:25:46.243 [IPEngine] Loading connection info from $IPP_CONNECTION_INFO\n",
      "2025-04-17 16:25:46.244 [IPEngine] WARNING | Not using CurveZMQ security\n",
      "2025-04-17 16:25:46.245 [IPEngine] Registering with controller at tcp://127.0.0.1:55545\n",
      "2025-04-17 16:25:46.246 [IPEngine.22] Shell_addrs: ['tcp://127.0.0.1:35041', 'tcp://127.0.0.1:44551', 'tcp://127.0.0.1:37205']\n",
      "2025-04-17 16:25:46.246 [IPEngine.22] Connecting shell to tcp://127.0.0.1:35041\n",
      "2025-04-17 16:25:46.246 [IPEngine.22] Connecting shell to tcp://127.0.0.1:44551\n",
      "2025-04-17 16:25:46.246 [IPEngine.22] Connecting shell to tcp://127.0.0.1:37205\n",
      "2025-04-17 16:25:46.246 [IPEngine.22] Starting nanny\n",
      "2025-04-17 16:25:46.361 [IPController] client::client b'49006c81-de577ea172e3f16b38ed0288' requested 'registration_request'\n",
      "2025-04-17 16:25:46.361 [IPController] registration::accepting registration 23:49006c81-de577ea172e3f16b38ed0288\n",
      "2025-04-17 16:25:46.413 [KernelNanny.20] Starting kernel nanny for engine 20, pid=61833, nanny pid=61923\n",
      "2025-04-17 16:25:46.413 [KernelNanny.20] Nanny watching parent pid 61833.\n",
      "2025-04-17 16:25:46.380 [KernelNanny.19] Starting kernel nanny for engine 19, pid=61856, nanny pid=61920\n",
      "2025-04-17 16:25:46.380 [KernelNanny.19] Nanny watching parent pid 61856.\n",
      "2025-04-17 16:25:46.358 [IPEngine] Loading connection info from $IPP_CONNECTION_INFO\n",
      "2025-04-17 16:25:46.358 [IPEngine] WARNING | Not using CurveZMQ security\n",
      "2025-04-17 16:25:46.359 [IPEngine] Registering with controller at tcp://127.0.0.1:55545\n",
      "2025-04-17 16:25:46.362 [IPEngine.23] Shell_addrs: ['tcp://127.0.0.1:35041', 'tcp://127.0.0.1:44551', 'tcp://127.0.0.1:58171']\n",
      "2025-04-17 16:25:46.362 [IPEngine.23] Connecting shell to tcp://127.0.0.1:35041\n",
      "2025-04-17 16:25:46.362 [IPEngine.23] Connecting shell to tcp://127.0.0.1:44551\n",
      "2025-04-17 16:25:46.362 [IPEngine.23] Connecting shell to tcp://127.0.0.1:58171\n",
      "2025-04-17 16:25:46.362 [IPEngine.23] Starting nanny\n",
      "2025-04-17 16:25:46.457 [IPEngine.20] Loading IPython extension: storemagic\n",
      "2025-04-17 16:25:46.458 [IPEngine.20] WARNING | debugpy_stream undefined, debugging will not be enabled\n",
      "2025-04-17 16:25:46.460 [IPEngine.20] Starting to monitor the heartbeat signal from the hub every 3500 ms.\n",
      "2025-04-17 16:25:46.460 [IPEngine.20] Completed registration with id 20\n",
      "2025-04-17 16:25:46.429 [IPEngine.19] Loading IPython extension: storemagic\n",
      "2025-04-17 16:25:46.430 [IPEngine.19] WARNING | debugpy_stream undefined, debugging will not be enabled\n",
      "2025-04-17 16:25:46.432 [IPEngine.19] Starting to monitor the heartbeat signal from the hub every 3500 ms.\n",
      "2025-04-17 16:25:46.433 [IPEngine.19] Completed registration with id 19\n",
      "2025-04-17 16:25:46.505 [KernelNanny.21] Starting kernel nanny for engine 21, pid=61862, nanny pid=61926\n",
      "2025-04-17 16:25:46.505 [KernelNanny.21] Nanny watching parent pid 61862.\n",
      "2025-04-17 16:25:46.551 [IPEngine.21] Loading IPython extension: storemagic\n",
      "2025-04-17 16:25:46.553 [IPEngine.21] WARNING | debugpy_stream undefined, debugging will not be enabled\n",
      "2025-04-17 16:25:46.554 [IPEngine.21] Starting to monitor the heartbeat signal from the hub every 3500 ms.\n",
      "2025-04-17 16:25:46.554 [IPEngine.21] Completed registration with id 21\n",
      "2025-04-17 16:25:46.560 [KernelNanny.22] Starting kernel nanny for engine 22, pid=61890, nanny pid=61945\n",
      "2025-04-17 16:25:46.560 [KernelNanny.22] Nanny watching parent pid 61890.\n",
      "2025-04-17 16:25:46.611 [IPEngine.22] Loading IPython extension: storemagic\n",
      "2025-04-17 16:25:46.613 [IPEngine.22] WARNING | debugpy_stream undefined, debugging will not be enabled\n",
      "2025-04-17 16:25:46.615 [IPEngine.22] Starting to monitor the heartbeat signal from the hub every 3500 ms.\n",
      "2025-04-17 16:25:46.615 [IPEngine.22] Completed registration with id 22\n",
      "2025-04-17 16:25:46.672 [KernelNanny.23] Starting kernel nanny for engine 23, pid=61912, nanny pid=61955\n",
      "2025-04-17 16:25:46.672 [KernelNanny.23] Nanny watching parent pid 61912.\n",
      "2025-04-17 16:25:46.718 [IPEngine.23] Loading IPython extension: storemagic\n",
      "2025-04-17 16:25:46.720 [IPEngine.23] WARNING | debugpy_stream undefined, debugging will not be enabled\n",
      "2025-04-17 16:25:46.722 [IPEngine.23] Starting to monitor the heartbeat signal from the hub every 3500 ms.\n",
      "2025-04-17 16:25:46.722 [IPEngine.23] Completed registration with id 23\n",
      "2025-04-17 16:25:49.286 [IPController] Notifying hub of 18 new hearts\n",
      "2025-04-17 16:25:49.291 [IPController] Registering 18 new hearts\n",
      "2025-04-17 16:25:49.291 [IPController] registration::finished registering engine 12:35afe1f8-0150f738b0f1d81ea4b095bd in 3983ms\n",
      "2025-04-17 16:25:49.292 [IPController] engine::Engine Connected: 12\n",
      "2025-04-17 16:25:49.292 [IPController] registration::finished registering engine 14:15da7cfc-8e24bfdf0223649c92277cb2 in 3831ms\n",
      "2025-04-17 16:25:49.293 [IPController] engine::Engine Connected: 14\n",
      "2025-04-17 16:25:49.294 [IPController] registration::finished registering engine 18:e431a426-6a2a4f5e0f3bff7771c3d002 in 3450ms\n",
      "2025-04-17 16:25:49.294 [IPController] engine::Engine Connected: 18\n",
      "2025-04-17 16:25:49.294 [IPController] registration::finished registering engine 7:57c72992-b1001250a5d8c2ec9c17f5a5 in 4549ms\n",
      "2025-04-17 16:25:49.294 [IPController] engine::Engine Connected: 7\n",
      "2025-04-17 16:25:49.295 [IPController] registration::finished registering engine 3:be5ef65f-4d968c7d884967db4f122e6e in 4965ms\n",
      "2025-04-17 16:25:49.295 [IPController] engine::Engine Connected: 3\n",
      "2025-04-17 16:25:49.295 [IPController] registration::finished registering engine 16:116bec3e-baee4df0ab1818e9d9ba3cb1 in 3648ms\n",
      "2025-04-17 16:25:49.295 [IPController] engine::Engine Connected: 16\n",
      "2025-04-17 16:25:49.295 [IPController] registration::finished registering engine 5:8487fb21-c80725a9725ecc8cdc6e1d24 in 4743ms\n",
      "2025-04-17 16:25:49.295 [IPController] engine::Engine Connected: 5\n",
      "2025-04-17 16:25:49.296 [IPController] registration::finished registering engine 1:8118c1bf-32daf6fdd7148ffae61093b0 in 5175ms\n",
      "2025-04-17 16:25:49.296 [IPController] engine::Engine Connected: 1\n",
      "2025-04-17 16:25:49.296 [IPController] registration::finished registering engine 6:defd861e-e8a5505816f2f4270792959a in 4566ms\n",
      "2025-04-17 16:25:49.296 [IPController] engine::Engine Connected: 6\n",
      "2025-04-17 16:25:49.297 [IPController] registration::finished registering engine 15:70ddbcf6-910e7d886589f30ff396fca8 in 3734ms\n",
      "2025-04-17 16:25:49.297 [IPController] engine::Engine Connected: 15\n",
      "2025-04-17 16:25:49.297 [IPController] registration::finished registering engine 9:afdfb8ae-ac3149ca9279cb5f25f237b5 in 4320ms\n",
      "2025-04-17 16:25:49.297 [IPController] engine::Engine Connected: 9\n",
      "2025-04-17 16:25:49.297 [IPController] registration::finished registering engine 11:eee82eee-c8aa25d786d2aec0ca0fd648 in 4064ms\n",
      "2025-04-17 16:25:49.297 [IPController] engine::Engine Connected: 11\n",
      "2025-04-17 16:25:49.298 [IPController] registration::finished registering engine 2:52c63877-810c2da97997e7624433150f in 5084ms\n",
      "2025-04-17 16:25:49.298 [IPController] engine::Engine Connected: 2\n",
      "2025-04-17 16:25:49.298 [IPController] registration::finished registering engine 8:21c209e7-5e3503458172478f302de115 in 4460ms\n",
      "2025-04-17 16:25:49.298 [IPController] engine::Engine Connected: 8\n",
      "2025-04-17 16:25:49.298 [IPController] registration::finished registering engine 13:eb51920d-7421733deba504c3d37bfbeb in 3926ms\n",
      "2025-04-17 16:25:49.299 [IPController] engine::Engine Connected: 13\n",
      "2025-04-17 16:25:49.299 [IPController] registration::finished registering engine 0:e9a07efd-6c867286092676b4a33a9a2b in 5290ms\n",
      "2025-04-17 16:25:49.299 [IPController] engine::Engine Connected: 0\n",
      "2025-04-17 16:25:49.299 [IPController] registration::finished registering engine 4:34e2d3b4-6a5070b6c5bf67706e799492 in 4877ms\n",
      "2025-04-17 16:25:49.299 [IPController] engine::Engine Connected: 4\n",
      "2025-04-17 16:25:49.300 [IPController] registration::finished registering engine 10:1d5ba270-6f840a079949996db4b8a902 in 4241ms\n",
      "2025-04-17 16:25:49.300 [IPController] engine::Engine Connected: 10\n",
      "2025-04-17 16:25:52.286 [IPController] Notifying hub of 6 new hearts\n",
      "2025-04-17 16:25:52.290 [IPController] Registering 6 new hearts\n",
      "2025-04-17 16:25:52.290 [IPController] registration::finished registering engine 23:49006c81-de577ea172e3f16b38ed0288 in 5928ms\n",
      "2025-04-17 16:25:52.290 [IPController] engine::Engine Connected: 23\n",
      "2025-04-17 16:25:52.291 [IPController] registration::finished registering engine 17:0010ff40-57aa1d2cdcf154c1caf9e946 in 6519ms\n",
      "2025-04-17 16:25:52.291 [IPController] engine::Engine Connected: 17\n",
      "2025-04-17 16:25:52.326 [IPController] registration::finished registering engine 21:938dfbbf-7d0925d05af4e5fd0b188f3b in 6152ms\n",
      "2025-04-17 16:25:52.326 [IPController] engine::Engine Connected: 21\n",
      "2025-04-17 16:25:52.327 [IPController] registration::finished registering engine 20:0134d1c5-23605031a93dc989880e0b9f in 6237ms\n",
      "2025-04-17 16:25:52.327 [IPController] engine::Engine Connected: 20\n",
      "2025-04-17 16:25:52.327 [IPController] registration::finished registering engine 22:73e39ea8-e35ea7c94623a9f25bc9e134 in 6081ms\n",
      "2025-04-17 16:25:52.327 [IPController] engine::Engine Connected: 22\n",
      "2025-04-17 16:25:52.328 [IPController] registration::finished registering engine 19:03a54986-0ac0ccca355cb6e60ee71898 in 6274ms\n",
      "2025-04-17 16:25:52.328 [IPController] engine::Engine Connected: 19\n",
      "2025-04-17 16:26:16.046 [IPClusterStart] Engines appear to have started successfully\n"
     ]
    }
   ],
   "source": [
    "!ipcluster start -n 24 --location=localhost"
   ]
  },
  {
   "cell_type": "code",
   "execution_count": null,
   "metadata": {},
   "outputs": [],
   "source": [
    "from ipyparallel import Client"
   ]
  },
  {
   "cell_type": "markdown",
   "metadata": {},
   "source": [
    "we will create an instance of a Client object to work with"
   ]
  },
  {
   "cell_type": "code",
   "execution_count": null,
   "metadata": {},
   "outputs": [],
   "source": [
    "c = Client()\n",
    "c.block = True  # use synchronous computations"
   ]
  },
  {
   "cell_type": "code",
   "execution_count": null,
   "metadata": {},
   "outputs": [],
   "source": [
    "c.ids"
   ]
  },
  {
   "cell_type": "code",
   "execution_count": null,
   "metadata": {},
   "outputs": [],
   "source": [
    "c[:].apply(lambda : \"Hello, World\")"
   ]
  },
  {
   "cell_type": "markdown",
   "metadata": {},
   "source": [
    "we can create a function..."
   ]
  },
  {
   "cell_type": "code",
   "execution_count": null,
   "metadata": {},
   "outputs": [],
   "source": [
    "def mul(a, b):\n",
    "    return a * b"
   ]
  },
  {
   "cell_type": "markdown",
   "metadata": {},
   "source": [
    "...then specify that we want it to run on a single core..."
   ]
  },
  {
   "cell_type": "code",
   "execution_count": null,
   "metadata": {},
   "outputs": [],
   "source": [
    "c[0].apply(mul, 5, 6)"
   ]
  },
  {
   "cell_type": "markdown",
   "metadata": {},
   "source": [
    "...all cores with the same input..."
   ]
  },
  {
   "cell_type": "code",
   "execution_count": null,
   "metadata": {},
   "outputs": [],
   "source": [
    "c[:].apply(mul, 5, 6)"
   ]
  },
  {
   "cell_type": "markdown",
   "metadata": {},
   "source": [
    "...or we can specify which multiple cores by using index slicing..."
   ]
  },
  {
   "cell_type": "code",
   "execution_count": null,
   "metadata": {},
   "outputs": [],
   "source": [
    "c[1:3].apply(mul, 5, 6)"
   ]
  },
  {
   "cell_type": "markdown",
   "metadata": {},
   "source": [
    "we can pass different arguments to the cores by using the map function..."
   ]
  },
  {
   "cell_type": "code",
   "execution_count": null,
   "metadata": {},
   "outputs": [],
   "source": [
    "view = c.load_balanced_view()\n",
    "view.map(mul, [5, 6, 7, 8], [8, 9, 10, 11])"
   ]
  },
  {
   "cell_type": "markdown",
   "metadata": {},
   "source": [
    "using a load-balanced view lets the IPython scheduler take care of farming the tasks for us\n",
    "\n",
    "Load Balanced View: A load balanced view allows execution of a command on any one engine. Which engine is used is up to the scheduler:"
   ]
  },
  {
   "cell_type": "markdown",
   "metadata": {},
   "source": [
    "<p>IPython client and views</p>\n",
    "<p>There is one primary object, the Client, for connecting to a cluster. For each execution model, there is a corresponding View. These views allow users to interact with a set of engines through the interface. Here are the two default views:</p>\n",
    "\n",
    "<p>*The DirectView class for explicit addressing.</p>\n",
    "<p>*The LoadBalancedView class for destination-agnostic scheduling.</p>"
   ]
  },
  {
   "cell_type": "code",
   "execution_count": null,
   "metadata": {},
   "outputs": [],
   "source": [
    "import os\n",
    "import socket\n",
    "print(os.getpid())\n",
    "print(socket.gethostname())"
   ]
  },
  {
   "cell_type": "markdown",
   "metadata": {},
   "source": [
    "The direct view is an interface in which each engine is directly exposed to the user."
   ]
  },
  {
   "cell_type": "code",
   "execution_count": null,
   "metadata": {},
   "outputs": [],
   "source": [
    "c.direct_view().apply(os.getpid)"
   ]
  },
  {
   "cell_type": "code",
   "execution_count": null,
   "metadata": {},
   "outputs": [],
   "source": [
    "def get_pid_slowly():\n",
    "    # imports in the function, otherwise these imports\n",
    "    # don't happen on the engines\n",
    "    import os\n",
    "    import time\n",
    "    import random\n",
    "    \n",
    "    # sleep up to 10 seconds\n",
    "    time.sleep(10 * random.random())\n",
    "    return os.getpid()"
   ]
  },
  {
   "cell_type": "code",
   "execution_count": null,
   "metadata": {},
   "outputs": [],
   "source": [
    "c.block = True\n",
    "c[:].apply(get_pid_slowly)"
   ]
  },
  {
   "cell_type": "code",
   "execution_count": null,
   "metadata": {},
   "outputs": [],
   "source": [
    "c.block = False\n",
    "c[:].apply(get_pid_slowly)"
   ]
  },
  {
   "cell_type": "code",
   "execution_count": null,
   "metadata": {},
   "outputs": [],
   "source": [
    "resultSet = c[:].apply(get_pid_slowly)"
   ]
  },
  {
   "cell_type": "code",
   "execution_count": null,
   "metadata": {},
   "outputs": [],
   "source": [
    "# just keep re-executing this code block...\n",
    "resultSet.ready()"
   ]
  },
  {
   "cell_type": "code",
   "execution_count": null,
   "metadata": {},
   "outputs": [],
   "source": [
    "resultSet.get()"
   ]
  },
  {
   "cell_type": "markdown",
   "metadata": {},
   "source": [
    "to import modules like numpy on all the engines in our cluster we can use..."
   ]
  },
  {
   "cell_type": "code",
   "execution_count": null,
   "metadata": {},
   "outputs": [],
   "source": [
    "c[:].execute('import numpy')"
   ]
  },
  {
   "cell_type": "markdown",
   "metadata": {},
   "source": [
    "...or..."
   ]
  },
  {
   "cell_type": "code",
   "execution_count": null,
   "metadata": {},
   "outputs": [],
   "source": [
    "with c[:].sync_imports():\n",
    "    import numpy"
   ]
  },
  {
   "cell_type": "markdown",
   "metadata": {},
   "source": [
    "...or..."
   ]
  },
  {
   "cell_type": "code",
   "execution_count": null,
   "metadata": {},
   "outputs": [],
   "source": [
    "%px import numpy"
   ]
  },
  {
   "cell_type": "markdown",
   "metadata": {},
   "source": [
    "DirectView: Scatter and Gather\n",
    "\n",
    "One very useful way to push and pull data is using the scatter() and gather() commands. This will take an array and partition it among the parallel instances:"
   ]
  },
  {
   "cell_type": "code",
   "execution_count": null,
   "metadata": {},
   "outputs": [],
   "source": [
    "c[:].scatter('a', numpy.arange(2400))\n",
    "c[:]['a']"
   ]
  },
  {
   "cell_type": "markdown",
   "metadata": {},
   "source": [
    "Notice that the contents of a are partitioned and scattered among the instances. To bring them back, we can use gather():"
   ]
  },
  {
   "cell_type": "code",
   "execution_count": null,
   "metadata": {},
   "outputs": [],
   "source": [
    "a = c[:].gather('a')\n",
    "a.get()"
   ]
  },
  {
   "cell_type": "code",
   "execution_count": null,
   "metadata": {},
   "outputs": [],
   "source": [
    "dview = c.direct_view()\n",
    "A = numpy.random.random((8, 3))\n",
    "dview.scatter('A', A)\n",
    "print(A)\n",
    "\n",
    "for chunk in dview['A']:\n",
    "    print(chunk)"
   ]
  },
  {
   "cell_type": "code",
   "execution_count": null,
   "metadata": {},
   "outputs": [],
   "source": [
    "c.block = True\n",
    "def parallel_dot(dview, A, B):\n",
    "    dview.scatter('A', A)\n",
    "    dview['B'] = B\n",
    "    dview.execute('C = numpy.dot(A, B)')\n",
    "    return dview.gather('C')\n",
    "dview = c.direct_view()\n",
    "A = numpy.random.random((1, 3))\n",
    "B = numpy.random.random((3, 1))\n",
    "\n",
    "print(A)\n",
    "print(B)\n",
    "print('')\n",
    "print(parallel_dot(dview, A, B))\n",
    "\n",
    "numpy.allclose(parallel_dot(dview, A, B),\n",
    "            numpy.dot(A, B))"
   ]
  },
  {
   "cell_type": "code",
   "execution_count": null,
   "metadata": {},
   "outputs": [],
   "source": [
    "numpy.allclose?"
   ]
  },
  {
   "cell_type": "markdown",
   "metadata": {},
   "source": [
    "monte carlo pi estimation example"
   ]
  },
  {
   "cell_type": "code",
   "execution_count": null,
   "metadata": {},
   "outputs": [],
   "source": [
    "def sample(n):\n",
    "    return (rand(n) ** 2 + rand(n) ** 2 <= 1).sum()"
   ]
  },
  {
   "cell_type": "code",
   "execution_count": null,
   "metadata": {},
   "outputs": [],
   "source": [
    "with c[:].sync_imports():\n",
    "    from numpy.random import rand"
   ]
  },
  {
   "cell_type": "code",
   "execution_count": null,
   "metadata": {},
   "outputs": [],
   "source": [
    "n = 1000000\n",
    "4 * sum(c[:].map_sync(sample, [n] * len(c[:]))) / (n * len(c[:]))"
   ]
  },
  {
   "cell_type": "code",
   "execution_count": null,
   "metadata": {},
   "outputs": [],
   "source": [
    "def mandel1(x, y, max_iters=1000):\n",
    "    c = complex(x, y)\n",
    "    z = 0.0j\n",
    "    for i in range(max_iters):\n",
    "        z = z*z + c\n",
    "        if z.real*z.real + z.imag*z.imag >= 4:\n",
    "            return i\n",
    "    return max_iters"
   ]
  },
  {
   "cell_type": "code",
   "execution_count": null,
   "metadata": {},
   "outputs": [],
   "source": [
    "rc = Client()\n",
    "dv = rc[:]\n",
    "@dv.parallel(block = True)\n",
    "def mandel2(x, y, max_iters=1000):\n",
    "    c = complex(x, y)\n",
    "    z = 0.0j\n",
    "    for i in range(max_iters):\n",
    "        z = z*z + c\n",
    "        if z.real*z.real + z.imag*z.imag >= 4:\n",
    "            return i\n",
    "    return max_iters"
   ]
  },
  {
   "cell_type": "code",
   "execution_count": null,
   "metadata": {},
   "outputs": [],
   "source": [
    "import numpy as np\n",
    "x = np.arange(-2, 1, 0.001)\n",
    "y = np.arange(-1, 1, 0.001)\n",
    "X, Y = np.meshgrid(x, y)"
   ]
  },
  {
   "cell_type": "code",
   "execution_count": null,
   "metadata": {},
   "outputs": [],
   "source": [
    "%%time\n",
    "im1 = np.reshape(list(map(mandel1, X.ravel(), Y.ravel())), (len(y), len(x)))"
   ]
  },
  {
   "cell_type": "code",
   "execution_count": null,
   "metadata": {},
   "outputs": [],
   "source": [
    "%%time\n",
    "im2 = np.reshape(mandel2.map(X.ravel(), Y.ravel()),  (len(y), len(x)))"
   ]
  },
  {
   "cell_type": "code",
   "execution_count": null,
   "metadata": {},
   "outputs": [],
   "source": [
    "import matplotlib.pyplot as plt\n",
    "fig, axes = plt.subplots(1, 2, figsize=(12, 4))\n",
    "axes[0].grid(False)\n",
    "axes[0].imshow(im1, cmap='jet')\n",
    "axes[1].grid(False)\n",
    "axes[1].imshow(im2, cmap='jet')\n",
    "plt.show()"
   ]
  },
  {
   "cell_type": "code",
   "execution_count": null,
   "metadata": {},
   "outputs": [],
   "source": []
  }
 ],
 "metadata": {
  "kernelspec": {
   "display_name": "Python 3 (ipykernel)",
   "language": "python",
   "name": "python3"
  },
  "language_info": {
   "codemirror_mode": {
    "name": "ipython",
    "version": 3
   },
   "file_extension": ".py",
   "mimetype": "text/x-python",
   "name": "python",
   "nbconvert_exporter": "python",
   "pygments_lexer": "ipython3",
   "version": "3.13.2"
  }
 },
 "nbformat": 4,
 "nbformat_minor": 4
}
