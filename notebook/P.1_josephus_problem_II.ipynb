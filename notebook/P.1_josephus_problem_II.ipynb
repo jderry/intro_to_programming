{
 "cells": [
  {
   "cell_type": "markdown",
   "metadata": {},
   "source": [
    "# Josephus Problem"
   ]
  },
  {
   "cell_type": "markdown",
   "metadata": {},
   "source": [
    "The Josephus Problem is a counting problem, named after a historical event described by Flavius Josephus.\n",
    "In the original form, 42 objects are placed in a circle; and starting from Object #1, every 3d object is removed.\n",
    "We want to preserve the order in which the objects are removed; more specifically, \n",
    "we want to know which objects are the second-to-last and last are removed."
   ]
  },
  {
   "cell_type": "code",
   "execution_count": null,
   "metadata": {},
   "outputs": [],
   "source": [
    "list(range(1,42))"
   ]
  },
  {
   "cell_type": "code",
   "execution_count": null,
   "metadata": {},
   "outputs": [],
   "source": [
    "# pseudo-code\n",
    "\n",
    "# create three lists, one for circle_of_objects, one for removed_objects, and one for the skip\n",
    "circle_of_objects, removed_objects, skip = range(1,42), [], range(3)\n",
    "\n",
    "# while circle_of_objects == True\n",
    "while circle_of_objects:\n",
    "\n",
    "    # for i <- skip-list reversed\n",
    "    for i in skip[::-1]:\n",
    "\n",
    "        # dequeue the next object\n",
    "\n",
    "        # the logical structure of the following\n",
    "        # if-else clause is not pythonic.\n",
    "        # in python, we prefer: if someCollection:\n",
    "        # meaning \"True as long as someCollection\n",
    "        # contains an item\"\n",
    "        # let's refactor to clause.\n",
    "        \n",
    "        # if i == 0\n",
    "\n",
    "            # append next object to removed_objects list\n",
    "            \n",
    "        # else\n",
    "        \n",
    "            # append next object to circle_of_objects list\n",
    "            \n",
    "            \n",
    "# print removed_objects list\n",
    "removed_objects"
   ]
  },
  {
   "cell_type": "code",
   "execution_count": null,
   "metadata": {},
   "outputs": [],
   "source": [
    "for i in skip[::-1]:\n",
    "    print(i)"
   ]
  },
  {
   "cell_type": "code",
   "execution_count": 7,
   "metadata": {},
   "outputs": [
    {
     "data": {
      "text/html": [
       "\n",
       "        <iframe\n",
       "            width=\"950\"\n",
       "            height=\"800\"\n",
       "            src=\"https://mathworld.wolfram.com/images/eps-gif/Josephus41-3_1000.gif\"\n",
       "            frameborder=\"0\"\n",
       "            allowfullscreen\n",
       "        ></iframe>\n",
       "        "
      ],
      "text/plain": [
       "<IPython.lib.display.IFrame at 0x7f4f78309a90>"
      ]
     },
     "execution_count": 7,
     "metadata": {},
     "output_type": "execute_result"
    }
   ],
   "source": [
    "from IPython.display import IFrame\n",
    "IFrame('https://mathworld.wolfram.com/images/eps-gif/Josephus41-3_1000.gif', width=950, height=800)"
   ]
  },
  {
   "cell_type": "code",
   "execution_count": null,
   "metadata": {},
   "outputs": [],
   "source": [
    "from IPython.display import IFrame\n",
    "IFrame('https://en.wikipedia.org/wiki/Josephus_problem', width=950, height=800)"
   ]
  }
 ],
 "metadata": {
  "kernelspec": {
   "display_name": "Python 3 (ipykernel)",
   "language": "python",
   "name": "python3"
  },
  "language_info": {
   "codemirror_mode": {
    "name": "ipython",
    "version": 3
   },
   "file_extension": ".py",
   "mimetype": "text/x-python",
   "name": "python",
   "nbconvert_exporter": "python",
   "pygments_lexer": "ipython3",
   "version": "3.12.5"
  }
 },
 "nbformat": 4,
 "nbformat_minor": 4
}
