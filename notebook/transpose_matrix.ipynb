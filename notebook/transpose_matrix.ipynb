{
 "cells": [
  {
   "cell_type": "code",
   "execution_count": 1,
   "id": "a3862e17-e383-497d-b74a-605f293035b5",
   "metadata": {},
   "outputs": [],
   "source": [
    "with open('datafile/RSEM.iso_res') as inFile:\n",
    "    LoS = inFile.read().splitlines()\n",
    "    LoL = []\n",
    "    for row in LoS:\n",
    "        LoL.append(row.split())"
   ]
  },
  {
   "cell_type": "code",
   "execution_count": 2,
   "id": "4a024c11-b3f3-4679-aeca-1f2e05025e03",
   "metadata": {},
   "outputs": [
    {
     "name": "stdout",
     "output_type": "stream",
     "text": [
      "98.2 ms ± 143 μs per loop (mean ± std. dev. of 7 runs, 10 loops each)\n"
     ]
    }
   ],
   "source": [
    "%timeit transpose = [[row[i] for row in LoL] for i in range(len(LoL[0]))]"
   ]
  },
  {
   "cell_type": "code",
   "execution_count": 3,
   "id": "58f8fed8-dfaa-4015-8d43-a82c73790f61",
   "metadata": {},
   "outputs": [
    {
     "name": "stdout",
     "output_type": "stream",
     "text": [
      "37.9 ms ± 400 μs per loop (mean ± std. dev. of 7 runs, 10 loops each)\n"
     ]
    }
   ],
   "source": [
    "%timeit transpose = list(zip(*LoL, strict=True))"
   ]
  },
  {
   "cell_type": "code",
   "execution_count": 4,
   "id": "8eb5ea82-4bf9-4592-aaf3-2fa23166bd95",
   "metadata": {},
   "outputs": [
    {
     "name": "stdout",
     "output_type": "stream",
     "text": [
      "53.8 ns ± 0.0639 ns per loop (mean ± std. dev. of 7 runs, 10,000,000 loops each)\n"
     ]
    }
   ],
   "source": [
    "import numpy as np\n",
    "LoL = np.array(LoL)\n",
    "%timeit transpose = LoL.T"
   ]
  },
  {
   "cell_type": "code",
   "execution_count": null,
   "id": "723d4e63-dfdf-4c81-a2c7-7ab2a8d6e210",
   "metadata": {},
   "outputs": [],
   "source": []
  }
 ],
 "metadata": {
  "kernelspec": {
   "display_name": "Python 3 (ipykernel)",
   "language": "python",
   "name": "python3"
  },
  "language_info": {
   "codemirror_mode": {
    "name": "ipython",
    "version": 3
   },
   "file_extension": ".py",
   "mimetype": "text/x-python",
   "name": "python",
   "nbconvert_exporter": "python",
   "pygments_lexer": "ipython3",
   "version": "3.12.5"
  }
 },
 "nbformat": 4,
 "nbformat_minor": 5
}
