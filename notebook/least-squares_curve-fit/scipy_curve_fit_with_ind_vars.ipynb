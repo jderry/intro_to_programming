{
 "cells": [
  {
   "cell_type": "code",
   "execution_count": null,
   "id": "2b48ac77-194e-4295-ba82-439b9a403cbf",
   "metadata": {},
   "outputs": [],
   "source": [
    "'''\n",
    "import numpy as np\n",
    "from scipy.optimize import curve_fit\n",
    "\n",
    "def func(X, a, b, c):\n",
    "    x,y = X\n",
    "    return np.log(a) + b*np.log(x) + c*np.log(y)\n",
    "\n",
    "# some artificially noisy data to fit\n",
    "x = np.linspace(0.1,1.1,101)\n",
    "y = np.linspace(1.,2., 101)\n",
    "a, b, c = 10., 4., 6.\n",
    "z = func((x,y), a, b, c) * 1 + np.random.random(101) / 100\n",
    "\n",
    "# initial guesses for a,b,c:\n",
    "p0 = 8., 2., 7.\n",
    "print(curve_fit(func, (x,y), z, p0))\n",
    "'''"
   ]
  }
 ],
 "metadata": {
  "kernelspec": {
   "display_name": "Python 3 (ipykernel)",
   "language": "python",
   "name": "python3"
  },
  "language_info": {
   "codemirror_mode": {
    "name": "ipython",
    "version": 3
   },
   "file_extension": ".py",
   "mimetype": "text/x-python",
   "name": "python",
   "nbconvert_exporter": "python",
   "pygments_lexer": "ipython3",
   "version": "3.13.5"
  }
 },
 "nbformat": 4,
 "nbformat_minor": 5
}
