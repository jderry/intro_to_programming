{
 "cells": [
  {
   "cell_type": "code",
   "execution_count": 1,
   "id": "d5d3399d-016f-4b27-806d-0a162f4e3583",
   "metadata": {},
   "outputs": [],
   "source": [
    "from sympy import N, plot, symbols, Matrix, ones, pprint, Expr, solve, init_printing\n",
    "from numpy import array\n",
    "import numpy.typing as npt\n",
    "from scipy.stats import norm\n",
    "from statsmodels.stats.stattools import durbin_watson\n",
    "from scipy.stats import kstest\n",
    "import matplotlib.pyplot as plt"
   ]
  },
  {
   "cell_type": "code",
   "execution_count": 13,
   "id": "4347bf0a-5abf-4a70-89b8-711237f7a8db",
   "metadata": {},
   "outputs": [],
   "source": [
    "def ensureColItemsNumbers(collection: list|tuple):\n",
    "    ''' Given a list or tuple of items,\n",
    "        ensure items are ints or floats.\n",
    "        If not, add to badValues dict.\n",
    "        After testing all items, \n",
    "        return True if all items pass;\n",
    "        otherwise, throw assert error\n",
    "        showing badValues dict.\n",
    "    '''\n",
    "    \n",
    "    return"
   ]
  },
  {
   "cell_type": "code",
   "execution_count": 11,
   "id": "941ce031-be95-491c-a19c-33603939af3f",
   "metadata": {},
   "outputs": [],
   "source": [
    "def slr(X: list|tuple, Y: list|tuple) -> tuple:\n",
    "    ''' Given two lists or tuples of x and y numbers in a linear relationship,\n",
    "        return tuple of coefficients that describe least-squares best fit line.\n",
    "        >>>slr([0, 1, 2, 3], [1, 3, 4, 4])\n",
    "        (1.5, 1.0)\n",
    "        >>>slr([1, 2, 3, 4, 5, 6, 7], [1.5, 3.8, 6.7, 9.0, 11.2, 13.6, 16])\n",
    "        (-0.828571428571429, 2.41428571428571) \n",
    "    '''\n",
    "    # garbage filters\n",
    "    # assert each argument is a list or tuple,\n",
    "    # and that the items of each are ints or floats\n",
    "    # initialization\n",
    "    n = len(X)\n",
    "    sumX = sum(X)\n",
    "    sumY = sum(Y)\n",
    "    sumXsqr = sum(x**2 for x in X)\n",
    "    sumXY = sum(x * y for x, y in zip(X, Y))\n",
    "    # implementattion of the algorithm\n",
    "    b1 = (n * sumXY - sumX * sumY) / (n * sumXsqr - sumX**2)\n",
    "    b0 = (sumY - b1 * sumX) / n\n",
    "    return b0, b1"
   ]
  },
  {
   "cell_type": "code",
   "execution_count": 10,
   "id": "c1a4760e-c979-4ec4-9532-110b86452f7e",
   "metadata": {},
   "outputs": [
    {
     "data": {
      "text/plain": [
       "(1.5, 1.0)"
      ]
     },
     "execution_count": 10,
     "metadata": {},
     "output_type": "execute_result"
    }
   ],
   "source": [
    "slr([0, 1, 2, 3], [1, 3, 4, 4])"
   ]
  },
  {
   "cell_type": "code",
   "execution_count": 2,
   "id": "0d854df4-8134-43e2-88ba-37989f073a7f",
   "metadata": {},
   "outputs": [],
   "source": [
    "def lin_model(x: list|tuple, y: list|tuple) -> Expr:\n",
    "    ''' Given two lists or tuples of x and y numbers in a linear relationship, return least-squares best fit as sympy expression.\n",
    "        >>>lin_model([0, 1, 2, 3], [1, 3, 4, 4])\n",
    "        x + 3/2\n",
    "        >>>N(lin_model([2, 3, 5, 7, 9], [4, 5, 7, 10, 15]), 4) # from sympy import N\n",
    "        1.518x + 0.3049\n",
    "    '''\n",
    "    # garbage filters\n",
    "    assert x and isinstance(x, list|tuple), \"input must be lists or tuples of ints or floats\"\n",
    "    assert y and isinstance(y, list|tuple), \"input must be lists or tuples of ints or floats\"\n",
    "    bad_values_x, bad_values_y = {}, {}\n",
    "    for index, value in enumerate(x):\n",
    "        if not isinstance(value, (int,float)):\n",
    "            bad_values_x[index] = (value, type(value).__name__)\n",
    "    for index, value in enumerate(y):\n",
    "        if not isinstance(value, (int,float)):\n",
    "            bad_values_y[index] = (value, type(value).__name__)\n",
    "    assert not (bad_values_x or bad_values_y), (\"input must be lists or tuples of ints or floats:\\n\"\n",
    "                                                \"\\t\\teach item reads index: (bad value, bad value type)\\n\"\n",
    "                                                     f\"\\t\\tx-vector: {bad_values_x}\\n\"\n",
    "                                                     f\"\\t\\ty-vector: {bad_values_y}\")\n",
    "    # initialization\n",
    "    from sympy import Matrix, symbols, ones\n",
    "    onesV = ones(1, len(x)) # make vector of ones the same length as vector x\n",
    "    y = Matrix(y)\n",
    "    M = Matrix([onesV, x]).T\n",
    "\n",
    "    # BEGIN: ensure that M.T @ M) is invertible\n",
    "    assert (M.T @ M).det() != 0, (\"det|(M.T @ M)| cannot be 0.\\n\"\n",
    "                                        \"This can happen with non-unique solutions:\\n\"\n",
    "                                        \"For example: lin_model([3, 3], [4, 5])\")\n",
    "    try:\n",
    "        (M.T @ M).inv()\n",
    "       \n",
    "    except: # general catch-all\n",
    "        # NonInvertibleMatrixError not recognized by Traceback\n",
    "        print(\"ERROR\")\n",
    "        print(\"(M.T @ M) =\"); pprint(M.T @ M); print((\"(M.T @ M) is not invertible.\"\n",
    "                                    \"Suggestion: Make sure that you input at least 2 datapoints\\n\"\n",
    "                                                 \"\\t    and that at least one of your datapoints is distinct.\"))\n",
    "        return\n",
    "    # END: ensure that M.T @ M) is invertible\n",
    "\n",
    "    # the algorithm: linear algebra least-squares optimizer\n",
    "    # vector a holds the coefficients of the equation y = a0 + a1 x\n",
    "    a = (M.T @ M).inv() @ M.T @ y\n",
    "    # initialize for returning a sympy expression\n",
    "    x = symbols('x')\n",
    "    return a[0] + x* a[1]"
   ]
  },
  {
   "cell_type": "code",
   "execution_count": 5,
   "id": "9087b215-7c4e-4634-8058-d359cb0a5668",
   "metadata": {},
   "outputs": [
    {
     "name": "stdout",
     "output_type": "stream",
     "text": [
      "2.41428571428571⋅x - 0.828571428571429\n"
     ]
    }
   ],
   "source": [
    "pprint(N(lin_model([1, 2, 3, 4, 5, 6, 7], [1.5, 3.8, 6.7, 9.0, 11.2, 13.6, 16])))"
   ]
  },
  {
   "cell_type": "code",
   "execution_count": 4,
   "id": "2d76d677-3573-429c-b10b-83723cc30458",
   "metadata": {},
   "outputs": [],
   "source": [
    "def test_lin_model(X: iter, Y: iter) -> tuple:\n",
    "    ''' Given two iterables of x and y numbers in a linear relationship,\n",
    "        show graph of scatterplot and best-fit line,\n",
    "        and return named tuple of expression of best-fit line and test results:\n",
    "        (Best-Fit Line, Homogeneity of Variance, Independence of Errors, and Normally Distributed Errors)\n",
    "        >>>lin_model([0, 1, 2, 3], [1, 3, 4, 4])\n",
    "        [Image of scatterplot of recorded values and best-fit line]\n",
    "        (x + 3/2, 0, 2, 0.74)\n",
    "    '''\n",
    "    # initialization\n",
    "    from sympy import N, plot, symbols, Matrix, ones\n",
    "    from numpy import array\n",
    "    from statsmodels.stats.stattools import durbin_watson\n",
    "    from scipy.stats import kstest\n",
    "    from collections import namedtuple\n",
    "    lm_results = \\\n",
    "    namedtuple('lm_results', 'expr HoV DW KS')\n",
    "    \n",
    "    # implementation\n",
    "    expr = lin_model(X, Y)\n",
    "\n",
    "    fig, ax = plt.subplots()\n",
    "    ax.scatter(X, Y)\n",
    "    plot(expr, fig=fig, ax=ax)\n",
    "    \n",
    "    x, y = symbols('x y')\n",
    "    # y = recorded values, y_hat = predicted values\n",
    "    # Y = Matrix(Y)\n",
    "    y_hat = lin_model(X, Y).subs(x, Matrix(X))\n",
    "\n",
    "    # sympy can't interpret scalar + vector\n",
    "    # so make same-sized vector of 3/2s, then add the two vectors\n",
    "    y_hat = y_hat.args[1] + y_hat.args[0] * ones(len(y_hat.args[1]), 1)\n",
    "\n",
    "    residuals = list(y_hat - Matrix(Y))\n",
    "\n",
    "    # Test 1: homogeneity of variance\n",
    "    HoV = sum(residuals)\n",
    "    # Test 2: Independence of Errors\n",
    "    DW = durbin_watson(residuals)\n",
    "    # Test 3: Normally distributed residuals\n",
    "    # Kolmogorov-Smirnov Test\n",
    "    # coerce residual vector values as np floats\n",
    "    # extract p-value, round to two digits\n",
    "    # no need for more because:\n",
    "    # p-value < 0.05 means NOT normally distributed\n",
    "    KS = round(float(kstest(array(residuals).astype(float), norm.cdf).pvalue), 2)\n",
    "\n",
    "    # return expr, HoV, DW, KS\n",
    "    expr = f\"y = {expr}\" # return a formatted string\n",
    "    return lm_results(expr, HoV, DW, KS)"
   ]
  },
  {
   "cell_type": "code",
   "execution_count": 6,
   "id": "26b07dbe-0e1a-4288-b2b2-d54e90b2c77a",
   "metadata": {},
   "outputs": [
    {
     "data": {
      "image/png": "[encoded data removed]",
      "text/plain": [
       "<Figure size 640x480 with 1 Axes>"
      ]
     },
     "metadata": {},
     "output_type": "display_data"
    }
   ],
   "source": [
    "test1 = test_lin_model([3, 9], [4, 13])"
   ]
  },
  {
   "cell_type": "code",
   "execution_count": 7,
   "id": "7ac5d91a-957a-45c6-ab91-4d2943bfc5bd",
   "metadata": {},
   "outputs": [
    {
     "data": {
      "text/plain": [
       "lm_results(expr='y = 3*x/2 - 1/2', HoV=0, DW=nan, KS=0.5)"
      ]
     },
     "execution_count": 7,
     "metadata": {},
     "output_type": "execute_result"
    }
   ],
   "source": [
    "test1"
   ]
  },
  {
   "cell_type": "code",
   "execution_count": null,
   "id": "c21e0934-3d0d-475b-b2ff-00bb795cffe5",
   "metadata": {
    "scrolled": true
   },
   "outputs": [],
   "source": [
    "lin_model([3, 3], [4, 5])"
   ]
  },
  {
   "cell_type": "code",
   "execution_count": null,
   "id": "f1e6a091-91d7-4936-8a91-aa0a4bdb8b5e",
   "metadata": {},
   "outputs": [],
   "source": [
    "x, y = symbols('x y')\n",
    "# y = recorded values, y_hat = predicted values\n",
    "y = Matrix([1, 3, 4, 4])\n",
    "y_hat = lin_model([0, 1, 2, 3], [1, 3, 4, 4]).subs(x, Matrix([0, 1, 2, 3])); y_hat"
   ]
  },
  {
   "cell_type": "code",
   "execution_count": null,
   "id": "4879f9fe-7333-428d-847b-1762d927fdce",
   "metadata": {},
   "outputs": [],
   "source": [
    "# sympy can't interpret scalar + vector\n",
    "# so make same-sized vector of 3/2s, then add the two vectors\n",
    "y_hat = y_hat.args[1] + y_hat.args[0] * ones(len(y_hat.args[1]), 1); y_hat"
   ]
  },
  {
   "cell_type": "code",
   "execution_count": null,
   "id": "51096b13-3ef4-4b2a-97f7-5f278a7605ab",
   "metadata": {},
   "outputs": [],
   "source": [
    "residuals = list(y_hat - y); residuals"
   ]
  },
  {
   "cell_type": "code",
   "execution_count": null,
   "id": "c7b8b92e-eda8-4916-aaf6-83d957afb613",
   "metadata": {},
   "outputs": [],
   "source": [
    "# Test 1: Homogeneity of Variance\n",
    "# residuals; do residuals sum to value close to zero?\n",
    "sum(y_hat - y)"
   ]
  },
  {
   "cell_type": "code",
   "execution_count": null,
   "id": "e516706a-6190-4783-af8b-fdb291306f0f",
   "metadata": {},
   "outputs": [],
   "source": [
    "# Test 2: Independence of Errors\n",
    "durbin_watson(residuals)"
   ]
  },
  {
   "cell_type": "code",
   "execution_count": null,
   "id": "b675cd03-17a4-443a-9760-ad2daac2d8a0",
   "metadata": {},
   "outputs": [],
   "source": [
    "# Test 3: Normally distributed residuals\n",
    "# Kolmogorov-Smirnov Test\n",
    "# coerce residual vector values as np floats\n",
    "# extract p-value, round to two digits\n",
    "# p-value >0.05 means NOT normally distributed\n",
    "round(float(kstest(array(residuals).astype(float), norm.cdf).pvalue), 2)"
   ]
  },
  {
   "cell_type": "code",
   "execution_count": null,
   "id": "a2b8f9ed-e387-42e9-8540-6df8e8949932",
   "metadata": {},
   "outputs": [],
   "source": [
    "from sympy import symbols, Matrix\n",
    "a,b, c, d = symbols('a b c d')\n",
    "M = Matrix([[a, b], [c, d]]).subs({a:2, b:4, c: 4, d:8})\n",
    "B = M.inv()"
   ]
  },
  {
   "cell_type": "code",
   "execution_count": null,
   "id": "d222fa5c-d0d5-4db3-b7a2-3aa28d4ad2ef",
   "metadata": {},
   "outputs": [],
   "source": [
    "try:\n",
    "    M.inv()\n",
    "except:\n",
    "    print(\"M =\"); pprint(M); print((\"M is not invertible. A matrix must be square AND invertible to invert.\\n\"\n",
    "                                    \"For example, det|M| cannot be 0. (There must be a unique solution.)\\n\"\n",
    "                                    \"Suggestion: Make sure that you input at least 2 datapoints\\n\"\n",
    "                                    \"\\t    and that at least one of your datapoints is distinct.\"))\n",
    "    exit"
   ]
  },
  {
   "cell_type": "code",
   "execution_count": null,
   "id": "c0c4f9ac-cae7-4005-9e6e-22e79c133557",
   "metadata": {},
   "outputs": [],
   "source": [
    "import numpy as np\n",
    "import statsmodels.api as sm\n",
    "import pylab\n",
    "\n",
    "test = np.random.normal(0,1, 1000)\n",
    "\n",
    "sm.qqplot(test, line='45')\n",
    "pylab.show()"
   ]
  },
  {
   "cell_type": "code",
   "execution_count": 17,
   "id": "e2a00261-ef31-400a-bdd9-e488a75cf489",
   "metadata": {},
   "outputs": [
    {
     "data": {
      "image/png": "[encoded data removed]",
      "text/latex": [
       "$\\displaystyle \\left[ \\frac{- b - \\sqrt{- 4 a c + b^{2}}}{2 a}, \\  \\frac{- b + \\sqrt{- 4 a c + b^{2}}}{2 a}\\right]$"
      ],
      "text/plain": [
       "⎡        _____________          _____________⎤\n",
       "⎢       ╱           2          ╱           2 ⎥\n",
       "⎢-b - ╲╱  -4⋅a⋅c + b    -b + ╲╱  -4⋅a⋅c + b  ⎥\n",
       "⎢─────────────────────, ─────────────────────⎥\n",
       "⎣         2⋅a                    2⋅a         ⎦"
      ]
     },
     "execution_count": 17,
     "metadata": {},
     "output_type": "execute_result"
    }
   ],
   "source": [
    "init_printing()\n",
    "a, b, c, x = symbols('a b c x')\n",
    "expr = a*x**2 + b*x + c\n",
    "ans = solve(expr, x); ans"
   ]
  },
  {
   "cell_type": "code",
   "execution_count": 22,
   "id": "3dd285f6-0e6c-49d9-bb3e-e6ce069c7298",
   "metadata": {},
   "outputs": [
    {
     "data": {
      "image/png": "[encoded data removed]",
      "text/latex": [
       "$\\displaystyle \\left[ \\frac{b + y}{x}\\right]$"
      ],
      "text/plain": [
       "⎡b + y⎤\n",
       "⎢─────⎥\n",
       "⎣  x  ⎦"
      ]
     },
     "execution_count": 22,
     "metadata": {},
     "output_type": "execute_result"
    }
   ],
   "source": [
    "m, y = symbols('m y')\n",
    "expr = y - m*x + b\n",
    "ans1 = solve(expr, m); ans1"
   ]
  },
  {
   "cell_type": "code",
   "execution_count": 23,
   "id": "ead65b1c-2c36-4b59-baa5-b135f8cc3b97",
   "metadata": {},
   "outputs": [
    {
     "data": {
      "image/png": "[encoded data removed]",
      "text/latex": [
       "$\\displaystyle \\left[ m x - y\\right]$"
      ],
      "text/plain": [
       "[m⋅x - y]"
      ]
     },
     "execution_count": 23,
     "metadata": {},
     "output_type": "execute_result"
    }
   ],
   "source": [
    "ans2 = solve(expr, b); ans2"
   ]
  },
  {
   "cell_type": "code",
   "execution_count": 25,
   "id": "806e30c4-e5ed-42eb-8264-782f3409013b",
   "metadata": {},
   "outputs": [
    {
     "data": {
      "image/png": "[encoded data removed]",
      "text/latex": [
       "$\\displaystyle m$"
      ],
      "text/plain": [
       "m"
      ]
     },
     "execution_count": 25,
     "metadata": {},
     "output_type": "execute_result"
    }
   ],
   "source": [
    "ans1[0].subs({b: ans2[0]})"
   ]
  },
  {
   "cell_type": "code",
   "execution_count": null,
   "id": "36e7dbf1-5541-4533-8e54-6bf701fc6e19",
   "metadata": {},
   "outputs": [],
   "source": []
  }
 ],
 "metadata": {
  "kernelspec": {
   "display_name": "Python 3 (ipykernel)",
   "language": "python",
   "name": "python3"
  },
  "language_info": {
   "codemirror_mode": {
    "name": "ipython",
    "version": 3
   },
   "file_extension": ".py",
   "mimetype": "text/x-python",
   "name": "python",
   "nbconvert_exporter": "python",
   "pygments_lexer": "ipython3",
   "version": "3.13.5"
  }
 },
 "nbformat": 4,
 "nbformat_minor": 5
}
