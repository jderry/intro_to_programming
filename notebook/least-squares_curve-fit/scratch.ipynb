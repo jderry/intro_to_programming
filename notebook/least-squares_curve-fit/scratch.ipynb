{
 "cells": [
  {
   "cell_type": "code",
   "execution_count": 1,
   "id": "b5794cdf-8fb7-43b4-8e78-1e6244a7e976",
   "metadata": {},
   "outputs": [
    {
     "name": "stdout",
     "output_type": "stream",
     "text": [
      "IPython console for SymPy 1.14.0 (Python 3.13.5-64-bit) (ground types: python)\n",
      "\n",
      "These commands were executed:\n",
      ">>> from sympy import *\n",
      ">>> x, y, z, t = symbols('x y z t')\n",
      ">>> k, m, n = symbols('k m n', integer=True)\n",
      ">>> f, g, h = symbols('f g h', cls=Function)\n",
      ">>> init_printing()\n",
      "\n",
      "Documentation can be found at https://docs.sympy.org/1.14.0/\n",
      "\n"
     ]
    }
   ],
   "source": [
    "from sympy import init_session\n",
    "init_session()"
   ]
  },
  {
   "cell_type": "code",
   "execution_count": 4,
   "id": "732f4ee3-99c4-47d9-9755-a0ea1578a2d2",
   "metadata": {},
   "outputs": [
    {
     "data": {
      "image/png": "[encoded data removed]",
      "text/latex": [
       "$\\displaystyle \\left\\{ 2 : 3, \\  103 : 1\\right\\}$"
      ],
      "text/plain": [
       "{2: 3, 103: 1}"
      ]
     },
     "execution_count": 4,
     "metadata": {},
     "output_type": "execute_result"
    }
   ],
   "source": [
    "factorint(824)"
   ]
  },
  {
   "cell_type": "code",
   "execution_count": 6,
   "id": "00849f1b-8c02-4b11-bf3a-5efad344ac5e",
   "metadata": {},
   "outputs": [
    {
     "name": "stdout",
     "output_type": "stream",
     "text": [
      "824: 2 2 2 103\n"
     ]
    }
   ],
   "source": [
    "!factor 824"
   ]
  },
  {
   "cell_type": "code",
   "execution_count": 64,
   "id": "6f5b6043-414c-44f6-b0ac-d5bffab91030",
   "metadata": {},
   "outputs": [
    {
     "name": "stdin",
     "output_type": "stream",
     "text": [
      "Once deleted, variables cannot be recovered. Proceed (y/[n])?  yes\n"
     ]
    }
   ],
   "source": [
    "X1 = IndexedBase('X1')\n",
    "i, j, N = symbols('i j N', integer=True)\n",
    "\n",
    "# Summing elements of a symbolic array A along a dimension\n",
    "# Example: Summing A[i, j] over j\n",
    "Sum(A[i]**2, (i, 0, N))\n",
    "%reset"
   ]
  },
  {
   "cell_type": "markdown",
   "id": "1507349f-1762-4c56-8316-eec14ac3663e",
   "metadata": {},
   "source": [
    "$\\int_a^b f(x) = F(b) - F(a)$"
   ]
  },
  {
   "cell_type": "markdown",
   "id": "18e66d46-8253-421d-8271-cad719a85530",
   "metadata": {},
   "source": [
    "$\\mathbf{Y} = b_{0} + b_{1} \\mathbf{X}_{1} + b_{2} \\mathbf{X}_{2}$\n",
    "<p>where: $\\mathbf{Y}$, $\\mathbf{X}_{1}$, $\\mathbf{X}_{2}$ are column vectors</p>\n",
    "<p>and $b_{0}$, and $b_{1}$, and $b_{2}$ are coefficients.</p>\n",
    "We wish to solve for the coefficients."
   ]
  },
  {
   "cell_type": "markdown",
   "id": "6e1f81cb-64f8-4328-93ed-a9f80cbc8b5e",
   "metadata": {},
   "source": [
    "By a rearrangement of terms, we observe that:\n",
    "<p>$b_{0} = \\mathbf{Y} - b_{1} \\mathbf{X}_{1} - b_{2} \\mathbf{X}_{2}$</p>"
   ]
  },
  {
   "cell_type": "markdown",
   "id": "f22d007e-79fb-4370-a024-8def987c98f2",
   "metadata": {},
   "source": [
    "$b_{1} = \\frac{(\\sum{\\mathbf{x}_{2}^{2}})(\\sum{\\mathbf{x}_{1} \\mathbf{y}}) - (\\sum{\\mathbf{x}_{1} \\mathbf{x}_{2}})(\\sum{\\mathbf{x}_{2} \\mathbf{y}})}{(\\sum{\\mathbf{x}_{1}^{2}})(\\sum{\\mathbf{x}_{2}^{2}}) - (\\sum{\\mathbf{x}_{1} \\mathbf{x}_{2}}^{2})}$"
   ]
  },
  {
   "cell_type": "markdown",
   "id": "fe3f0f77-e52a-487e-aae1-b1e6fe0e6284",
   "metadata": {},
   "source": [
    "$b_{2} = \\frac{(\\sum{\\mathbf{x}_{1}^{2}})(\\sum{\\mathbf{x}_{2} \\mathbf{y}}) - (\\sum{\\mathbf{x}_{1} \\mathbf{x}_{2}})(\\sum{\\mathbf{x}_{1} \\mathbf{y}})}{(\\sum{\\mathbf{x}_{1}^{2}})(\\sum{\\mathbf{x}_{2}^{2}}) - (\\sum{\\mathbf{x}_{1} \\mathbf{x}_{2}}^{2})}$"
   ]
  },
  {
   "cell_type": "code",
   "execution_count": 65,
   "id": "4e1e8d51-ab32-4319-99e9-cb87ac9aaebb",
   "metadata": {},
   "outputs": [],
   "source": [
    "X1, X2, Y = [3, 4, 5, 6, 2], [8, 5, 7, 3, 1], [-3.718, 3.503, 2.455, 11.469, 5.676]"
   ]
  },
  {
   "cell_type": "code",
   "execution_count": 22,
   "id": "9b05a496-1d3b-493b-bc3c-35acfd5b2064",
   "metadata": {},
   "outputs": [
    {
     "data": {
      "text/latex": [
       "$\\displaystyle \\left[\\begin{matrix}3 & 4 & 5 & 6 & 2\\end{matrix}\\right]$"
      ],
      "text/plain": [
       "[3  4  5  6  2]"
      ]
     },
     "execution_count": 22,
     "metadata": {},
     "output_type": "execute_result"
    }
   ],
   "source": [
    "X1"
   ]
  },
  {
   "cell_type": "code",
   "execution_count": 66,
   "id": "48d2526a-d40e-45c1-9f14-2bccdcf44247",
   "metadata": {},
   "outputs": [],
   "source": [
    "X1_sqr = sum([x**2 for x in X1])"
   ]
  },
  {
   "cell_type": "code",
   "execution_count": 67,
   "id": "85e32bbf-5c30-41e4-9c43-f967e0ef4376",
   "metadata": {},
   "outputs": [],
   "source": [
    "X2_sqr = sum([x**2 for x in X2])"
   ]
  },
  {
   "cell_type": "code",
   "execution_count": 68,
   "id": "c42a0338-a906-409b-a3c8-292b40265185",
   "metadata": {},
   "outputs": [],
   "source": [
    "X1_sum = sum([x for x in X1])"
   ]
  },
  {
   "cell_type": "code",
   "execution_count": 69,
   "id": "eaad52a0-0890-4ab0-8f1c-2eee8b2e4b8d",
   "metadata": {},
   "outputs": [],
   "source": [
    "X2_sum = sum([x for x in X2])"
   ]
  },
  {
   "cell_type": "code",
   "execution_count": 73,
   "id": "093b37ad-9e48-4b1d-beb7-2e740824eb8d",
   "metadata": {},
   "outputs": [],
   "source": [
    "Y_sum = sum([y for y in Y])"
   ]
  },
  {
   "cell_type": "code",
   "execution_count": 70,
   "id": "3a0e1aa7-3bfc-4ca2-9271-a955df574c6f",
   "metadata": {},
   "outputs": [],
   "source": [
    "X1_Y_sum = sum(x * y for x, y in zip(X1, Y))"
   ]
  },
  {
   "cell_type": "code",
   "execution_count": 71,
   "id": "218669a3-4940-401b-b54e-f8f8c67040d0",
   "metadata": {},
   "outputs": [],
   "source": [
    "X2_Y_sum = sum(x * y for x, y in zip(X2, Y))"
   ]
  },
  {
   "cell_type": "code",
   "execution_count": 79,
   "id": "8e929d7c-b112-44ea-8437-a8b42e7796ab",
   "metadata": {},
   "outputs": [],
   "source": [
    "X1_X2_sum = sum(x1 * x2 for x1, x2 in zip(X1, X2))"
   ]
  },
  {
   "cell_type": "code",
   "execution_count": 80,
   "id": "e0fa09ce-076d-46ae-b6cb-01775d7f0e74",
   "metadata": {},
   "outputs": [
    {
     "name": "stdout",
     "output_type": "stream",
     "text": [
      "Variable    Type     Data/Info\n",
      "------------------------------\n",
      "X1          list     n=5\n",
      "X1_X2_sum   int      99\n",
      "X1_Y_sum    float    95.29899999999999\n",
      "X1_sqr      int      90\n",
      "X1_sum      int      20\n",
      "X2          list     n=5\n",
      "X2_Y_sum    float    45.039\n",
      "X2_sqr      int      148\n",
      "X2_sum      int      24\n",
      "Y           list     n=5\n",
      "Y_sum       float    19.384999999999998\n"
     ]
    }
   ],
   "source": [
    "%whos"
   ]
  },
  {
   "cell_type": "code",
   "execution_count": 89,
   "id": "463f4120-df6d-4143-b13b-8d688380724d",
   "metadata": {},
   "outputs": [
    {
     "data": {
      "image/png": "[encoded data removed]",
      "text/latex": [
       "$\\displaystyle 10.0$"
      ],
      "text/plain": [
       "10.0"
      ]
     },
     "execution_count": 89,
     "metadata": {},
     "output_type": "execute_result"
    }
   ],
   "source": [
    "x1_sqr = X1_sqr - X1_sum**2 / len(X1); x1_sqr"
   ]
  },
  {
   "cell_type": "code",
   "execution_count": 90,
   "id": "ef1c348a-6f02-4ca1-b49a-8b206dc6596f",
   "metadata": {},
   "outputs": [
    {
     "data": {
      "image/png": "[encoded data removed]",
      "text/latex": [
       "$\\displaystyle 32.8$"
      ],
      "text/plain": [
       "32.8"
      ]
     },
     "execution_count": 90,
     "metadata": {},
     "output_type": "execute_result"
    }
   ],
   "source": [
    "x2_sqr = X2_sqr - X2_sum**2 / len(X2); x2_sqr"
   ]
  },
  {
   "cell_type": "code",
   "execution_count": 91,
   "id": "8d4bb1d7-49ea-40a7-822e-045bef8fbc32",
   "metadata": {},
   "outputs": [
    {
     "data": {
      "image/png": "[encoded data removed]",
      "text/latex": [
       "$\\displaystyle 17.759$"
      ],
      "text/plain": [
       "17.759"
      ]
     },
     "execution_count": 91,
     "metadata": {},
     "output_type": "execute_result"
    }
   ],
   "source": [
    "x1_y_sum = X1_Y_sum - X1_sum * Y_sum / len(Y); x1_y_sum"
   ]
  },
  {
   "cell_type": "code",
   "execution_count": 92,
   "id": "b4d2200a-0405-4a12-addf-528c0daa0d3f",
   "metadata": {},
   "outputs": [
    {
     "data": {
      "image/png": "[encoded data removed]",
      "text/latex": [
       "$\\displaystyle -48.009$"
      ],
      "text/plain": [
       "-48.008999999999986"
      ]
     },
     "execution_count": 92,
     "metadata": {},
     "output_type": "execute_result"
    }
   ],
   "source": [
    "x2_y_sum = X2_Y_sum - X2_sum * Y_sum / len(Y); x2_y_sum"
   ]
  },
  {
   "cell_type": "code",
   "execution_count": 93,
   "id": "d69da974-6627-4f7c-a8a5-b562e2d60c89",
   "metadata": {},
   "outputs": [
    {
     "data": {
      "image/png": "[encoded data removed]",
      "text/latex": [
       "$\\displaystyle 3.0$"
      ],
      "text/plain": [
       "3.0"
      ]
     },
     "execution_count": 93,
     "metadata": {},
     "output_type": "execute_result"
    }
   ],
   "source": [
    "x1_x2_sum = X1_X2_sum - X1_sum * X2_sum / len(X1); x1_x2_sum"
   ]
  },
  {
   "cell_type": "code",
   "execution_count": 105,
   "id": "2ae3af61-76aa-4099-8e3e-a503060c1cb6",
   "metadata": {},
   "outputs": [
    {
     "name": "stdout",
     "output_type": "stream",
     "text": [
      "2.277499059561128\n"
     ]
    }
   ],
   "source": [
    "b1 = ((x2_sqr) * (x1_y_sum) - (x1_x2_sum) * (x2_y_sum)) \\\n",
    "   / ((x1_sqr) * (x2_sqr) - (x1_x2_sum)**2); print(b1)"
   ]
  },
  {
   "cell_type": "code",
   "execution_count": 106,
   "id": "fec69aea-466c-4513-b3a7-353ddba627a3",
   "metadata": {},
   "outputs": [
    {
     "name": "stdout",
     "output_type": "stream",
     "text": [
      "-1.6719968652037613\n"
     ]
    }
   ],
   "source": [
    "b2 = ((x1_sqr) * (x2_y_sum) - (x1_x2_sum) * (x1_y_sum)) \\\n",
    "   / ((x1_sqr) * (x2_sqr) - (x1_x2_sum)**2); print(b2)"
   ]
  },
  {
   "cell_type": "code",
   "execution_count": 104,
   "id": "4753094b-76d1-446c-af16-abd99128d8f1",
   "metadata": {},
   "outputs": [
    {
     "name": "stdout",
     "output_type": "stream",
     "text": [
      "2.792588714733541\n"
     ]
    }
   ],
   "source": [
    "b0 = Y_sum / len(Y) - b1 * X1_sum / len(X1) - b2 * X2_sum / len(X2); print(b0)"
   ]
  },
  {
   "cell_type": "code",
   "execution_count": 1,
   "id": "aa2a92af-9f7f-4d76-b0f8-a81faf6dd60e",
   "metadata": {},
   "outputs": [],
   "source": [
    "import pandas as pd"
   ]
  },
  {
   "cell_type": "code",
   "execution_count": 5,
   "id": "871ca88a-b139-4b17-aa93-35907fc0e6dc",
   "metadata": {},
   "outputs": [
    {
     "data": {
      "text/html": [
       "<div>\n",
       "<style scoped>\n",
       "    .dataframe tbody tr th:only-of-type {\n",
       "        vertical-align: middle;\n",
       "    }\n",
       "\n",
       "    .dataframe tbody tr th {\n",
       "        vertical-align: top;\n",
       "    }\n",
       "\n",
       "    .dataframe thead th {\n",
       "        text-align: right;\n",
       "    }\n",
       "</style>\n",
       "<table border=\"1\" class=\"dataframe\">\n",
       "  <thead>\n",
       "    <tr style=\"text-align: right;\">\n",
       "      <th></th>\n",
       "      <th>hip</th>\n",
       "      <th>hd</th>\n",
       "      <th>hr</th>\n",
       "      <th>gl</th>\n",
       "      <th>bf</th>\n",
       "      <th>proper</th>\n",
       "      <th>ra</th>\n",
       "      <th>dec</th>\n",
       "      <th>dist</th>\n",
       "      <th>pmra</th>\n",
       "      <th>...</th>\n",
       "      <th>bayer</th>\n",
       "      <th>flam</th>\n",
       "      <th>con</th>\n",
       "      <th>comp</th>\n",
       "      <th>comp_primary</th>\n",
       "      <th>base</th>\n",
       "      <th>lum</th>\n",
       "      <th>var</th>\n",
       "      <th>var_min</th>\n",
       "      <th>var_max</th>\n",
       "    </tr>\n",
       "    <tr>\n",
       "      <th>id</th>\n",
       "      <th></th>\n",
       "      <th></th>\n",
       "      <th></th>\n",
       "      <th></th>\n",
       "      <th></th>\n",
       "      <th></th>\n",
       "      <th></th>\n",
       "      <th></th>\n",
       "      <th></th>\n",
       "      <th></th>\n",
       "      <th></th>\n",
       "      <th></th>\n",
       "      <th></th>\n",
       "      <th></th>\n",
       "      <th></th>\n",
       "      <th></th>\n",
       "      <th></th>\n",
       "      <th></th>\n",
       "      <th></th>\n",
       "      <th></th>\n",
       "      <th></th>\n",
       "    </tr>\n",
       "  </thead>\n",
       "  <tbody>\n",
       "    <tr>\n",
       "      <th>0</th>\n",
       "      <td>NaN</td>\n",
       "      <td>NaN</td>\n",
       "      <td>NaN</td>\n",
       "      <td>NaN</td>\n",
       "      <td>NaN</td>\n",
       "      <td>Sol</td>\n",
       "      <td>0.000000</td>\n",
       "      <td>0.000000</td>\n",
       "      <td>0.0000</td>\n",
       "      <td>0.00</td>\n",
       "      <td>...</td>\n",
       "      <td>NaN</td>\n",
       "      <td>NaN</td>\n",
       "      <td>NaN</td>\n",
       "      <td>1</td>\n",
       "      <td>0</td>\n",
       "      <td>NaN</td>\n",
       "      <td>1.000000e+00</td>\n",
       "      <td>NaN</td>\n",
       "      <td>NaN</td>\n",
       "      <td>NaN</td>\n",
       "    </tr>\n",
       "    <tr>\n",
       "      <th>1</th>\n",
       "      <td>1.0</td>\n",
       "      <td>224700.0</td>\n",
       "      <td>NaN</td>\n",
       "      <td>NaN</td>\n",
       "      <td>NaN</td>\n",
       "      <td>NaN</td>\n",
       "      <td>0.000060</td>\n",
       "      <td>1.089009</td>\n",
       "      <td>219.7802</td>\n",
       "      <td>-5.20</td>\n",
       "      <td>...</td>\n",
       "      <td>NaN</td>\n",
       "      <td>NaN</td>\n",
       "      <td>Psc</td>\n",
       "      <td>1</td>\n",
       "      <td>1</td>\n",
       "      <td>NaN</td>\n",
       "      <td>9.638290e+00</td>\n",
       "      <td>NaN</td>\n",
       "      <td>NaN</td>\n",
       "      <td>NaN</td>\n",
       "    </tr>\n",
       "    <tr>\n",
       "      <th>2</th>\n",
       "      <td>2.0</td>\n",
       "      <td>224690.0</td>\n",
       "      <td>NaN</td>\n",
       "      <td>NaN</td>\n",
       "      <td>NaN</td>\n",
       "      <td>NaN</td>\n",
       "      <td>0.000283</td>\n",
       "      <td>-19.498840</td>\n",
       "      <td>47.9616</td>\n",
       "      <td>181.21</td>\n",
       "      <td>...</td>\n",
       "      <td>NaN</td>\n",
       "      <td>NaN</td>\n",
       "      <td>Cet</td>\n",
       "      <td>1</td>\n",
       "      <td>2</td>\n",
       "      <td>NaN</td>\n",
       "      <td>3.922835e-01</td>\n",
       "      <td>NaN</td>\n",
       "      <td>NaN</td>\n",
       "      <td>NaN</td>\n",
       "    </tr>\n",
       "    <tr>\n",
       "      <th>3</th>\n",
       "      <td>3.0</td>\n",
       "      <td>224699.0</td>\n",
       "      <td>NaN</td>\n",
       "      <td>NaN</td>\n",
       "      <td>NaN</td>\n",
       "      <td>NaN</td>\n",
       "      <td>0.000335</td>\n",
       "      <td>38.859279</td>\n",
       "      <td>442.4779</td>\n",
       "      <td>5.24</td>\n",
       "      <td>...</td>\n",
       "      <td>NaN</td>\n",
       "      <td>NaN</td>\n",
       "      <td>And</td>\n",
       "      <td>1</td>\n",
       "      <td>3</td>\n",
       "      <td>NaN</td>\n",
       "      <td>3.869011e+02</td>\n",
       "      <td>NaN</td>\n",
       "      <td>NaN</td>\n",
       "      <td>NaN</td>\n",
       "    </tr>\n",
       "    <tr>\n",
       "      <th>4</th>\n",
       "      <td>4.0</td>\n",
       "      <td>224707.0</td>\n",
       "      <td>NaN</td>\n",
       "      <td>NaN</td>\n",
       "      <td>NaN</td>\n",
       "      <td>NaN</td>\n",
       "      <td>0.000569</td>\n",
       "      <td>-51.893546</td>\n",
       "      <td>134.2282</td>\n",
       "      <td>62.85</td>\n",
       "      <td>...</td>\n",
       "      <td>NaN</td>\n",
       "      <td>NaN</td>\n",
       "      <td>Phe</td>\n",
       "      <td>1</td>\n",
       "      <td>4</td>\n",
       "      <td>NaN</td>\n",
       "      <td>9.366989e+00</td>\n",
       "      <td>NaN</td>\n",
       "      <td>NaN</td>\n",
       "      <td>NaN</td>\n",
       "    </tr>\n",
       "    <tr>\n",
       "      <th>...</th>\n",
       "      <td>...</td>\n",
       "      <td>...</td>\n",
       "      <td>...</td>\n",
       "      <td>...</td>\n",
       "      <td>...</td>\n",
       "      <td>...</td>\n",
       "      <td>...</td>\n",
       "      <td>...</td>\n",
       "      <td>...</td>\n",
       "      <td>...</td>\n",
       "      <td>...</td>\n",
       "      <td>...</td>\n",
       "      <td>...</td>\n",
       "      <td>...</td>\n",
       "      <td>...</td>\n",
       "      <td>...</td>\n",
       "      <td>...</td>\n",
       "      <td>...</td>\n",
       "      <td>...</td>\n",
       "      <td>...</td>\n",
       "      <td>...</td>\n",
       "    </tr>\n",
       "    <tr>\n",
       "      <th>119626</th>\n",
       "      <td>NaN</td>\n",
       "      <td>124953.0</td>\n",
       "      <td>5343.0</td>\n",
       "      <td>NaN</td>\n",
       "      <td>NaN</td>\n",
       "      <td>NaN</td>\n",
       "      <td>14.267833</td>\n",
       "      <td>18.911944</td>\n",
       "      <td>100000.0000</td>\n",
       "      <td>43.00</td>\n",
       "      <td>...</td>\n",
       "      <td>NaN</td>\n",
       "      <td>NaN</td>\n",
       "      <td>Boo</td>\n",
       "      <td>1</td>\n",
       "      <td>119626</td>\n",
       "      <td>NaN</td>\n",
       "      <td>3.531832e+07</td>\n",
       "      <td>CN</td>\n",
       "      <td>6.01</td>\n",
       "      <td>5.98</td>\n",
       "    </tr>\n",
       "    <tr>\n",
       "      <th>119627</th>\n",
       "      <td>NaN</td>\n",
       "      <td>152249.0</td>\n",
       "      <td>6263.0</td>\n",
       "      <td>NaN</td>\n",
       "      <td>NaN</td>\n",
       "      <td>NaN</td>\n",
       "      <td>16.903278</td>\n",
       "      <td>-41.850278</td>\n",
       "      <td>100000.0000</td>\n",
       "      <td>11.00</td>\n",
       "      <td>...</td>\n",
       "      <td>NaN</td>\n",
       "      <td>NaN</td>\n",
       "      <td>Sco</td>\n",
       "      <td>1</td>\n",
       "      <td>119627</td>\n",
       "      <td>NaN</td>\n",
       "      <td>2.290868e+07</td>\n",
       "      <td>NaN</td>\n",
       "      <td>NaN</td>\n",
       "      <td>NaN</td>\n",
       "    </tr>\n",
       "    <tr>\n",
       "      <th>119628</th>\n",
       "      <td>NaN</td>\n",
       "      <td>162678.0</td>\n",
       "      <td>6660.0</td>\n",
       "      <td>NaN</td>\n",
       "      <td>NaN</td>\n",
       "      <td>NaN</td>\n",
       "      <td>17.895972</td>\n",
       "      <td>-34.786111</td>\n",
       "      <td>100000.0000</td>\n",
       "      <td>10.00</td>\n",
       "      <td>...</td>\n",
       "      <td>NaN</td>\n",
       "      <td>NaN</td>\n",
       "      <td>Eco</td>\n",
       "      <td>1</td>\n",
       "      <td>119628</td>\n",
       "      <td>NaN</td>\n",
       "      <td>2.443431e+07</td>\n",
       "      <td>NaN</td>\n",
       "      <td>NaN</td>\n",
       "      <td>NaN</td>\n",
       "    </tr>\n",
       "    <tr>\n",
       "      <th>119629</th>\n",
       "      <td>NaN</td>\n",
       "      <td>168021.0</td>\n",
       "      <td>6848.0</td>\n",
       "      <td>NaN</td>\n",
       "      <td>NaN</td>\n",
       "      <td>NaN</td>\n",
       "      <td>18.312028</td>\n",
       "      <td>-18.619444</td>\n",
       "      <td>100000.0000</td>\n",
       "      <td>11.00</td>\n",
       "      <td>...</td>\n",
       "      <td>NaN</td>\n",
       "      <td>NaN</td>\n",
       "      <td>Sir</td>\n",
       "      <td>1</td>\n",
       "      <td>119629</td>\n",
       "      <td>NaN</td>\n",
       "      <td>1.599558e+07</td>\n",
       "      <td>NaN</td>\n",
       "      <td>NaN</td>\n",
       "      <td>NaN</td>\n",
       "    </tr>\n",
       "    <tr>\n",
       "      <th>119630</th>\n",
       "      <td>NaN</td>\n",
       "      <td>224960.0</td>\n",
       "      <td>9090.0</td>\n",
       "      <td>NaN</td>\n",
       "      <td>NaN</td>\n",
       "      <td>NaN</td>\n",
       "      <td>0.035361</td>\n",
       "      <td>-14.676111</td>\n",
       "      <td>100000.0000</td>\n",
       "      <td>-13.00</td>\n",
       "      <td>...</td>\n",
       "      <td>NaN</td>\n",
       "      <td>NaN</td>\n",
       "      <td>Cet</td>\n",
       "      <td>1</td>\n",
       "      <td>119630</td>\n",
       "      <td>NaN</td>\n",
       "      <td>1.258925e+07</td>\n",
       "      <td>W</td>\n",
       "      <td>14.80</td>\n",
       "      <td>7.10</td>\n",
       "    </tr>\n",
       "  </tbody>\n",
       "</table>\n",
       "<p>119626 rows × 36 columns</p>\n",
       "</div>"
      ],
      "text/plain": [
       "        hip        hd      hr   gl   bf proper         ra        dec  \\\n",
       "id                                                                     \n",
       "0       NaN       NaN     NaN  NaN  NaN    Sol   0.000000   0.000000   \n",
       "1       1.0  224700.0     NaN  NaN  NaN    NaN   0.000060   1.089009   \n",
       "2       2.0  224690.0     NaN  NaN  NaN    NaN   0.000283 -19.498840   \n",
       "3       3.0  224699.0     NaN  NaN  NaN    NaN   0.000335  38.859279   \n",
       "4       4.0  224707.0     NaN  NaN  NaN    NaN   0.000569 -51.893546   \n",
       "...     ...       ...     ...  ...  ...    ...        ...        ...   \n",
       "119626  NaN  124953.0  5343.0  NaN  NaN    NaN  14.267833  18.911944   \n",
       "119627  NaN  152249.0  6263.0  NaN  NaN    NaN  16.903278 -41.850278   \n",
       "119628  NaN  162678.0  6660.0  NaN  NaN    NaN  17.895972 -34.786111   \n",
       "119629  NaN  168021.0  6848.0  NaN  NaN    NaN  18.312028 -18.619444   \n",
       "119630  NaN  224960.0  9090.0  NaN  NaN    NaN   0.035361 -14.676111   \n",
       "\n",
       "               dist    pmra  ...  bayer  flam  con  comp comp_primary  base  \\\n",
       "id                           ...                                              \n",
       "0            0.0000    0.00  ...    NaN   NaN  NaN     1            0   NaN   \n",
       "1          219.7802   -5.20  ...    NaN   NaN  Psc     1            1   NaN   \n",
       "2           47.9616  181.21  ...    NaN   NaN  Cet     1            2   NaN   \n",
       "3          442.4779    5.24  ...    NaN   NaN  And     1            3   NaN   \n",
       "4          134.2282   62.85  ...    NaN   NaN  Phe     1            4   NaN   \n",
       "...             ...     ...  ...    ...   ...  ...   ...          ...   ...   \n",
       "119626  100000.0000   43.00  ...    NaN   NaN  Boo     1       119626   NaN   \n",
       "119627  100000.0000   11.00  ...    NaN   NaN  Sco     1       119627   NaN   \n",
       "119628  100000.0000   10.00  ...    NaN   NaN  Eco     1       119628   NaN   \n",
       "119629  100000.0000   11.00  ...    NaN   NaN  Sir     1       119629   NaN   \n",
       "119630  100000.0000  -13.00  ...    NaN   NaN  Cet     1       119630   NaN   \n",
       "\n",
       "                 lum  var  var_min  var_max  \n",
       "id                                           \n",
       "0       1.000000e+00  NaN      NaN      NaN  \n",
       "1       9.638290e+00  NaN      NaN      NaN  \n",
       "2       3.922835e-01  NaN      NaN      NaN  \n",
       "3       3.869011e+02  NaN      NaN      NaN  \n",
       "4       9.366989e+00  NaN      NaN      NaN  \n",
       "...              ...  ...      ...      ...  \n",
       "119626  3.531832e+07   CN     6.01     5.98  \n",
       "119627  2.290868e+07  NaN      NaN      NaN  \n",
       "119628  2.443431e+07  NaN      NaN      NaN  \n",
       "119629  1.599558e+07  NaN      NaN      NaN  \n",
       "119630  1.258925e+07    W    14.80     7.10  \n",
       "\n",
       "[119626 rows x 36 columns]"
      ]
     },
     "execution_count": 5,
     "metadata": {},
     "output_type": "execute_result"
    }
   ],
   "source": [
    "starCatalog = pd.read_csv('~/repo/intro_to_programming/datafile/hygdata_v41.zip', compression='zip', index_col=0)\n",
    "starCatalog"
   ]
  },
  {
   "cell_type": "code",
   "execution_count": 7,
   "id": "8dd705ef-ec77-48e0-8ed9-48b0e94449f5",
   "metadata": {},
   "outputs": [
    {
     "data": {
      "text/html": [
       "<div>\n",
       "<style scoped>\n",
       "    .dataframe tbody tr th:only-of-type {\n",
       "        vertical-align: middle;\n",
       "    }\n",
       "\n",
       "    .dataframe tbody tr th {\n",
       "        vertical-align: top;\n",
       "    }\n",
       "\n",
       "    .dataframe thead th {\n",
       "        text-align: right;\n",
       "    }\n",
       "</style>\n",
       "<table border=\"1\" class=\"dataframe\">\n",
       "  <thead>\n",
       "    <tr style=\"text-align: right;\">\n",
       "      <th></th>\n",
       "      <th>absmag</th>\n",
       "      <th>mag</th>\n",
       "      <th>dist</th>\n",
       "    </tr>\n",
       "    <tr>\n",
       "      <th>id</th>\n",
       "      <th></th>\n",
       "      <th></th>\n",
       "      <th></th>\n",
       "    </tr>\n",
       "  </thead>\n",
       "  <tbody>\n",
       "    <tr>\n",
       "      <th>0</th>\n",
       "      <td>4.850</td>\n",
       "      <td>-26.70</td>\n",
       "      <td>0.0000</td>\n",
       "    </tr>\n",
       "    <tr>\n",
       "      <th>1</th>\n",
       "      <td>2.390</td>\n",
       "      <td>9.10</td>\n",
       "      <td>219.7802</td>\n",
       "    </tr>\n",
       "    <tr>\n",
       "      <th>2</th>\n",
       "      <td>5.866</td>\n",
       "      <td>9.27</td>\n",
       "      <td>47.9616</td>\n",
       "    </tr>\n",
       "    <tr>\n",
       "      <th>3</th>\n",
       "      <td>-1.619</td>\n",
       "      <td>6.61</td>\n",
       "      <td>442.4779</td>\n",
       "    </tr>\n",
       "    <tr>\n",
       "      <th>4</th>\n",
       "      <td>2.421</td>\n",
       "      <td>8.06</td>\n",
       "      <td>134.2282</td>\n",
       "    </tr>\n",
       "    <tr>\n",
       "      <th>...</th>\n",
       "      <td>...</td>\n",
       "      <td>...</td>\n",
       "      <td>...</td>\n",
       "    </tr>\n",
       "    <tr>\n",
       "      <th>119626</th>\n",
       "      <td>-14.020</td>\n",
       "      <td>5.98</td>\n",
       "      <td>100000.0000</td>\n",
       "    </tr>\n",
       "    <tr>\n",
       "      <th>119627</th>\n",
       "      <td>-13.550</td>\n",
       "      <td>6.45</td>\n",
       "      <td>100000.0000</td>\n",
       "    </tr>\n",
       "    <tr>\n",
       "      <th>119628</th>\n",
       "      <td>-13.620</td>\n",
       "      <td>6.38</td>\n",
       "      <td>100000.0000</td>\n",
       "    </tr>\n",
       "    <tr>\n",
       "      <th>119629</th>\n",
       "      <td>-13.160</td>\n",
       "      <td>6.84</td>\n",
       "      <td>100000.0000</td>\n",
       "    </tr>\n",
       "    <tr>\n",
       "      <th>119630</th>\n",
       "      <td>-12.900</td>\n",
       "      <td>7.10</td>\n",
       "      <td>100000.0000</td>\n",
       "    </tr>\n",
       "  </tbody>\n",
       "</table>\n",
       "<p>119626 rows × 3 columns</p>\n",
       "</div>"
      ],
      "text/plain": [
       "        absmag    mag         dist\n",
       "id                                \n",
       "0        4.850 -26.70       0.0000\n",
       "1        2.390   9.10     219.7802\n",
       "2        5.866   9.27      47.9616\n",
       "3       -1.619   6.61     442.4779\n",
       "4        2.421   8.06     134.2282\n",
       "...        ...    ...          ...\n",
       "119626 -14.020   5.98  100000.0000\n",
       "119627 -13.550   6.45  100000.0000\n",
       "119628 -13.620   6.38  100000.0000\n",
       "119629 -13.160   6.84  100000.0000\n",
       "119630 -12.900   7.10  100000.0000\n",
       "\n",
       "[119626 rows x 3 columns]"
      ]
     },
     "execution_count": 7,
     "metadata": {},
     "output_type": "execute_result"
    }
   ],
   "source": [
    "star_mag = starCatalog[[\"absmag\", \"mag\", \"dist\"]].copy(); star_mag"
   ]
  },
  {
   "cell_type": "code",
   "execution_count": 54,
   "id": "cef2a261-a3c0-4bd6-a8ca-0858fbb70027",
   "metadata": {},
   "outputs": [],
   "source": [
    "star_mag.drop(star_mag.tail(10225).index,inplace=True) # drop last n rows"
   ]
  },
  {
   "cell_type": "code",
   "execution_count": 66,
   "id": "85d0cd24-71fd-4a1a-bf82-32572e842c27",
   "metadata": {},
   "outputs": [],
   "source": [
    "star_mag.drop(star_mag.head(1).index,inplace=True) # drop the sun (log10(0))"
   ]
  },
  {
   "cell_type": "code",
   "execution_count": 67,
   "id": "482f53fc-553d-4829-a95b-d1153e2e7a72",
   "metadata": {},
   "outputs": [
    {
     "data": {
      "text/html": [
       "<div>\n",
       "<style scoped>\n",
       "    .dataframe tbody tr th:only-of-type {\n",
       "        vertical-align: middle;\n",
       "    }\n",
       "\n",
       "    .dataframe tbody tr th {\n",
       "        vertical-align: top;\n",
       "    }\n",
       "\n",
       "    .dataframe thead th {\n",
       "        text-align: right;\n",
       "    }\n",
       "</style>\n",
       "<table border=\"1\" class=\"dataframe\">\n",
       "  <thead>\n",
       "    <tr style=\"text-align: right;\">\n",
       "      <th></th>\n",
       "      <th>absmag</th>\n",
       "      <th>mag</th>\n",
       "      <th>dist</th>\n",
       "    </tr>\n",
       "    <tr>\n",
       "      <th>id</th>\n",
       "      <th></th>\n",
       "      <th></th>\n",
       "      <th></th>\n",
       "    </tr>\n",
       "  </thead>\n",
       "  <tbody>\n",
       "    <tr>\n",
       "      <th>70666</th>\n",
       "      <td>15.447</td>\n",
       "      <td>11.01</td>\n",
       "      <td>1.2959</td>\n",
       "    </tr>\n",
       "    <tr>\n",
       "      <th>71453</th>\n",
       "      <td>5.739</td>\n",
       "      <td>1.35</td>\n",
       "      <td>1.3248</td>\n",
       "    </tr>\n",
       "    <tr>\n",
       "      <th>71456</th>\n",
       "      <td>4.379</td>\n",
       "      <td>-0.01</td>\n",
       "      <td>1.3248</td>\n",
       "    </tr>\n",
       "    <tr>\n",
       "      <th>87665</th>\n",
       "      <td>13.235</td>\n",
       "      <td>9.54</td>\n",
       "      <td>1.8238</td>\n",
       "    </tr>\n",
       "    <tr>\n",
       "      <th>118720</th>\n",
       "      <td>16.557</td>\n",
       "      <td>13.45</td>\n",
       "      <td>2.3906</td>\n",
       "    </tr>\n",
       "    <tr>\n",
       "      <th>...</th>\n",
       "      <td>...</td>\n",
       "      <td>...</td>\n",
       "      <td>...</td>\n",
       "    </tr>\n",
       "    <tr>\n",
       "      <th>49786</th>\n",
       "      <td>-0.948</td>\n",
       "      <td>9.03</td>\n",
       "      <td>990.0990</td>\n",
       "    </tr>\n",
       "    <tr>\n",
       "      <th>6773</th>\n",
       "      <td>-1.668</td>\n",
       "      <td>8.31</td>\n",
       "      <td>990.0990</td>\n",
       "    </tr>\n",
       "    <tr>\n",
       "      <th>35670</th>\n",
       "      <td>-1.188</td>\n",
       "      <td>8.79</td>\n",
       "      <td>990.0990</td>\n",
       "    </tr>\n",
       "    <tr>\n",
       "      <th>106370</th>\n",
       "      <td>-1.698</td>\n",
       "      <td>8.28</td>\n",
       "      <td>990.0990</td>\n",
       "    </tr>\n",
       "    <tr>\n",
       "      <th>21076</th>\n",
       "      <td>-0.798</td>\n",
       "      <td>9.18</td>\n",
       "      <td>990.0990</td>\n",
       "    </tr>\n",
       "  </tbody>\n",
       "</table>\n",
       "<p>109400 rows × 3 columns</p>\n",
       "</div>"
      ],
      "text/plain": [
       "        absmag    mag      dist\n",
       "id                             \n",
       "70666   15.447  11.01    1.2959\n",
       "71453    5.739   1.35    1.3248\n",
       "71456    4.379  -0.01    1.3248\n",
       "87665   13.235   9.54    1.8238\n",
       "118720  16.557  13.45    2.3906\n",
       "...        ...    ...       ...\n",
       "49786   -0.948   9.03  990.0990\n",
       "6773    -1.668   8.31  990.0990\n",
       "35670   -1.188   8.79  990.0990\n",
       "106370  -1.698   8.28  990.0990\n",
       "21076   -0.798   9.18  990.0990\n",
       "\n",
       "[109400 rows x 3 columns]"
      ]
     },
     "execution_count": 67,
     "metadata": {},
     "output_type": "execute_result"
    }
   ],
   "source": [
    "star_mag"
   ]
  },
  {
   "cell_type": "code",
   "execution_count": 76,
   "id": "f5f06c80-178a-477a-8a79-76034cccef39",
   "metadata": {},
   "outputs": [],
   "source": [
    "# relationship between absolute magnitude (M), apparent magnitude (m), and distance (d)\n",
    "# M = m - 5 log10(d) + 5"
   ]
  },
  {
   "cell_type": "code",
   "execution_count": 57,
   "id": "7c14e53e-099b-43d2-8c66-69d8c4581a17",
   "metadata": {},
   "outputs": [],
   "source": [
    "from numpy import log10"
   ]
  },
  {
   "cell_type": "code",
   "execution_count": 71,
   "id": "d2c710b1-6202-4aaa-bb0a-3dac7247e102",
   "metadata": {},
   "outputs": [],
   "source": [
    "def MLR(X1: iter, X2: iter, Y: iter) -> tuple:\n",
    "    ''' Given 2 independent and 1 dependent variables,\n",
    "        return a tuple of the coefficients of the best-fit line in the form:\n",
    "        y = b0 + b1x1 + b2x2, where b0, b1, and b2 are the coefficients.\n",
    "        We assume that the input satisfies the requirements that render a unique solution.\n",
    "        Code is written entirely in built-in Python functions.\n",
    "        >>>MLR([3, 4, 5, 6, 2], [8, 5, 7, 3, 1], [-3.718, 3.503, 2.455, 11.469, 5.676])\n",
    "        (2.792588714733541, 2.277499059561128, -1.6719968652037613)\n",
    "    '''\n",
    "    # garbage filters\n",
    "    # initialization 1 # reckon sums with sum(), zip(), and list comprehension\n",
    "    X1_sum, X2_sum, Y_sum = sum([x for x in X1]), sum([x for x in X2]),sum([y for y in Y])\n",
    "    X1_sqr, X2_sqr = sum([x**2 for x in X1]), sum([x**2 for x in X2])\n",
    "    X1_Y_sum, X2_Y_sum = sum(x * y for x, y in zip(X1, Y)), sum(x * y for x, y in zip(X2, Y))\n",
    "    X1_X2_sum = sum(x1 * x2 for x1, x2 in zip(X1, X2))\n",
    "    # initialization 2 # use values calculated above\n",
    "    x1_sqr, x2_sqr = X1_sqr - X1_sum**2 / len(X1), X2_sqr - X2_sum**2 / len(X2)\n",
    "    x1_y_sum, x2_y_sum = X1_Y_sum - X1_sum * Y_sum / len(Y), X2_Y_sum - X2_sum * Y_sum / len(Y)\n",
    "    x1_x2_sum = X1_X2_sum - X1_sum * X2_sum / len(X1)\n",
    "    # implementation of the algorithm\n",
    "    b1 = ((x2_sqr) * (x1_y_sum) - (x1_x2_sum) * (x2_y_sum)) \\\n",
    "       / ((x1_sqr) * (x2_sqr) - (x1_x2_sum)**2)\n",
    "    b2 = ((x1_sqr) * (x2_y_sum) - (x1_x2_sum) * (x1_y_sum)) \\\n",
    "       / ((x1_sqr) * (x2_sqr) - (x1_x2_sum)**2)\n",
    "    b0 = Y_sum / len(Y) - b1 * X1_sum / len(X1) - b2 * X2_sum / len(X2)\n",
    "    return b0, b1, b2"
   ]
  },
  {
   "cell_type": "code",
   "execution_count": 75,
   "id": "5c0d8875-cf36-44fd-8497-a2f423bee9b1",
   "metadata": {},
   "outputs": [
    {
     "data": {
      "text/plain": [
       "(4.999944865597067, 0.9999969358280748, -4.999963998628692)"
      ]
     },
     "execution_count": 75,
     "metadata": {},
     "output_type": "execute_result"
    }
   ],
   "source": [
    "# if we input two independent vars + dependent var as column vectors, what do we get for coefficients?\n",
    "MLR(list(star_mag['mag']), list(log10(star_mag['dist'])), list(star_mag['absmag']))"
   ]
  },
  {
   "cell_type": "code",
   "execution_count": null,
   "id": "16c9e62d-c37b-41f2-a815-81876229d73f",
   "metadata": {},
   "outputs": [],
   "source": [
    "# M = b0 + b1 * m + b2 * log10(d)\n",
    "# M = 5 + m - 5 * log10(d)"
   ]
  }
 ],
 "metadata": {
  "kernelspec": {
   "display_name": "Python 3 (ipykernel)",
   "language": "python",
   "name": "python3"
  },
  "language_info": {
   "codemirror_mode": {
    "name": "ipython",
    "version": 3
   },
   "file_extension": ".py",
   "mimetype": "text/x-python",
   "name": "python",
   "nbconvert_exporter": "python",
   "pygments_lexer": "ipython3",
   "version": "3.13.5"
  }
 },
 "nbformat": 4,
 "nbformat_minor": 5
}
