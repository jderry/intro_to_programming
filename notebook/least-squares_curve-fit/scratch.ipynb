{
 "cells": [
  {
   "cell_type": "code",
   "execution_count": 62,
   "id": "d5d3399d-016f-4b27-806d-0a162f4e3583",
   "metadata": {},
   "outputs": [],
   "source": [
    "from sympy import N, plot, symbols, Matrix, ones, pprint\n",
    "from numpy import array\n",
    "from scipy.stats import norm\n",
    "from statsmodels.stats.stattools import durbin_watson\n",
    "from scipy.stats import kstest\n",
    "import matplotlib.pyplot as plt"
   ]
  },
  {
   "cell_type": "code",
   "execution_count": 95,
   "id": "0d854df4-8134-43e2-88ba-37989f073a7f",
   "metadata": {},
   "outputs": [],
   "source": [
    "def lin_model(x: iter, y: iter) -> str:\n",
    "    ''' Given two iterables of x and y numbers in a linear relationship, return least-squares best fit as sympy expression.\n",
    "        >>>lin_model([0, 1, 2, 3], [1, 3, 4, 4])\n",
    "        x + 3/2\n",
    "        >>>N(lin_model([2, 3, 5, 7, 9], [4, 5, 7, 10, 15]), 4) # from sympy import N\n",
    "        1.518x + 0.3049\n",
    "    '''\n",
    "    from sympy import Matrix, symbols, ones\n",
    "    # garbage filters\n",
    "    assert x and isinstance(x, list|tuple), \"input must be lists or tuples of ints or floats\"\n",
    "    assert y and isinstance(y, list|tuple), \"input must be lists or tuples of ints or floats\"\n",
    "    bad_values_x, bad_values_y = {}, {}\n",
    "    for index, value in enumerate(x):\n",
    "        if not isinstance(value, (int,float)):\n",
    "            bad_values_x[index] = (value, type(value).__name__)\n",
    "    for index, value in enumerate(y):\n",
    "        if not isinstance(value, (int,float)):\n",
    "            bad_values_y[index] = (value, type(value).__name__)\n",
    "    assert not (bad_values_x or bad_values_y), (\"input must be lists or tuples of ints or floats:\\n\"\n",
    "                                                \"\\t\\teach item reads index: (bad value, bad value type)\\n\"\n",
    "                                                     f\"\\t\\tx-vector: {bad_values_x}\\n\"\n",
    "                                                     f\"\\t\\ty-vector: {bad_values_y}\")\n",
    "    # initialization\n",
    "    onesV = ones(1, len(x)) # make vector of ones the same length as vector x\n",
    "    y = Matrix(y)\n",
    "    M = Matrix([onesV, x]).T\n",
    "    # BEGIN: ensure that M.T @ M) is invertible\n",
    "    try:\n",
    "        (M.T @ M).inv()\n",
    "    except:\n",
    "        print(\"ERROR\")\n",
    "        print(\"(M.T @ M) =\"); pprint(M.T @ M); print((\"(M.T @ M) is not invertible. A matrix must be square AND invertible to invert.\\n\"\n",
    "                                    \"For example, det|(M.T @ M)| cannot be 0. (There must be a unique solution.)\\n\"\n",
    "                                    \"Suggestion: Make sure that you input at least 2 datapoints\\n\"\n",
    "                                                 \"\\t    and that at least one of your datapoints is distinct.\"))\n",
    "        return\n",
    "    # END: ensure that M.T @ M) is invertible\n",
    "    # the algorithm: linear algebra least-squares optimizer\n",
    "    # a holds the coefficients of the equation y = a0 + a1 x\n",
    "    a = (M.T @ M).inv() @ M.T @ y\n",
    "    # initialize for printing\n",
    "    x = symbols('x')\n",
    "    return a[0] + x* a[1]"
   ]
  },
  {
   "cell_type": "code",
   "execution_count": 64,
   "id": "2b43647c-92a4-44d2-a360-3a4806f9d23b",
   "metadata": {},
   "outputs": [],
   "source": [
    "def test_lin_model(X: iter, Y: iter) -> tuple:\n",
    "    ''' Given two iterables of x and y numbers in a linear relationship,\n",
    "        show graph of scatterplot and best-fit line,\n",
    "        and return named tuple of expression of best-fit line and test results:\n",
    "        (Best-Fit Line, Homogeneity of Variance, Independence of Errors, and Normally Distributed Errors)\n",
    "        >>>lin_model([0, 1, 2, 3], [1, 3, 4, 4])\n",
    "        [Image of scatterplot of recorded values and best-fit line]\n",
    "        (x + 3/2, 0, 2, 0.74)\n",
    "    '''\n",
    "    # initialization\n",
    "    from sympy import N, plot, symbols, Matrix, ones\n",
    "    from numpy import array\n",
    "    from statsmodels.stats.stattools import durbin_watson\n",
    "    from scipy.stats import kstest\n",
    "    from collections import namedtuple\n",
    "    lm_results = \\\n",
    "    namedtuple('lm_results', 'expr HoV DW KS')\n",
    "    \n",
    "    # implementation\n",
    "    expr = lin_model(X, Y)\n",
    "\n",
    "    fig, ax = plt.subplots()\n",
    "    ax.scatter(X, Y)\n",
    "    plot(expr, fig=fig, ax=ax)\n",
    "    \n",
    "    x, y = symbols('x y')\n",
    "    # y = recorded values, y_hat = predicted values\n",
    "    # Y = Matrix(Y)\n",
    "    y_hat = lin_model(X, Y).subs(x, Matrix(X))\n",
    "\n",
    "    # sympy can't interpret scalar + vector\n",
    "    # so make same-sized vector of 3/2s, then add the two vectors\n",
    "    y_hat = y_hat.args[1] + y_hat.args[0] * ones(len(y_hat.args[1]), 1)\n",
    "\n",
    "    residuals = list(y_hat - Matrix(Y))\n",
    "\n",
    "    # Test 1: homogeneity of variance\n",
    "    HoV = sum(residuals)\n",
    "    # Test 2: Independence of Errors\n",
    "    DW = durbin_watson(residuals)\n",
    "    # Test 3: Normally distributed residuals\n",
    "    # Kolmogorov-Smirnov Test\n",
    "    # coerce residual vector values as np floats\n",
    "    # extract p-value, round to two digits\n",
    "    # no need for more because:\n",
    "    # p-value < 0.05 means NOT normally distributed\n",
    "    KS = round(float(kstest(array(residuals).astype(float), norm.cdf).pvalue), 2)\n",
    "\n",
    "    # return expr, HoV, DW, KS\n",
    "    expr = f\"y = {expr}\" # return a formatted string\n",
    "    return lm_results(expr, HoV, DW, KS)"
   ]
  },
  {
   "cell_type": "code",
   "execution_count": 67,
   "id": "26b07dbe-0e1a-4288-b2b2-d54e90b2c77a",
   "metadata": {},
   "outputs": [
    {
     "data": {
      "image/png": "[encoded data removed]",
      "text/plain": [
       "<Figure size 640x480 with 1 Axes>"
      ]
     },
     "metadata": {},
     "output_type": "display_data"
    },
    {
     "ename": "TypeError",
     "evalue": "object of type 'One' has no len()",
     "output_type": "error",
     "traceback": [
      "\u001b[31m---------------------------------------------------------------------------\u001b[39m",
      "\u001b[31mTypeError\u001b[39m                                 Traceback (most recent call last)",
      "\u001b[36mCell\u001b[39m\u001b[36m \u001b[39m\u001b[32mIn[67]\u001b[39m\u001b[32m, line 1\u001b[39m\n\u001b[32m----> \u001b[39m\u001b[32m1\u001b[39m test1 = \u001b[43mtest_lin_model\u001b[49m\u001b[43m(\u001b[49m\u001b[43m[\u001b[49m\u001b[32;43m3\u001b[39;49m\u001b[43m,\u001b[49m\u001b[43m \u001b[49m\u001b[32;43m9\u001b[39;49m\u001b[43m]\u001b[49m\u001b[43m,\u001b[49m\u001b[43m \u001b[49m\u001b[43m[\u001b[49m\u001b[32;43m4\u001b[39;49m\u001b[43m,\u001b[49m\u001b[43m \u001b[49m\u001b[32;43m12\u001b[39;49m\u001b[43m]\u001b[49m\u001b[43m)\u001b[49m\n",
      "\u001b[36mCell\u001b[39m\u001b[36m \u001b[39m\u001b[32mIn[64]\u001b[39m\u001b[32m, line 33\u001b[39m, in \u001b[36mtest_lin_model\u001b[39m\u001b[34m(X, Y)\u001b[39m\n\u001b[32m     29\u001b[39m y_hat = lin_model(X, Y).subs(x, Matrix(X))\n\u001b[32m     31\u001b[39m \u001b[38;5;66;03m# sympy can't interpret scalar + vector\u001b[39;00m\n\u001b[32m     32\u001b[39m \u001b[38;5;66;03m# so make same-sized vector of 3/2s, then add the two vectors\u001b[39;00m\n\u001b[32m---> \u001b[39m\u001b[32m33\u001b[39m y_hat = y_hat.args[\u001b[32m1\u001b[39m] + y_hat.args[\u001b[32m0\u001b[39m] * ones(\u001b[38;5;28;43mlen\u001b[39;49m\u001b[43m(\u001b[49m\u001b[43my_hat\u001b[49m\u001b[43m.\u001b[49m\u001b[43margs\u001b[49m\u001b[43m[\u001b[49m\u001b[32;43m1\u001b[39;49m\u001b[43m]\u001b[49m\u001b[43m)\u001b[49m, \u001b[32m1\u001b[39m)\n\u001b[32m     35\u001b[39m residuals = \u001b[38;5;28mlist\u001b[39m(y_hat - Matrix(Y))\n\u001b[32m     37\u001b[39m \u001b[38;5;66;03m# Test 1: homogeneity of variance\u001b[39;00m\n",
      "\u001b[31mTypeError\u001b[39m: object of type 'One' has no len()"
     ]
    }
   ],
   "source": [
    "test1 = test_lin_model([3, 9], [4, 12])"
   ]
  },
  {
   "cell_type": "code",
   "execution_count": null,
   "id": "7ac5d91a-957a-45c6-ab91-4d2943bfc5bd",
   "metadata": {},
   "outputs": [],
   "source": [
    "test1"
   ]
  },
  {
   "cell_type": "code",
   "execution_count": 98,
   "id": "c21e0934-3d0d-475b-b2ff-00bb795cffe5",
   "metadata": {},
   "outputs": [
    {
     "data": {
      "image/png": "[encoded data removed]",
      "text/latex": [
       "$\\displaystyle x + 1$"
      ],
      "text/plain": [
       "x + 1"
      ]
     },
     "execution_count": 98,
     "metadata": {},
     "output_type": "execute_result"
    }
   ],
   "source": [
    "lin_model([3, 4], [4, 5])"
   ]
  },
  {
   "cell_type": "code",
   "execution_count": null,
   "id": "f1e6a091-91d7-4936-8a91-aa0a4bdb8b5e",
   "metadata": {},
   "outputs": [],
   "source": [
    "x, y = symbols('x y')\n",
    "# y = recorded values, y_hat = predicted values\n",
    "y = Matrix([1, 3, 4, 4])\n",
    "y_hat = lin_model([0, 1, 2, 3], [1, 3, 4, 4]).subs(x, Matrix([0, 1, 2, 3])); y_hat"
   ]
  },
  {
   "cell_type": "code",
   "execution_count": null,
   "id": "4879f9fe-7333-428d-847b-1762d927fdce",
   "metadata": {},
   "outputs": [],
   "source": [
    "# sympy can't interpret scalar + vector\n",
    "# so make same-sized vector of 3/2s, then add the two vectors\n",
    "y_hat = y_hat.args[1] + y_hat.args[0] * ones(len(y_hat.args[1]), 1); y_hat"
   ]
  },
  {
   "cell_type": "code",
   "execution_count": null,
   "id": "51096b13-3ef4-4b2a-97f7-5f278a7605ab",
   "metadata": {},
   "outputs": [],
   "source": [
    "residuals = list(y_hat - y); residuals"
   ]
  },
  {
   "cell_type": "code",
   "execution_count": null,
   "id": "c7b8b92e-eda8-4916-aaf6-83d957afb613",
   "metadata": {},
   "outputs": [],
   "source": [
    "# Test 1: Homogeneity of Variance\n",
    "# residuals; do residuals sum to value close to zero?\n",
    "sum(y_hat - y)"
   ]
  },
  {
   "cell_type": "code",
   "execution_count": null,
   "id": "e516706a-6190-4783-af8b-fdb291306f0f",
   "metadata": {},
   "outputs": [],
   "source": [
    "# Test 2: Independence of Errors\n",
    "durbin_watson(residuals)"
   ]
  },
  {
   "cell_type": "code",
   "execution_count": null,
   "id": "b675cd03-17a4-443a-9760-ad2daac2d8a0",
   "metadata": {},
   "outputs": [],
   "source": [
    "# Test 3: Normally distributed residuals\n",
    "# Kolmogorov-Smirnov Test\n",
    "# coerce residual vector values as np floats\n",
    "# extract p-value, round to two digits\n",
    "# p-value >0.05 means NOT normally distributed\n",
    "round(float(kstest(array(residuals).astype(float), norm.cdf).pvalue), 2)"
   ]
  },
  {
   "cell_type": "code",
   "execution_count": 99,
   "id": "a2b8f9ed-e387-42e9-8540-6df8e8949932",
   "metadata": {},
   "outputs": [
    {
     "ename": "NonInvertibleMatrixError",
     "evalue": "Matrix det == 0; not invertible.",
     "output_type": "error",
     "traceback": [
      "\u001b[31m---------------------------------------------------------------------------\u001b[39m",
      "\u001b[31mDMNonInvertibleMatrixError\u001b[39m                Traceback (most recent call last)",
      "\u001b[36mFile \u001b[39m\u001b[32m~/.localPython/lib/python3.13/site-packages/sympy/matrices/inverse.py:326\u001b[39m, in \u001b[36m_inv_DM\u001b[39m\u001b[34m(dM, cancel)\u001b[39m\n\u001b[32m    325\u001b[39m \u001b[38;5;28;01mtry\u001b[39;00m:\n\u001b[32m--> \u001b[39m\u001b[32m326\u001b[39m     dMi, den = \u001b[43mdM\u001b[49m\u001b[43m.\u001b[49m\u001b[43minv_den\u001b[49m\u001b[43m(\u001b[49m\u001b[43m)\u001b[49m\n\u001b[32m    327\u001b[39m \u001b[38;5;28;01mexcept\u001b[39;00m DMNonInvertibleMatrixError:\n",
      "\u001b[36mFile \u001b[39m\u001b[32m~/.localPython/lib/python3.13/site-packages/sympy/polys/matrices/domainmatrix.py:2743\u001b[39m, in \u001b[36mDomainMatrix.inv_den\u001b[39m\u001b[34m(self, method)\u001b[39m\n\u001b[32m   2742\u001b[39m I = \u001b[38;5;28mself\u001b[39m.eye(\u001b[38;5;28mself\u001b[39m.shape, \u001b[38;5;28mself\u001b[39m.domain)\n\u001b[32m-> \u001b[39m\u001b[32m2743\u001b[39m \u001b[38;5;28;01mreturn\u001b[39;00m \u001b[38;5;28;43mself\u001b[39;49m\u001b[43m.\u001b[49m\u001b[43msolve_den\u001b[49m\u001b[43m(\u001b[49m\u001b[43mI\u001b[49m\u001b[43m,\u001b[49m\u001b[43m \u001b[49m\u001b[43mmethod\u001b[49m\u001b[43m=\u001b[49m\u001b[43mmethod\u001b[49m\u001b[43m)\u001b[49m\n",
      "\u001b[36mFile \u001b[39m\u001b[32m~/.localPython/lib/python3.13/site-packages/sympy/polys/matrices/domainmatrix.py:2883\u001b[39m, in \u001b[36mDomainMatrix.solve_den\u001b[39m\u001b[34m(self, b, method)\u001b[39m\n\u001b[32m   2882\u001b[39m \u001b[38;5;28;01melif\u001b[39;00m method == \u001b[33m'\u001b[39m\u001b[33mrref\u001b[39m\u001b[33m'\u001b[39m:\n\u001b[32m-> \u001b[39m\u001b[32m2883\u001b[39m     xnum, xden = \u001b[38;5;28;43mself\u001b[39;49m\u001b[43m.\u001b[49m\u001b[43msolve_den_rref\u001b[49m\u001b[43m(\u001b[49m\u001b[43mb\u001b[49m\u001b[43m)\u001b[49m\n\u001b[32m   2884\u001b[39m \u001b[38;5;28;01melse\u001b[39;00m:\n",
      "\u001b[36mFile \u001b[39m\u001b[32m~/.localPython/lib/python3.13/site-packages/sympy/polys/matrices/domainmatrix.py:2935\u001b[39m, in \u001b[36mDomainMatrix.solve_den_rref\u001b[39m\u001b[34m(self, b)\u001b[39m\n\u001b[32m   2934\u001b[39m \u001b[38;5;28;01mif\u001b[39;00m \u001b[38;5;28mlen\u001b[39m(pivots) != n \u001b[38;5;129;01mor\u001b[39;00m pivots \u001b[38;5;129;01mand\u001b[39;00m pivots[-\u001b[32m1\u001b[39m] >= n:\n\u001b[32m-> \u001b[39m\u001b[32m2935\u001b[39m     \u001b[38;5;28;01mraise\u001b[39;00m DMNonInvertibleMatrixError(\u001b[33m\"\u001b[39m\u001b[33mNon-unique solution.\u001b[39m\u001b[33m\"\u001b[39m)\n\u001b[32m   2937\u001b[39m xnum = Aaug_rref[:n, n:]\n",
      "\u001b[31mDMNonInvertibleMatrixError\u001b[39m: Non-unique solution.",
      "\nDuring handling of the above exception, another exception occurred:\n",
      "\u001b[31mNonInvertibleMatrixError\u001b[39m                  Traceback (most recent call last)",
      "\u001b[36mCell\u001b[39m\u001b[36m \u001b[39m\u001b[32mIn[99]\u001b[39m\u001b[32m, line 4\u001b[39m\n\u001b[32m      2\u001b[39m a,b, c, d = symbols(\u001b[33m'\u001b[39m\u001b[33ma b c d\u001b[39m\u001b[33m'\u001b[39m)\n\u001b[32m      3\u001b[39m M = Matrix([[a, b], [c, d]]).subs({a:\u001b[32m2\u001b[39m, b:\u001b[32m4\u001b[39m, c: \u001b[32m4\u001b[39m, d:\u001b[32m8\u001b[39m})\n\u001b[32m----> \u001b[39m\u001b[32m4\u001b[39m B = \u001b[43mM\u001b[49m\u001b[43m.\u001b[49m\u001b[43minv\u001b[49m\u001b[43m(\u001b[49m\u001b[43m)\u001b[49m\n",
      "\u001b[36mFile \u001b[39m\u001b[32m~/.localPython/lib/python3.13/site-packages/sympy/matrices/matrixbase.py:5223\u001b[39m, in \u001b[36mMatrixBase.inv\u001b[39m\u001b[34m(self, method, iszerofunc, try_block_diag)\u001b[39m\n\u001b[32m   5222\u001b[39m \u001b[38;5;28;01mdef\u001b[39;00m\u001b[38;5;250m \u001b[39m\u001b[34minv\u001b[39m(\u001b[38;5;28mself\u001b[39m, method=\u001b[38;5;28;01mNone\u001b[39;00m, iszerofunc=_iszero, try_block_diag=\u001b[38;5;28;01mFalse\u001b[39;00m):\n\u001b[32m-> \u001b[39m\u001b[32m5223\u001b[39m     \u001b[38;5;28;01mreturn\u001b[39;00m \u001b[43m_inv\u001b[49m\u001b[43m(\u001b[49m\u001b[38;5;28;43mself\u001b[39;49m\u001b[43m,\u001b[49m\u001b[43m \u001b[49m\u001b[43mmethod\u001b[49m\u001b[43m=\u001b[49m\u001b[43mmethod\u001b[49m\u001b[43m,\u001b[49m\u001b[43m \u001b[49m\u001b[43miszerofunc\u001b[49m\u001b[43m=\u001b[49m\u001b[43miszerofunc\u001b[49m\u001b[43m,\u001b[49m\n\u001b[32m   5224\u001b[39m \u001b[43m            \u001b[49m\u001b[43mtry_block_diag\u001b[49m\u001b[43m=\u001b[49m\u001b[43mtry_block_diag\u001b[49m\u001b[43m)\u001b[49m\n",
      "\u001b[36mFile \u001b[39m\u001b[32m~/.localPython/lib/python3.13/site-packages/sympy/matrices/inverse.py:504\u001b[39m, in \u001b[36m_inv\u001b[39m\u001b[34m(M, method, iszerofunc, try_block_diag)\u001b[39m\n\u001b[32m    501\u001b[39m         method = \u001b[33m'\u001b[39m\u001b[33mGE\u001b[39m\u001b[33m'\u001b[39m\n\u001b[32m    503\u001b[39m \u001b[38;5;28;01mif\u001b[39;00m method == \u001b[33m\"\u001b[39m\u001b[33mDM\u001b[39m\u001b[33m\"\u001b[39m:\n\u001b[32m--> \u001b[39m\u001b[32m504\u001b[39m     rv = \u001b[43m_inv_DM\u001b[49m\u001b[43m(\u001b[49m\u001b[43mdM\u001b[49m\u001b[43m)\u001b[49m\n\u001b[32m    505\u001b[39m \u001b[38;5;28;01melif\u001b[39;00m method == \u001b[33m\"\u001b[39m\u001b[33mDMNC\u001b[39m\u001b[33m\"\u001b[39m:\n\u001b[32m    506\u001b[39m     rv = _inv_DM(dM, cancel=\u001b[38;5;28;01mFalse\u001b[39;00m)\n",
      "\u001b[36mFile \u001b[39m\u001b[32m~/.localPython/lib/python3.13/site-packages/sympy/matrices/inverse.py:328\u001b[39m, in \u001b[36m_inv_DM\u001b[39m\u001b[34m(dM, cancel)\u001b[39m\n\u001b[32m    326\u001b[39m     dMi, den = dM.inv_den()\n\u001b[32m    327\u001b[39m \u001b[38;5;28;01mexcept\u001b[39;00m DMNonInvertibleMatrixError:\n\u001b[32m--> \u001b[39m\u001b[32m328\u001b[39m     \u001b[38;5;28;01mraise\u001b[39;00m NonInvertibleMatrixError(\u001b[33m\"\u001b[39m\u001b[33mMatrix det == 0; not invertible.\u001b[39m\u001b[33m\"\u001b[39m)\n\u001b[32m    330\u001b[39m \u001b[38;5;28;01mif\u001b[39;00m use_exact:\n\u001b[32m    331\u001b[39m     dMi = dMi.convert_to(dom)\n",
      "\u001b[31mNonInvertibleMatrixError\u001b[39m: Matrix det == 0; not invertible."
     ]
    }
   ],
   "source": [
    "from sympy import symbols, Matrix\n",
    "a,b, c, d = symbols('a b c d')\n",
    "M = Matrix([[a, b], [c, d]]).subs({a:2, b:4, c: 4, d:8})\n",
    "B = M.inv()"
   ]
  },
  {
   "cell_type": "code",
   "execution_count": 100,
   "id": "d222fa5c-d0d5-4db3-b7a2-3aa28d4ad2ef",
   "metadata": {},
   "outputs": [
    {
     "name": "stdout",
     "output_type": "stream",
     "text": [
      "M =\n",
      "⎡2  4⎤\n",
      "⎢    ⎥\n",
      "⎣4  8⎦\n",
      "M is not invertible. A matrix must be square AND invertible to invert.\n",
      "For example, det|M| cannot be 0. (There must be a unique solution.)\n",
      "Suggestion: Make sure that you input at least 2 datapoints\n",
      "\t    and that at least one of your datapoints is distinct.\n"
     ]
    }
   ],
   "source": [
    "try:\n",
    "    M.inv()\n",
    "except:\n",
    "    print(\"M =\"); pprint(M); print((\"M is not invertible. A matrix must be square AND invertible to invert.\\n\"\n",
    "                                    \"For example, det|M| cannot be 0. (There must be a unique solution.)\\n\"\n",
    "                                    \"Suggestion: Make sure that you input at least 2 datapoints\\n\"\n",
    "                                    \"\\t    and that at least one of your datapoints is distinct.\"))\n",
    "    exit"
   ]
  },
  {
   "cell_type": "code",
   "execution_count": null,
   "id": "c0c4f9ac-cae7-4005-9e6e-22e79c133557",
   "metadata": {},
   "outputs": [],
   "source": []
  }
 ],
 "metadata": {
  "kernelspec": {
   "display_name": "Python 3 (ipykernel)",
   "language": "python",
   "name": "python3"
  },
  "language_info": {
   "codemirror_mode": {
    "name": "ipython",
    "version": 3
   },
   "file_extension": ".py",
   "mimetype": "text/x-python",
   "name": "python",
   "nbconvert_exporter": "python",
   "pygments_lexer": "ipython3",
   "version": "3.13.5"
  }
 },
 "nbformat": 4,
 "nbformat_minor": 5
}
