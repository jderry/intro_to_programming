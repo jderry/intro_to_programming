{
 "cells": [
  {
   "cell_type": "code",
   "execution_count": 10,
   "id": "3fecac64-062a-45f8-a886-1ce15f1e57b7",
   "metadata": {},
   "outputs": [],
   "source": [
    "def ensureColItemsNumbers(collection: list|tuple):\n",
    "    ''' Given a list or tuple of items,\n",
    "        ensure items are ints or floats.\n",
    "        If not, add to badValues dict.\n",
    "        After testing all items, \n",
    "        return True if all items pass;\n",
    "        otherwise, throw assert error\n",
    "        showing badValues dict.\n",
    "    '''\n",
    "    bad_values, isClean = {}, True\n",
    "    for index, value in enumerate(collection):\n",
    "        if not isinstance(value, (int,float)):\n",
    "            isClean = False\n",
    "            bad_values[index] = (value, type(value).__name__)\n",
    "    assert not (bad_values), (\"Input must be lists or tuples of ints or floats:\\n\"\n",
    "                                                \"\\t\\tEach item reads index: (bad value, bad value type)\\n\"\n",
    "                                                     f\"\\t\\tBadValues: {bad_values}\")\n",
    "    return isClean"
   ]
  },
  {
   "cell_type": "code",
   "execution_count": 12,
   "id": "27515479-9b36-41dd-9b8f-4e9c9e475887",
   "metadata": {},
   "outputs": [
    {
     "ename": "AssertionError",
     "evalue": "Input must be lists or tuples of ints or floats:\n\t\tEach item reads index: (bad value, bad value type)\n\t\tBadValues: {2: ('happy', 'str'), 3: ([1, 2, 3], 'list')}",
     "output_type": "error",
     "traceback": [
      "\u001b[31m---------------------------------------------------------------------------\u001b[39m",
      "\u001b[31mAssertionError\u001b[39m                            Traceback (most recent call last)",
      "\u001b[36mCell\u001b[39m\u001b[36m \u001b[39m\u001b[32mIn[12]\u001b[39m\u001b[32m, line 1\u001b[39m\n\u001b[32m----> \u001b[39m\u001b[32m1\u001b[39m \u001b[43mensureColItemsNumbers\u001b[49m\u001b[43m(\u001b[49m\u001b[43m[\u001b[49m\u001b[32;43m1\u001b[39;49m\u001b[43m,\u001b[49m\u001b[43m \u001b[49m\u001b[32;43m3.14\u001b[39;49m\u001b[43m,\u001b[49m\u001b[43m \u001b[49m\u001b[33;43m'\u001b[39;49m\u001b[33;43mhappy\u001b[39;49m\u001b[33;43m'\u001b[39;49m\u001b[43m,\u001b[49m\u001b[43m \u001b[49m\u001b[43m[\u001b[49m\u001b[32;43m1\u001b[39;49m\u001b[43m,\u001b[49m\u001b[43m \u001b[49m\u001b[32;43m2\u001b[39;49m\u001b[43m,\u001b[49m\u001b[43m \u001b[49m\u001b[32;43m3\u001b[39;49m\u001b[43m]\u001b[49m\u001b[43m]\u001b[49m\u001b[43m)\u001b[49m\n",
      "\u001b[36mCell\u001b[39m\u001b[36m \u001b[39m\u001b[32mIn[10]\u001b[39m\u001b[32m, line 15\u001b[39m, in \u001b[36mensureColItemsNumbers\u001b[39m\u001b[34m(collection)\u001b[39m\n\u001b[32m     13\u001b[39m         isClean = \u001b[38;5;28;01mFalse\u001b[39;00m\n\u001b[32m     14\u001b[39m         bad_values[index] = (value, \u001b[38;5;28mtype\u001b[39m(value).\u001b[34m__name__\u001b[39m)\n\u001b[32m---> \u001b[39m\u001b[32m15\u001b[39m \u001b[38;5;28;01massert\u001b[39;00m \u001b[38;5;129;01mnot\u001b[39;00m (bad_values), (\u001b[33m\"\u001b[39m\u001b[33mInput must be lists or tuples of ints or floats:\u001b[39m\u001b[38;5;130;01m\\n\u001b[39;00m\u001b[33m\"\u001b[39m\n\u001b[32m     16\u001b[39m                                             \u001b[33m\"\u001b[39m\u001b[38;5;130;01m\\t\u001b[39;00m\u001b[38;5;130;01m\\t\u001b[39;00m\u001b[33mEach item reads index: (bad value, bad value type)\u001b[39m\u001b[38;5;130;01m\\n\u001b[39;00m\u001b[33m\"\u001b[39m\n\u001b[32m     17\u001b[39m                                                  \u001b[33mf\u001b[39m\u001b[33m\"\u001b[39m\u001b[38;5;130;01m\\t\u001b[39;00m\u001b[38;5;130;01m\\t\u001b[39;00m\u001b[33mBadValues: \u001b[39m\u001b[38;5;132;01m{\u001b[39;00mbad_values\u001b[38;5;132;01m}\u001b[39;00m\u001b[33m\"\u001b[39m)\n\u001b[32m     18\u001b[39m \u001b[38;5;28;01mreturn\u001b[39;00m isClean\n",
      "\u001b[31mAssertionError\u001b[39m: Input must be lists or tuples of ints or floats:\n\t\tEach item reads index: (bad value, bad value type)\n\t\tBadValues: {2: ('happy', 'str'), 3: ([1, 2, 3], 'list')}"
     ]
    }
   ],
   "source": [
    "ensureColItemsNumbers([1, 3.14, 'happy', [1, 2, 3]])"
   ]
  },
  {
   "cell_type": "code",
   "execution_count": null,
   "id": "af6ef3a9-042c-4ddd-bacd-c545aff43fe0",
   "metadata": {},
   "outputs": [],
   "source": []
  }
 ],
 "metadata": {
  "kernelspec": {
   "display_name": "Python 3 (ipykernel)",
   "language": "python",
   "name": "python3"
  },
  "language_info": {
   "codemirror_mode": {
    "name": "ipython",
    "version": 3
   },
   "file_extension": ".py",
   "mimetype": "text/x-python",
   "name": "python",
   "nbconvert_exporter": "python",
   "pygments_lexer": "ipython3",
   "version": "3.13.5"
  }
 },
 "nbformat": 4,
 "nbformat_minor": 5
}
