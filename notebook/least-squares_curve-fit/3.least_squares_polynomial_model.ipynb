{
 "cells": [
  {
   "cell_type": "code",
   "execution_count": 50,
   "id": "4ae46a30-a791-4ca1-b659-24c78eb31117",
   "metadata": {},
   "outputs": [],
   "source": [
    "from sympy import N, pprint, plot, symbols\n",
    "import matplotlib.pyplot as plt"
   ]
  },
  {
   "cell_type": "code",
   "execution_count": 57,
   "id": "40316a4c-5da1-4b37-98a7-886161a6a4bd",
   "metadata": {},
   "outputs": [],
   "source": [
    "# assert M is invertibile for unique solution\n",
    "def poly_model(x: iter, y: iter, degree_n: int) -> str:\n",
    "    ''' Given two iterables of x and y numbers in an integer degree-n polynomial, as well as the highest degree of x,\n",
    "        return least-squares best fit as sympy expression.\n",
    "        >>>lin_model([0, 1, 2, 3], [1, 3, 4, 4])\n",
    "        x + 3/2\n",
    "        >>>N(lin_model([2, 3, 5, 7, 9], [4, 5, 7, 10, 15]), 4) # from sympy import N\n",
    "        1.518x + 0.3049\n",
    "    '''\n",
    "    from sympy import Matrix, symbols, ones\n",
    "    from numpy import array\n",
    "    # garbage filters\n",
    "    assert x and isinstance(x, list|tuple), \"x must be list of lists or tuples of ints or floats\"\n",
    "    assert y and isinstance(y, list|tuple), \"y must be list or tuple of ints or floats\"\n",
    "    bad_values_x, bad_values_y = {}, {}\n",
    "    for index, value in enumerate(x):\n",
    "        if not isinstance(value, (int,float)):\n",
    "            bad_values_x[index] = (value, type(value).__name__)\n",
    "    for index, value in enumerate(y):\n",
    "        if not isinstance(value, (int,float)):\n",
    "            bad_values_y[index] = (value, type(value).__name__)\n",
    "    assert not (bad_values_x or bad_values_y), (\"input must be lists or tuples of ints or floats:\\n\"\n",
    "                                                \"\\t\\teach item reads index: (bad value, bad value type)\\n\"\n",
    "                                                     f\"\\t\\tx-vector: {bad_values_x}\\n\"\n",
    "                                                     f\"\\t\\ty-vector: {bad_values_y}\")\n",
    "    # initialization\n",
    "    y = Matrix(y)\n",
    "    x = array(x) # make x an ndarray so we can use vectorized operations\n",
    "    M = []\n",
    "    for degree in range(degree_n + 1):\n",
    "        M.append(x**degree) \n",
    "    M = Matrix(M).T\n",
    "    # the algorithm: linear algebra least-squares optimizer\n",
    "    # a holds the coefficients of the equation y = a0 + a1 x + a2 x^2...+ an x^n\n",
    "    a = (M.T @ M).inv() @ M.T @ y\n",
    "    # initialize for printing\n",
    "    x = symbols('x')\n",
    "    return a"
   ]
  },
  {
   "cell_type": "code",
   "execution_count": 76,
   "id": "37958ef3-ca25-466e-b6bb-879bcbbdb806",
   "metadata": {},
   "outputs": [
    {
     "name": "stdout",
     "output_type": "stream",
     "text": [
      "coefficient vector\n",
      "\n",
      "⎡-0.398⎤\n",
      "⎢      ⎥\n",
      "⎢0.347 ⎥\n",
      "⎢      ⎥\n",
      "⎣ 16.1 ⎦\n",
      "\n",
      "yields:\n",
      "s   = -0.398 + 0.347*t + (1/2)*16.1*t^2\n",
      "s0  = -0.398 ft\n",
      "v0  = 0.347 ft\\s\n",
      "2*g = 32.1 ft\\s^2\n"
     ]
    }
   ],
   "source": [
    "# acceleration \n",
    "a = N(poly_model(x=[.1, .2, .3, .4, .5], y=[-0.18, 0.31, 1.03, 2.48, 3.73], degree_n=2), 3); print(\"coefficient vector\\n\"); pprint(a)\n",
    "# s = s0 + v0*t + (1/2)*g*t^2\n",
    "# s  = vertical displacement downward\n",
    "# s0 = initial displacement at time t = 0\n",
    "# v0 = initial velocity at time t = 0\n",
    "# g  = acceleration of gravity\n",
    "print((\"\\n\"\n",
    "       \"yields:\\n\"\n",
    "       f\"s   = {a[0]} + {a[1]}*t + (1/2)*{a[2]}*t^2\\n\"\n",
    "       f\"s0  = {a[0]} ft\\n\"\n",
    "       f\"v0  = {a[1]} ft\\s\\n\"\n",
    "       f\"2*g = {2*a[2]} ft\\s^2\"))"
   ]
  },
  {
   "cell_type": "code",
   "execution_count": 46,
   "id": "dffa50c9-6727-49f0-9d3a-328dfbe8b771",
   "metadata": {},
   "outputs": [
    {
     "data": {
      "text/plain": [
       "array([16.07,  0.35, -0.4 ])"
      ]
     },
     "execution_count": 46,
     "metadata": {},
     "output_type": "execute_result"
    }
   ],
   "source": [
    "from numpy import polyfit, round as nround\n",
    "nround(polyfit([.1, .2, .3, .4, .5], [-0.18, 0.31, 1.03, 2.48, 3.73], 2), 2)"
   ]
  },
  {
   "cell_type": "code",
   "execution_count": 75,
   "id": "b4fad99b-db6d-475c-8078-4b40b89fd974",
   "metadata": {},
   "outputs": [
    {
     "data": {
      "image/png": "[encoded data removed]",
      "text/plain": [
       "<Figure size 640x480 with 1 Axes>"
      ]
     },
     "metadata": {},
     "output_type": "display_data"
    },
    {
     "data": {
      "text/plain": [
       "<sympy.plotting.backends.matplotlibbackend.matplotlib.MatplotlibBackend at 0x7073231c0b90>"
      ]
     },
     "execution_count": 75,
     "metadata": {},
     "output_type": "execute_result"
    }
   ],
   "source": [
    "x = symbols('x')\n",
    "fig, ax = plt.subplots()\n",
    "ax.scatter([.1, .2, .3, .4, .5], [-0.18, 0.31, 1.03, 2.48, 3.73])\n",
    "plot(a[0] + a[1]*x + a[2]*x**2, (x, 0, .6), fig=fig, ax=ax)"
   ]
  },
  {
   "cell_type": "code",
   "execution_count": 81,
   "id": "81d75554-93c8-4196-9b73-165e79904bb8",
   "metadata": {},
   "outputs": [
    {
     "data": {
      "text/latex": [
       "$\\displaystyle \\left[\\begin{matrix}\\frac{2245}{199}\\\\- \\frac{1179}{398}\\\\- \\frac{493}{398}\\end{matrix}\\right]$"
      ],
      "text/plain": [
       "Matrix([\n",
       "[ 2245/199],\n",
       "[-1179/398],\n",
       "[ -493/398]])"
      ]
     },
     "execution_count": 81,
     "metadata": {},
     "output_type": "execute_result"
    }
   ],
   "source": [
    "# (2, 0), (3, -8), (5, -35), (7, -70)\n",
    "a = poly_model(x=[2, 3, 5, 7], y=[0, -8, -35, -70], degree_n=2); a"
   ]
  },
  {
   "cell_type": "code",
   "execution_count": 72,
   "id": "4e102c02-f9e4-43f7-aa7d-134c9cea205d",
   "metadata": {},
   "outputs": [
    {
     "data": {
      "text/latex": [
       "$\\displaystyle \\left[\\begin{matrix}11.3\\\\-2.96\\\\-1.24\\end{matrix}\\right]$"
      ],
      "text/plain": [
       "Matrix([\n",
       "[ 11.3],\n",
       "[-2.96],\n",
       "[-1.24]])"
      ]
     },
     "execution_count": 72,
     "metadata": {},
     "output_type": "execute_result"
    }
   ],
   "source": [
    "N(a,3)"
   ]
  },
  {
   "cell_type": "code",
   "execution_count": 80,
   "id": "d392b000-5024-4186-b61f-8193746c8025",
   "metadata": {},
   "outputs": [
    {
     "data": {
      "text/plain": [
       "array([-1.24, -2.96, 11.28])"
      ]
     },
     "execution_count": 80,
     "metadata": {},
     "output_type": "execute_result"
    }
   ],
   "source": [
    "nround(polyfit([2, 3, 5, 7], [0, -8, -35, -70], 2), 2)"
   ]
  },
  {
   "cell_type": "code",
   "execution_count": 82,
   "id": "36321355-546f-41ad-8680-c620a7b7aea0",
   "metadata": {},
   "outputs": [
    {
     "data": {
      "image/png": "[encoded data removed]",
      "text/plain": [
       "<Figure size 640x480 with 1 Axes>"
      ]
     },
     "metadata": {},
     "output_type": "display_data"
    },
    {
     "data": {
      "text/plain": [
       "<sympy.plotting.backends.matplotlibbackend.matplotlib.MatplotlibBackend at 0x707323073110>"
      ]
     },
     "execution_count": 82,
     "metadata": {},
     "output_type": "execute_result"
    }
   ],
   "source": [
    "x = symbols('x')\n",
    "fig, ax = plt.subplots()\n",
    "ax.scatter([2, 3, 5, 7], [0, -8, -35, -70])\n",
    "plot(a[0] + a[1]*x + a[2]*x**2, (x, 1, 8), fig=fig, ax=ax)"
   ]
  },
  {
   "cell_type": "code",
   "execution_count": null,
   "id": "06601ee5-1afd-4ea6-84b2-c8c6730cc50a",
   "metadata": {},
   "outputs": [],
   "source": []
  }
 ],
 "metadata": {
  "kernelspec": {
   "display_name": "Python 3 (ipykernel)",
   "language": "python",
   "name": "python3"
  },
  "language_info": {
   "codemirror_mode": {
    "name": "ipython",
    "version": 3
   },
   "file_extension": ".py",
   "mimetype": "text/x-python",
   "name": "python",
   "nbconvert_exporter": "python",
   "pygments_lexer": "ipython3",
   "version": "3.13.5"
  }
 },
 "nbformat": 4,
 "nbformat_minor": 5
}
