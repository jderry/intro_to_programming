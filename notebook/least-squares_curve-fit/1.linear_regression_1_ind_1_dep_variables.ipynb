{
 "cells": [
  {
   "cell_type": "markdown",
   "id": "667ad0b5-3b8d-4b3d-8f47-20ecd7ecbc18",
   "metadata": {},
   "source": [
    "$\\mathbf{Y} = b_{0} + b_{1} \\mathbf{X}$\n",
    "<p>where: $\\mathbf{Y}$, $\\mathbf{X}$ are column vectors</p>\n",
    "<p>and $b_{0}$, and $b_{1}$ are coefficients.</p>\n",
    "We wish to solve for the coefficients."
   ]
  },
  {
   "cell_type": "markdown",
   "id": "cf418d21-cc6b-4b32-aba8-081be8555406",
   "metadata": {},
   "source": [
    "By a rearrangement of terms, we observe that:\n",
    "<p>$b_{0} = \\mathbf{Y} - b_{1} \\mathbf{X}$</p>"
   ]
  },
  {
   "cell_type": "markdown",
   "id": "dfb9231b-a83c-405c-9d74-873acd5d1d49",
   "metadata": {},
   "source": [
    "<p>and now the exhausting part (which justifies rendering the algorithm into a function) ...</p>\n",
    "<p>$b_{1} = \\frac{n \\sum x y - x \\sum y}{n \\sum x^2 - (\\sum x)^2}$</p>"
   ]
  },
  {
   "cell_type": "markdown",
   "id": "5a3bc829-61d1-4aa7-8e0a-4bd0d62e1a5a",
   "metadata": {},
   "source": [
    "<p>$b_{0} =  \\frac{\\sum{y} - b_{1} \\sum{x}}{n}$</p>"
   ]
  },
  {
   "cell_type": "code",
   "execution_count": 3,
   "id": "6528f2ff-4131-428f-9ddf-deaf1c662822",
   "metadata": {},
   "outputs": [],
   "source": [
    "def slr(X: list|tuple, Y: list|tuple) -> tuple:\n",
    "    ''' Given two lists or tuples of x and y numbers in a linear relationship,\n",
    "        return tuple of coefficients that describe least-squares best fit line.\n",
    "        >>>slr([0, 1, 2, 3], [1, 3, 4, 4])\n",
    "        (1.5, 1.0)\n",
    "        >>>slr([1, 2, 3, 4, 5, 6, 7], [1.5, 3.8, 6.7, 9.0, 11.2, 13.6, 16])\n",
    "        (-0.828571428571429, 2.41428571428571) \n",
    "    '''\n",
    "    # garbage filters\n",
    "    assert X and isinstance(X, list|tuple), \"input must be lists or tuples of ints or floats\"\n",
    "    assert Y and isinstance(Y, list|tuple), \"input must be lists or tuples of ints or floats\"\n",
    "    bad_values_X, bad_values_Y = {}, {}\n",
    "    for index, value in enumerate(x):\n",
    "        if not isinstance(value, (int,float)):\n",
    "            bad_values_X[index] = (value, type(value).__name__)\n",
    "    for index, value in enumerate(y):\n",
    "        if not isinstance(value, (int,float)):\n",
    "            bad_values_Y[index] = (value, type(value).__name__)\n",
    "    assert not (bad_values_X or bad_values_Y), (\"Input must be lists or tuples of ints or floats:\\n\"\n",
    "                                                \"\\t\\tEach item reads index: (bad value, bad value type)\\n\"\n",
    "                                                     f\"\\t\\tX-vector: {bad_values_X}\\n\"\n",
    "                                                     f\"\\t\\tY-vector: {bad_values_Y}\")\n",
    "    \n",
    "    # initialization\n",
    "    n = len(X)\n",
    "    sumX = sum(X)\n",
    "    sumY = sum(Y)\n",
    "    sumXsqr = sum(x**2 for x in X)\n",
    "    sumXY = sum(x * y for x, y in zip(X, Y))\n",
    "    # implementattion of the algorithm\n",
    "    b1 = (n * sumXY - sumX * sumY) / (n * sumXsqr - sumX**2)\n",
    "    b0 = (sumY - b1 * sumX) / n\n",
    "    return b0, b1"
   ]
  },
  {
   "cell_type": "code",
   "execution_count": null,
   "id": "d1a65e5d-ba87-46d1-8a1c-30ff7adc12aa",
   "metadata": {},
   "outputs": [],
   "source": []
  }
 ],
 "metadata": {
  "kernelspec": {
   "display_name": "Python 3 (ipykernel)",
   "language": "python",
   "name": "python3"
  },
  "language_info": {
   "codemirror_mode": {
    "name": "ipython",
    "version": 3
   },
   "file_extension": ".py",
   "mimetype": "text/x-python",
   "name": "python",
   "nbconvert_exporter": "python",
   "pygments_lexer": "ipython3",
   "version": "3.13.5"
  }
 },
 "nbformat": 4,
 "nbformat_minor": 5
}
