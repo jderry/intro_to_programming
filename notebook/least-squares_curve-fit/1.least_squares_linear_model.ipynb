{
 "cells": [
  {
   "cell_type": "code",
   "execution_count": 5,
   "id": "4ae46a30-a791-4ca1-b659-24c78eb31117",
   "metadata": {},
   "outputs": [],
   "source": [
    "from sympy import N, plot, symbols\n",
    "import matplotlib.pyplot as plt"
   ]
  },
  {
   "cell_type": "code",
   "execution_count": 6,
   "id": "40316a4c-5da1-4b37-98a7-886161a6a4bd",
   "metadata": {},
   "outputs": [],
   "source": [
    "def lin_model(x: iter, y: iter) -> str:\n",
    "    ''' Given two iterables of x and y numbers in a linear relationship, return least-squares best fit as sympy expression.\n",
    "        >>>lin_model([0, 1, 2, 3], [1, 3, 4, 4])\n",
    "        x + 3/2\n",
    "        >>>N(lin_model([2, 3, 5, 7, 9], [4, 5, 7, 10, 15]), 4) # from sympy import N\n",
    "        1.518x + 0.3049\n",
    "    '''\n",
    "    from sympy import Matrix, symbols, ones\n",
    "    # garbage filters\n",
    "    assert x and isinstance(x, list|tuple), \"input must be lists or tuples of ints or floats\"\n",
    "    assert y and isinstance(y, list|tuple), \"input must be lists or tuples of ints or floats\"\n",
    "    bad_values_x, bad_values_y = {}, {}\n",
    "    for index, value in enumerate(x):\n",
    "        if not isinstance(value, (int,float)):\n",
    "            bad_values_x[index] = (value, type(value).__name__)\n",
    "    for index, value in enumerate(y):\n",
    "        if not isinstance(value, (int,float)):\n",
    "            bad_values_y[index] = (value, type(value).__name__)\n",
    "    assert not (bad_values_x or bad_values_y), (\"input must be lists or tuples of ints or floats:\\n\"\n",
    "                                                \"\\t\\teach item reads index: (bad value, bad value type)\\n\"\n",
    "                                                     f\"\\t\\tx-vector: {bad_values_x}\\n\"\n",
    "                                                     f\"\\t\\ty-vector: {bad_values_y}\")\n",
    "    # initialization\n",
    "    onesV = ones(1, len(x)) # make onesV the same length as vector x\n",
    "    y = Matrix(y)\n",
    "    M = Matrix([onesV, x]).T\n",
    "    # the algorithm: linear algebra least-squares optimizer\n",
    "    # a holds the coefficients of the equation y = a0 + a1 x\n",
    "    a = (M.T @ M).inv() @ M.T @ y\n",
    "    # initialize for printing\n",
    "    x = symbols('x')\n",
    "    return a[0] + x* a[1]"
   ]
  },
  {
   "cell_type": "code",
   "execution_count": 10,
   "id": "37958ef3-ca25-466e-b6bb-879bcbbdb806",
   "metadata": {},
   "outputs": [
    {
     "data": {
      "image/png": "[encoded data removed]",
      "text/plain": [
       "<Figure size 640x480 with 1 Axes>"
      ]
     },
     "metadata": {},
     "output_type": "display_data"
    },
    {
     "data": {
      "text/plain": [
       "'y = x + 3/2'"
      ]
     },
     "execution_count": 10,
     "metadata": {},
     "output_type": "execute_result"
    }
   ],
   "source": [
    "# show datapoints, least-square line, and equation of least-square line\n",
    "x = symbols('x')\n",
    "fig, ax = plt.subplots()\n",
    "ax.scatter([0, 1, 2, 3], [1, 3, 4, 4])\n",
    "lsl = lin_model([0, 1, 2, 3], [1, 3, 4, 4]) # least-squares line\n",
    "plot(lsl, (x, 0, 3), fig=fig, ax=ax); f\"y = {lsl}\" # plot and f-string"
   ]
  },
  {
   "cell_type": "code",
   "execution_count": 11,
   "id": "dffa50c9-6727-49f0-9d3a-328dfbe8b771",
   "metadata": {},
   "outputs": [
    {
     "data": {
      "text/latex": [
       "$\\displaystyle 1.518 x + 0.3049$"
      ],
      "text/plain": [
       "1.518*x + 0.3049"
      ]
     },
     "execution_count": 11,
     "metadata": {},
     "output_type": "execute_result"
    }
   ],
   "source": [
    "# new datapoints. give coefficients decimal fraction values\n",
    "# (2, 4), (3, 5), (5, 7), (7, 10), (9, 15)\n",
    "N(lin_model([2, 3, 5, 7, 9], [4, 5, 7, 10, 15]), 4) # 4-digit precision"
   ]
  },
  {
   "cell_type": "code",
   "execution_count": 12,
   "id": "a8f9a625-c96b-4f20-87f4-bc24e8502ea0",
   "metadata": {},
   "outputs": [
    {
     "data": {
      "text/plain": [
       "array([1.518, 0.305])"
      ]
     },
     "execution_count": 12,
     "metadata": {},
     "output_type": "execute_result"
    }
   ],
   "source": [
    "# sanity check --- same datapoints passed into numpy polyfit()\n",
    "from numpy import polyfit, round as nround\n",
    "nround(polyfit([2, 3, 5, 7, 9], [4, 5, 7, 10, 15], 1), 3)"
   ]
  }
 ],
 "metadata": {
  "kernelspec": {
   "display_name": "Python 3 (ipykernel)",
   "language": "python",
   "name": "python3"
  },
  "language_info": {
   "codemirror_mode": {
    "name": "ipython",
    "version": 3
   },
   "file_extension": ".py",
   "mimetype": "text/x-python",
   "name": "python",
   "nbconvert_exporter": "python",
   "pygments_lexer": "ipython3",
   "version": "3.13.5"
  }
 },
 "nbformat": 4,
 "nbformat_minor": 5
}
