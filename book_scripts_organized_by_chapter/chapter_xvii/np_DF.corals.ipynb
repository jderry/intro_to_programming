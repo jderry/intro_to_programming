{
 "cells": [
  {
   "cell_type": "code",
   "execution_count": 1,
   "id": "b1edac71-9442-453e-a555-1bd1212214fb",
   "metadata": {},
   "outputs": [],
   "source": [
    "import numpy as np"
   ]
  },
  {
   "cell_type": "code",
   "execution_count": 2,
   "id": "edd9c5c3-cef4-416b-9d79-381f28a05b9d",
   "metadata": {},
   "outputs": [],
   "source": [
    "dataInput = [['sample','spp','island','site','Fam78_CA','Fam78_CA','Fam78_CA','Fam78_CA'],\n",
    "['19','A. hyacinthus','Pohnpei','south reef (Roj island)','170','172','174','0'],\n",
    "['23','A. hyacinthus','Pohnpei','south reef (Roj island)','172','174','0','0'],\n",
    "['24','A. hyacinthus','Pohnpei','south reef (Roj island)','170','176','0','0'],\n",
    "['26','A. hyacinthus','Pohnpei','south reef (Roj island)','172','174','0','0'],\n",
    "['27','A. hyacinthus','Pohnpei','south reef (Roj island)','156','176','0','0'],\n",
    "['30','A. hyacinthus','Pohnpei','south reef (Roj island)','170','176','0','0'],\n",
    "['31','A. hyacinthus','Pohnpei','south reef (Roj island)','172','174','0','0'],\n",
    "['34','A. hyacinthus','Pohnpei','south reef (Roj island)','170','176','0','0']]"
   ]
  },
  {
   "cell_type": "code",
   "execution_count": 3,
   "id": "975351fa-c60f-4edd-b40e-a16672206384",
   "metadata": {},
   "outputs": [],
   "source": [
    "np_dataInput = np.array(dataInput)"
   ]
  },
  {
   "cell_type": "code",
   "execution_count": 5,
   "id": "211089fc-27e1-4579-bc27-b090daeb3a54",
   "metadata": {},
   "outputs": [
    {
     "data": {
      "text/plain": [
       "array(['sample', 'spp', 'island', 'site', 'Fam78_CA', 'Fam78_CA',\n",
       "       'Fam78_CA', 'Fam78_CA'], dtype='<U23')"
      ]
     },
     "execution_count": 5,
     "metadata": {},
     "output_type": "execute_result"
    }
   ],
   "source": [
    "label_line = np_dataInput[0, :]\n",
    "label_line"
   ]
  },
  {
   "cell_type": "code",
   "execution_count": 6,
   "id": "a1d0ab97-3489-47e9-93e3-fb46f254328d",
   "metadata": {},
   "outputs": [
    {
     "data": {
      "text/plain": [
       "array([['19', 'A. hyacinthus', 'Pohnpei', 'south reef (Roj island)'],\n",
       "       ['23', 'A. hyacinthus', 'Pohnpei', 'south reef (Roj island)'],\n",
       "       ['24', 'A. hyacinthus', 'Pohnpei', 'south reef (Roj island)'],\n",
       "       ['26', 'A. hyacinthus', 'Pohnpei', 'south reef (Roj island)'],\n",
       "       ['27', 'A. hyacinthus', 'Pohnpei', 'south reef (Roj island)'],\n",
       "       ['30', 'A. hyacinthus', 'Pohnpei', 'south reef (Roj island)'],\n",
       "       ['31', 'A. hyacinthus', 'Pohnpei', 'south reef (Roj island)'],\n",
       "       ['34', 'A. hyacinthus', 'Pohnpei', 'south reef (Roj island)']],\n",
       "      dtype='<U23')"
      ]
     },
     "execution_count": 6,
     "metadata": {},
     "output_type": "execute_result"
    }
   ],
   "source": [
    "record_id_text = np_dataInput[1:,:4]\n",
    "record_id_text"
   ]
  },
  {
   "cell_type": "code",
   "execution_count": 7,
   "id": "64c44846-83f8-44b4-a2af-cd0e0bb41585",
   "metadata": {},
   "outputs": [
    {
     "data": {
      "text/plain": [
       "array([['170', '172', '174', '0'],\n",
       "       ['172', '174', '0', '0'],\n",
       "       ['170', '176', '0', '0'],\n",
       "       ['172', '174', '0', '0'],\n",
       "       ['156', '176', '0', '0'],\n",
       "       ['170', '176', '0', '0'],\n",
       "       ['172', '174', '0', '0'],\n",
       "       ['170', '176', '0', '0']], dtype='<U23')"
      ]
     },
     "execution_count": 7,
     "metadata": {},
     "output_type": "execute_result"
    }
   ],
   "source": [
    "integer_matrix = np_dataInput[1:, 4:]\n",
    "integer_matrix"
   ]
  },
  {
   "cell_type": "code",
   "execution_count": null,
   "id": "e8c1b8e7-d938-433b-a20b-a9b0bcde9599",
   "metadata": {},
   "outputs": [],
   "source": []
  }
 ],
 "metadata": {
  "kernelspec": {
   "display_name": "Python 3 (ipykernel)",
   "language": "python",
   "name": "python3"
  },
  "language_info": {
   "codemirror_mode": {
    "name": "ipython",
    "version": 3
   },
   "file_extension": ".py",
   "mimetype": "text/x-python",
   "name": "python",
   "nbconvert_exporter": "python",
   "pygments_lexer": "ipython3",
   "version": "3.12.5"
  }
 },
 "nbformat": 4,
 "nbformat_minor": 5
}
