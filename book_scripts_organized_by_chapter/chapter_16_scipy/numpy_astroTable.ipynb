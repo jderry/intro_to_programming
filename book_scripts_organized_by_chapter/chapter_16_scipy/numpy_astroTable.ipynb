{
 "cells": [
  {
   "cell_type": "code",
   "execution_count": null,
   "id": "1dbc79ad-6ab8-4ea7-a942-ed01099fd4e1",
   "metadata": {},
   "outputs": [],
   "source": [
    "import os\n",
    "home_dir = os.path.expanduser('~')"
   ]
  },
  {
   "cell_type": "code",
   "execution_count": null,
   "id": "6d7b4caa-cd1d-43d4-99dd-e78836379c65",
   "metadata": {},
   "outputs": [],
   "source": [
    "# we import from numpy all the functions we need\n",
    "# then we read the contents of the hygdata file\n",
    "# into an ndarray that we call 'astroTable'\n",
    "from numpy import loadtxt, savetxt, deg2rad, vstack, sin, cos\n",
    "astroTable = loadtxt(home_dir + '/datafile/hygdata_v41.csv',\\\n",
    "                     delimiter=',', skiprows=1, dtype=str)"
   ]
  },
  {
   "cell_type": "code",
   "execution_count": null,
   "id": "a4b32463-b8b6-407f-aeec-d6df61ba1996",
   "metadata": {},
   "outputs": [],
   "source": [
    "# ra, dec, r columns are in index positions 7, 8, 9\n",
    "# we extract them as a submatrix we call 'sphCoor'\n",
    "sphCoor = astroTable[:, 7:9+1].astype(float)"
   ]
  },
  {
   "cell_type": "code",
   "execution_count": null,
   "id": "c10e5528-2e8a-48d6-a51f-1930937ec088",
   "metadata": {},
   "outputs": [],
   "source": [
    "# ra is in decimal hours & dec in decimal degrees\n",
    "# we convert ra to degrees, and ra & dec to radians\n",
    "# because numpy uses radians\n",
    "ra = deg2rad(15 * sphCoor[:, 0])\n",
    "dec = deg2rad(sphCoor[:, 1])\n",
    "r = sphCoor[:, 2]"
   ]
  },
  {
   "cell_type": "code",
   "execution_count": null,
   "id": "2731797b-129b-43a9-8be7-7790af504c08",
   "metadata": {},
   "outputs": [],
   "source": [
    "# the linear algebra operations\n",
    "# to convert spherical coordinates\n",
    "# to rectangular coordinates\n",
    "x = cos(ra) * cos(dec) * r\n",
    "y = sin(ra) * r\n",
    "z = cos(ra) * sin(dec) * r"
   ]
  },
  {
   "cell_type": "code",
   "execution_count": null,
   "id": "5099bddf-b0ff-45ee-b6c1-60dafbe85afd",
   "metadata": {},
   "outputs": [],
   "source": [
    "# writing out the x, y, z vectors\n",
    "# as column vectors to a csv file\n",
    "rectCoor = vstack((x, y, z)).T\n",
    "savetxt(home_dir + '/datafile/rectCoor.csv',\\\n",
    "         rectCoor, fmt=\"%15.7f\", delimiter=',')"
   ]
  },
  {
   "cell_type": "code",
   "execution_count": null,
   "id": "6fce52b2-db17-4d1c-b663-0e1ce5936fd9",
   "metadata": {},
   "outputs": [],
   "source": []
  }
 ],
 "metadata": {
  "kernelspec": {
   "display_name": "Python 3 (ipykernel)",
   "language": "python",
   "name": "python3"
  },
  "language_info": {
   "codemirror_mode": {
    "name": "ipython",
    "version": 3
   },
   "file_extension": ".py",
   "mimetype": "text/x-python",
   "name": "python",
   "nbconvert_exporter": "python",
   "pygments_lexer": "ipython3",
   "version": "3.12.5"
  }
 },
 "nbformat": 4,
 "nbformat_minor": 5
}
