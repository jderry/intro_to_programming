{
 "cells": [
  {
   "cell_type": "code",
   "execution_count": null,
   "id": "2327a18c-e09b-4f7a-b73e-87175a329422",
   "metadata": {},
   "outputs": [],
   "source": [
    "import os\n",
    "home_dir = os.path.expanduser('~')\n",
    "\n",
    "# first, we read in the contents of the hewitsoni_males file\n",
    "with open(home_dir + '/datafile/hewitsoni_males.txt') as inFile:\n",
    "    LoS = inFile.read().splitlines()\n",
    "    LoL = []\n",
    "    for record in LoS:\n",
    "        LoL.append(record.split())\n",
    "# second, we create an edge_list_LoL\n",
    "with open(home_dir + '/edge_list.txt', 'w') as outFile:\n",
    "    edge_list_LoL = []\n",
    "    for index in range(len(LoL)-1):\n",
    "        if LoL[index][0] == LoL[index+1][0]:\n",
    "            record = [LoL[index][1],\\\n",
    "                      LoL[index+1][1],\\\n",
    "                      LoL[index][0]]\n",
    "            edge_list_LoL.append(record)\n",
    "            \n",
    "\n"
   ]
  },
  {
   "cell_type": "code",
   "execution_count": null,
   "id": "7320d60f-ce70-40e4-8958-51eb53c49273",
   "metadata": {},
   "outputs": [],
   "source": [
    "import networkx as nx"
   ]
  },
  {
   "cell_type": "code",
   "execution_count": null,
   "id": "c3e03065-b274-439b-95ec-95cde350d7a3",
   "metadata": {},
   "outputs": [],
   "source": [
    "# each butterfly's recorded journey forms a separate graph.\n",
    "# to work with all of them, we must use a multigraph object\n",
    "G = nx.MultiGraph()\n",
    "# we add each edge to the multigraph.\n",
    "# a butterfly's number is the weight of each recorded edge\n",
    "G.add_weighted_edges_from(edge_list_LoL, weight='specimen')"
   ]
  },
  {
   "cell_type": "code",
   "execution_count": null,
   "id": "d3e64582-ca07-493f-8ba3-7a8d4c510687",
   "metadata": {},
   "outputs": [],
   "source": [
    "list(G.edges(data=True))"
   ]
  },
  {
   "cell_type": "code",
   "execution_count": null,
   "id": "e0fc0cb4-9382-46c9-b676-735a5db3531c",
   "metadata": {},
   "outputs": [],
   "source": [
    "# we can find how many times stations form edges\n",
    "# using the .degree() method\n",
    "# we can sort on the value for each edge to determine\n",
    "# which stations were most visited.\n",
    "# sorted() returns a list\n",
    "sortedDegreeCnt =\\\n",
    "   sorted(dict(G.degree()).items(), key=lambda x:x[1])\n",
    "# we coerce the list into a dictionary\n",
    "sortDict = dict(sortedDegreeCnt)\n",
    "# the nodes' degrees (node:degree) sorted in ascending order\n",
    "print(sortDict)"
   ]
  },
  {
   "cell_type": "code",
   "execution_count": null,
   "id": "4502f3d4-502a-414f-a297-525564fe21a4",
   "metadata": {},
   "outputs": [],
   "source": [
    "# we can verify the value of nectar station '690'.\n",
    "dict(G.degree())['690']"
   ]
  },
  {
   "cell_type": "code",
   "execution_count": null,
   "id": "9ccb11f1-1fb3-4691-ae40-d89424963d90",
   "metadata": {},
   "outputs": [],
   "source": []
  }
 ],
 "metadata": {
  "kernelspec": {
   "display_name": "Python 3 (ipykernel)",
   "language": "python",
   "name": "python3"
  },
  "language_info": {
   "codemirror_mode": {
    "name": "ipython",
    "version": 3
   },
   "file_extension": ".py",
   "mimetype": "text/x-python",
   "name": "python",
   "nbconvert_exporter": "python",
   "pygments_lexer": "ipython3",
   "version": "3.12.5"
  }
 },
 "nbformat": 4,
 "nbformat_minor": 5
}
